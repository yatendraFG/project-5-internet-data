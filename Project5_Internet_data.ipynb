{
 "cells": [
  {
   "cell_type": "code",
   "execution_count": 3,
   "metadata": {
    "id": "CLZe3u2q29Q2"
   },
   "outputs": [],
   "source": [
    "import pandas as pd\n",
    "import numpy as np\n",
    "import matplotlib.pyplot as plt\n",
    "import seaborn as sns"
   ]
  },
  {
   "cell_type": "code",
   "execution_count": 4,
   "metadata": {
    "colab": {
     "base_uri": "https://localhost:8080/"
    },
    "id": "PPSguo9F29VP",
    "outputId": "406093ee-b60b-48ca-a917-044be2d814ef"
   },
   "outputs": [
    {
     "name": "stdout",
     "output_type": "stream",
     "text": [
      "(150001, 55)\n"
     ]
    }
   ],
   "source": [
    "import pandas as pd\n",
    "\n",
    "# Try to read the CSV, skipping bad lines\n",
    "dataset = pd.read_csv('telcom_data.csv', on_bad_lines='skip')  # or 'warn' to print warnings\n",
    "\n",
    "# Optional: Print the shape to check if rows were skipped\n",
    "print(dataset.shape)"
   ]
  },
  {
   "cell_type": "code",
   "execution_count": 5,
   "metadata": {
    "colab": {
     "base_uri": "https://localhost:8080/",
     "height": 280
    },
    "id": "zGJM8nsS29X-",
    "outputId": "9498ac85-7eac-4dc6-9e3d-6b9c97c01b94"
   },
   "outputs": [
    {
     "data": {
      "text/html": [
       "<div>\n",
       "<style scoped>\n",
       "    .dataframe tbody tr th:only-of-type {\n",
       "        vertical-align: middle;\n",
       "    }\n",
       "\n",
       "    .dataframe tbody tr th {\n",
       "        vertical-align: top;\n",
       "    }\n",
       "\n",
       "    .dataframe thead th {\n",
       "        text-align: right;\n",
       "    }\n",
       "</style>\n",
       "<table border=\"1\" class=\"dataframe\">\n",
       "  <thead>\n",
       "    <tr style=\"text-align: right;\">\n",
       "      <th></th>\n",
       "      <th>Bearer Id</th>\n",
       "      <th>Start</th>\n",
       "      <th>Start ms</th>\n",
       "      <th>End</th>\n",
       "      <th>End ms</th>\n",
       "      <th>Dur. (ms)</th>\n",
       "      <th>IMSI</th>\n",
       "      <th>MSISDN/Number</th>\n",
       "      <th>IMEI</th>\n",
       "      <th>Last Location Name</th>\n",
       "      <th>...</th>\n",
       "      <th>Youtube DL (Bytes)</th>\n",
       "      <th>Youtube UL (Bytes)</th>\n",
       "      <th>Netflix DL (Bytes)</th>\n",
       "      <th>Netflix UL (Bytes)</th>\n",
       "      <th>Gaming DL (Bytes)</th>\n",
       "      <th>Gaming UL (Bytes)</th>\n",
       "      <th>Other DL (Bytes)</th>\n",
       "      <th>Other UL (Bytes)</th>\n",
       "      <th>Total UL (Bytes)</th>\n",
       "      <th>Total DL (Bytes)</th>\n",
       "    </tr>\n",
       "  </thead>\n",
       "  <tbody>\n",
       "    <tr>\n",
       "      <th>0</th>\n",
       "      <td>1.311450e+19</td>\n",
       "      <td>4/4/2019 12:01</td>\n",
       "      <td>770.0</td>\n",
       "      <td>4/25/2019 14:35</td>\n",
       "      <td>662.0</td>\n",
       "      <td>1823652.0</td>\n",
       "      <td>2.082010e+14</td>\n",
       "      <td>3.366496e+10</td>\n",
       "      <td>3.552120e+13</td>\n",
       "      <td>9.16457E+15</td>\n",
       "      <td>...</td>\n",
       "      <td>15854611.0</td>\n",
       "      <td>2501332.0</td>\n",
       "      <td>8198936.0</td>\n",
       "      <td>9656251.0</td>\n",
       "      <td>278082303.0</td>\n",
       "      <td>14344150.0</td>\n",
       "      <td>171744450.0</td>\n",
       "      <td>8814393.0</td>\n",
       "      <td>36749741.0</td>\n",
       "      <td>308879636.0</td>\n",
       "    </tr>\n",
       "    <tr>\n",
       "      <th>1</th>\n",
       "      <td>1.311450e+19</td>\n",
       "      <td>4/9/2019 13:04</td>\n",
       "      <td>235.0</td>\n",
       "      <td>4/25/2019 8:15</td>\n",
       "      <td>606.0</td>\n",
       "      <td>1365104.0</td>\n",
       "      <td>2.082020e+14</td>\n",
       "      <td>3.368185e+10</td>\n",
       "      <td>3.579400e+13</td>\n",
       "      <td>L77566A</td>\n",
       "      <td>...</td>\n",
       "      <td>20247395.0</td>\n",
       "      <td>19111729.0</td>\n",
       "      <td>18338413.0</td>\n",
       "      <td>17227132.0</td>\n",
       "      <td>608750074.0</td>\n",
       "      <td>1170709.0</td>\n",
       "      <td>526904238.0</td>\n",
       "      <td>15055145.0</td>\n",
       "      <td>53800391.0</td>\n",
       "      <td>653384965.0</td>\n",
       "    </tr>\n",
       "    <tr>\n",
       "      <th>2</th>\n",
       "      <td>1.311450e+19</td>\n",
       "      <td>4/9/2019 17:42</td>\n",
       "      <td>1.0</td>\n",
       "      <td>4/25/2019 11:58</td>\n",
       "      <td>652.0</td>\n",
       "      <td>1361762.0</td>\n",
       "      <td>2.082000e+14</td>\n",
       "      <td>3.376063e+10</td>\n",
       "      <td>3.528150e+13</td>\n",
       "      <td>D42335A</td>\n",
       "      <td>...</td>\n",
       "      <td>19725661.0</td>\n",
       "      <td>14699576.0</td>\n",
       "      <td>17587794.0</td>\n",
       "      <td>6163408.0</td>\n",
       "      <td>229584621.0</td>\n",
       "      <td>395630.0</td>\n",
       "      <td>410692588.0</td>\n",
       "      <td>4215763.0</td>\n",
       "      <td>27883638.0</td>\n",
       "      <td>279807335.0</td>\n",
       "    </tr>\n",
       "  </tbody>\n",
       "</table>\n",
       "<p>3 rows × 55 columns</p>\n",
       "</div>"
      ],
      "text/plain": [
       "      Bearer Id           Start  Start ms              End  End ms  Dur. (ms)  \\\n",
       "0  1.311450e+19  4/4/2019 12:01     770.0  4/25/2019 14:35   662.0  1823652.0   \n",
       "1  1.311450e+19  4/9/2019 13:04     235.0   4/25/2019 8:15   606.0  1365104.0   \n",
       "2  1.311450e+19  4/9/2019 17:42       1.0  4/25/2019 11:58   652.0  1361762.0   \n",
       "\n",
       "           IMSI  MSISDN/Number          IMEI Last Location Name  ...  \\\n",
       "0  2.082010e+14   3.366496e+10  3.552120e+13        9.16457E+15  ...   \n",
       "1  2.082020e+14   3.368185e+10  3.579400e+13            L77566A  ...   \n",
       "2  2.082000e+14   3.376063e+10  3.528150e+13            D42335A  ...   \n",
       "\n",
       "   Youtube DL (Bytes)  Youtube UL (Bytes)  Netflix DL (Bytes)  \\\n",
       "0          15854611.0           2501332.0           8198936.0   \n",
       "1          20247395.0          19111729.0          18338413.0   \n",
       "2          19725661.0          14699576.0          17587794.0   \n",
       "\n",
       "   Netflix UL (Bytes)  Gaming DL (Bytes)  Gaming UL (Bytes)  Other DL (Bytes)  \\\n",
       "0           9656251.0        278082303.0         14344150.0       171744450.0   \n",
       "1          17227132.0        608750074.0          1170709.0       526904238.0   \n",
       "2           6163408.0        229584621.0           395630.0       410692588.0   \n",
       "\n",
       "   Other UL (Bytes)  Total UL (Bytes)  Total DL (Bytes)  \n",
       "0         8814393.0        36749741.0       308879636.0  \n",
       "1        15055145.0        53800391.0       653384965.0  \n",
       "2         4215763.0        27883638.0       279807335.0  \n",
       "\n",
       "[3 rows x 55 columns]"
      ]
     },
     "execution_count": 5,
     "metadata": {},
     "output_type": "execute_result"
    }
   ],
   "source": [
    "dataset.head(3)"
   ]
  },
  {
   "cell_type": "code",
   "execution_count": 6,
   "metadata": {
    "colab": {
     "base_uri": "https://localhost:8080/"
    },
    "id": "xz0v5ImSRJvD",
    "outputId": "ad9a3b33-761c-40c7-8dcd-2c56eae43522"
   },
   "outputs": [],
   "source": [
    "# row_visual = pd.set_option('display.max_rows', None)\n",
    "# columns_visual= pd.set_option('display.max_columns', None)\n",
    "# columns_visual= pd.set_option('display.max_columns', None)\n",
    "# print(columns_visual)"
   ]
  },
  {
   "cell_type": "code",
   "execution_count": 7,
   "metadata": {
    "colab": {
     "base_uri": "https://localhost:8080/"
    },
    "id": "-I_rOUZKVfBo",
    "outputId": "6c7c7958-3779-485f-93ef-463576dd366b"
   },
   "outputs": [
    {
     "data": {
      "text/plain": [
       "(150001, 55)"
      ]
     },
     "execution_count": 7,
     "metadata": {},
     "output_type": "execute_result"
    }
   ],
   "source": [
    "dataset.shape"
   ]
  },
  {
   "cell_type": "code",
   "execution_count": 8,
   "metadata": {
    "colab": {
     "base_uri": "https://localhost:8080/",
     "height": 372
    },
    "id": "BPrE53PK29a8",
    "outputId": "ae6bb9c1-98a8-4dc2-ec15-013d78b175ec"
   },
   "outputs": [
    {
     "data": {
      "text/html": [
       "<div>\n",
       "<style scoped>\n",
       "    .dataframe tbody tr th:only-of-type {\n",
       "        vertical-align: middle;\n",
       "    }\n",
       "\n",
       "    .dataframe tbody tr th {\n",
       "        vertical-align: top;\n",
       "    }\n",
       "\n",
       "    .dataframe thead th {\n",
       "        text-align: right;\n",
       "    }\n",
       "</style>\n",
       "<table border=\"1\" class=\"dataframe\">\n",
       "  <thead>\n",
       "    <tr style=\"text-align: right;\">\n",
       "      <th></th>\n",
       "      <th>Bearer Id</th>\n",
       "      <th>Start ms</th>\n",
       "      <th>End ms</th>\n",
       "      <th>Dur. (ms)</th>\n",
       "      <th>IMSI</th>\n",
       "      <th>MSISDN/Number</th>\n",
       "      <th>IMEI</th>\n",
       "      <th>Avg RTT DL (ms)</th>\n",
       "      <th>Avg RTT UL (ms)</th>\n",
       "      <th>Avg Bearer TP DL (kbps)</th>\n",
       "      <th>...</th>\n",
       "      <th>Youtube DL (Bytes)</th>\n",
       "      <th>Youtube UL (Bytes)</th>\n",
       "      <th>Netflix DL (Bytes)</th>\n",
       "      <th>Netflix UL (Bytes)</th>\n",
       "      <th>Gaming DL (Bytes)</th>\n",
       "      <th>Gaming UL (Bytes)</th>\n",
       "      <th>Other DL (Bytes)</th>\n",
       "      <th>Other UL (Bytes)</th>\n",
       "      <th>Total UL (Bytes)</th>\n",
       "      <th>Total DL (Bytes)</th>\n",
       "    </tr>\n",
       "  </thead>\n",
       "  <tbody>\n",
       "    <tr>\n",
       "      <th>count</th>\n",
       "      <td>1.490100e+05</td>\n",
       "      <td>150000.000000</td>\n",
       "      <td>150000.000000</td>\n",
       "      <td>1.500000e+05</td>\n",
       "      <td>1.494310e+05</td>\n",
       "      <td>1.489350e+05</td>\n",
       "      <td>1.494290e+05</td>\n",
       "      <td>122172.000000</td>\n",
       "      <td>122189.000000</td>\n",
       "      <td>150000.000000</td>\n",
       "      <td>...</td>\n",
       "      <td>1.500010e+05</td>\n",
       "      <td>1.500010e+05</td>\n",
       "      <td>1.500010e+05</td>\n",
       "      <td>1.500010e+05</td>\n",
       "      <td>1.500010e+05</td>\n",
       "      <td>1.500010e+05</td>\n",
       "      <td>1.500010e+05</td>\n",
       "      <td>1.500010e+05</td>\n",
       "      <td>1.500000e+05</td>\n",
       "      <td>1.500000e+05</td>\n",
       "    </tr>\n",
       "    <tr>\n",
       "      <th>mean</th>\n",
       "      <td>1.013887e+19</td>\n",
       "      <td>499.188200</td>\n",
       "      <td>498.800880</td>\n",
       "      <td>1.046086e+05</td>\n",
       "      <td>2.082017e+14</td>\n",
       "      <td>4.188282e+10</td>\n",
       "      <td>4.847454e+13</td>\n",
       "      <td>109.795706</td>\n",
       "      <td>17.662883</td>\n",
       "      <td>13300.045927</td>\n",
       "      <td>...</td>\n",
       "      <td>1.163407e+07</td>\n",
       "      <td>1.100941e+07</td>\n",
       "      <td>1.162685e+07</td>\n",
       "      <td>1.100175e+07</td>\n",
       "      <td>4.220447e+08</td>\n",
       "      <td>8.288398e+06</td>\n",
       "      <td>4.211005e+08</td>\n",
       "      <td>8.264799e+06</td>\n",
       "      <td>4.112121e+07</td>\n",
       "      <td>4.546434e+08</td>\n",
       "    </tr>\n",
       "    <tr>\n",
       "      <th>std</th>\n",
       "      <td>2.893170e+18</td>\n",
       "      <td>288.611834</td>\n",
       "      <td>288.097653</td>\n",
       "      <td>8.103762e+04</td>\n",
       "      <td>2.149289e+10</td>\n",
       "      <td>2.447443e+12</td>\n",
       "      <td>2.241637e+13</td>\n",
       "      <td>619.782739</td>\n",
       "      <td>84.793524</td>\n",
       "      <td>23971.878541</td>\n",
       "      <td>...</td>\n",
       "      <td>6.710569e+06</td>\n",
       "      <td>6.345423e+06</td>\n",
       "      <td>6.725218e+06</td>\n",
       "      <td>6.359490e+06</td>\n",
       "      <td>2.439675e+08</td>\n",
       "      <td>4.782700e+06</td>\n",
       "      <td>2.432050e+08</td>\n",
       "      <td>4.769004e+06</td>\n",
       "      <td>1.127639e+07</td>\n",
       "      <td>2.441429e+08</td>\n",
       "    </tr>\n",
       "    <tr>\n",
       "      <th>min</th>\n",
       "      <td>6.917540e+18</td>\n",
       "      <td>0.000000</td>\n",
       "      <td>0.000000</td>\n",
       "      <td>7.142000e+03</td>\n",
       "      <td>2.040470e+14</td>\n",
       "      <td>3.360100e+10</td>\n",
       "      <td>4.400150e+11</td>\n",
       "      <td>0.000000</td>\n",
       "      <td>0.000000</td>\n",
       "      <td>0.000000</td>\n",
       "      <td>...</td>\n",
       "      <td>5.300000e+01</td>\n",
       "      <td>1.050000e+02</td>\n",
       "      <td>4.200000e+01</td>\n",
       "      <td>3.500000e+01</td>\n",
       "      <td>2.516000e+03</td>\n",
       "      <td>5.900000e+01</td>\n",
       "      <td>3.290000e+03</td>\n",
       "      <td>1.480000e+02</td>\n",
       "      <td>2.866892e+06</td>\n",
       "      <td>7.114041e+06</td>\n",
       "    </tr>\n",
       "    <tr>\n",
       "      <th>25%</th>\n",
       "      <td>7.349880e+18</td>\n",
       "      <td>250.000000</td>\n",
       "      <td>251.000000</td>\n",
       "      <td>5.744050e+04</td>\n",
       "      <td>2.082010e+14</td>\n",
       "      <td>3.365130e+10</td>\n",
       "      <td>3.546070e+13</td>\n",
       "      <td>32.000000</td>\n",
       "      <td>2.000000</td>\n",
       "      <td>43.000000</td>\n",
       "      <td>...</td>\n",
       "      <td>5.833501e+06</td>\n",
       "      <td>5.517965e+06</td>\n",
       "      <td>5.777156e+06</td>\n",
       "      <td>5.475981e+06</td>\n",
       "      <td>2.104733e+08</td>\n",
       "      <td>4.128476e+06</td>\n",
       "      <td>2.101869e+08</td>\n",
       "      <td>4.145943e+06</td>\n",
       "      <td>3.322201e+07</td>\n",
       "      <td>2.431068e+08</td>\n",
       "    </tr>\n",
       "    <tr>\n",
       "      <th>50%</th>\n",
       "      <td>7.349880e+18</td>\n",
       "      <td>499.000000</td>\n",
       "      <td>500.000000</td>\n",
       "      <td>8.639900e+04</td>\n",
       "      <td>2.082020e+14</td>\n",
       "      <td>3.366371e+10</td>\n",
       "      <td>3.572200e+13</td>\n",
       "      <td>45.000000</td>\n",
       "      <td>5.000000</td>\n",
       "      <td>63.000000</td>\n",
       "      <td>...</td>\n",
       "      <td>1.161602e+07</td>\n",
       "      <td>1.101345e+07</td>\n",
       "      <td>1.164222e+07</td>\n",
       "      <td>1.099638e+07</td>\n",
       "      <td>4.234081e+08</td>\n",
       "      <td>8.291208e+06</td>\n",
       "      <td>4.218030e+08</td>\n",
       "      <td>8.267071e+06</td>\n",
       "      <td>4.114331e+07</td>\n",
       "      <td>4.558411e+08</td>\n",
       "    </tr>\n",
       "    <tr>\n",
       "      <th>75%</th>\n",
       "      <td>1.304240e+19</td>\n",
       "      <td>749.000000</td>\n",
       "      <td>750.000000</td>\n",
       "      <td>1.324302e+05</td>\n",
       "      <td>2.082020e+14</td>\n",
       "      <td>3.368349e+10</td>\n",
       "      <td>8.611970e+13</td>\n",
       "      <td>70.000000</td>\n",
       "      <td>15.000000</td>\n",
       "      <td>19710.750000</td>\n",
       "      <td>...</td>\n",
       "      <td>1.744852e+07</td>\n",
       "      <td>1.651556e+07</td>\n",
       "      <td>1.747048e+07</td>\n",
       "      <td>1.650727e+07</td>\n",
       "      <td>6.331742e+08</td>\n",
       "      <td>1.243162e+07</td>\n",
       "      <td>6.316918e+08</td>\n",
       "      <td>1.238415e+07</td>\n",
       "      <td>4.903424e+07</td>\n",
       "      <td>6.657055e+08</td>\n",
       "    </tr>\n",
       "    <tr>\n",
       "      <th>max</th>\n",
       "      <td>1.318650e+19</td>\n",
       "      <td>999.000000</td>\n",
       "      <td>999.000000</td>\n",
       "      <td>1.859336e+06</td>\n",
       "      <td>2.140740e+14</td>\n",
       "      <td>8.823970e+14</td>\n",
       "      <td>9.900120e+13</td>\n",
       "      <td>96923.000000</td>\n",
       "      <td>7120.000000</td>\n",
       "      <td>378160.000000</td>\n",
       "      <td>...</td>\n",
       "      <td>2.325910e+07</td>\n",
       "      <td>2.201196e+07</td>\n",
       "      <td>2.325919e+07</td>\n",
       "      <td>2.201196e+07</td>\n",
       "      <td>8.434419e+08</td>\n",
       "      <td>1.655879e+07</td>\n",
       "      <td>8.434425e+08</td>\n",
       "      <td>1.655882e+07</td>\n",
       "      <td>7.833131e+07</td>\n",
       "      <td>9.029696e+08</td>\n",
       "    </tr>\n",
       "  </tbody>\n",
       "</table>\n",
       "<p>8 rows × 50 columns</p>\n",
       "</div>"
      ],
      "text/plain": [
       "          Bearer Id       Start ms         End ms     Dur. (ms)          IMSI  \\\n",
       "count  1.490100e+05  150000.000000  150000.000000  1.500000e+05  1.494310e+05   \n",
       "mean   1.013887e+19     499.188200     498.800880  1.046086e+05  2.082017e+14   \n",
       "std    2.893170e+18     288.611834     288.097653  8.103762e+04  2.149289e+10   \n",
       "min    6.917540e+18       0.000000       0.000000  7.142000e+03  2.040470e+14   \n",
       "25%    7.349880e+18     250.000000     251.000000  5.744050e+04  2.082010e+14   \n",
       "50%    7.349880e+18     499.000000     500.000000  8.639900e+04  2.082020e+14   \n",
       "75%    1.304240e+19     749.000000     750.000000  1.324302e+05  2.082020e+14   \n",
       "max    1.318650e+19     999.000000     999.000000  1.859336e+06  2.140740e+14   \n",
       "\n",
       "       MSISDN/Number          IMEI  Avg RTT DL (ms)  Avg RTT UL (ms)  \\\n",
       "count   1.489350e+05  1.494290e+05    122172.000000    122189.000000   \n",
       "mean    4.188282e+10  4.847454e+13       109.795706        17.662883   \n",
       "std     2.447443e+12  2.241637e+13       619.782739        84.793524   \n",
       "min     3.360100e+10  4.400150e+11         0.000000         0.000000   \n",
       "25%     3.365130e+10  3.546070e+13        32.000000         2.000000   \n",
       "50%     3.366371e+10  3.572200e+13        45.000000         5.000000   \n",
       "75%     3.368349e+10  8.611970e+13        70.000000        15.000000   \n",
       "max     8.823970e+14  9.900120e+13     96923.000000      7120.000000   \n",
       "\n",
       "       Avg Bearer TP DL (kbps)  ...  Youtube DL (Bytes)  Youtube UL (Bytes)  \\\n",
       "count            150000.000000  ...        1.500010e+05        1.500010e+05   \n",
       "mean              13300.045927  ...        1.163407e+07        1.100941e+07   \n",
       "std               23971.878541  ...        6.710569e+06        6.345423e+06   \n",
       "min                   0.000000  ...        5.300000e+01        1.050000e+02   \n",
       "25%                  43.000000  ...        5.833501e+06        5.517965e+06   \n",
       "50%                  63.000000  ...        1.161602e+07        1.101345e+07   \n",
       "75%               19710.750000  ...        1.744852e+07        1.651556e+07   \n",
       "max              378160.000000  ...        2.325910e+07        2.201196e+07   \n",
       "\n",
       "       Netflix DL (Bytes)  Netflix UL (Bytes)  Gaming DL (Bytes)  \\\n",
       "count        1.500010e+05        1.500010e+05       1.500010e+05   \n",
       "mean         1.162685e+07        1.100175e+07       4.220447e+08   \n",
       "std          6.725218e+06        6.359490e+06       2.439675e+08   \n",
       "min          4.200000e+01        3.500000e+01       2.516000e+03   \n",
       "25%          5.777156e+06        5.475981e+06       2.104733e+08   \n",
       "50%          1.164222e+07        1.099638e+07       4.234081e+08   \n",
       "75%          1.747048e+07        1.650727e+07       6.331742e+08   \n",
       "max          2.325919e+07        2.201196e+07       8.434419e+08   \n",
       "\n",
       "       Gaming UL (Bytes)  Other DL (Bytes)  Other UL (Bytes)  \\\n",
       "count       1.500010e+05      1.500010e+05      1.500010e+05   \n",
       "mean        8.288398e+06      4.211005e+08      8.264799e+06   \n",
       "std         4.782700e+06      2.432050e+08      4.769004e+06   \n",
       "min         5.900000e+01      3.290000e+03      1.480000e+02   \n",
       "25%         4.128476e+06      2.101869e+08      4.145943e+06   \n",
       "50%         8.291208e+06      4.218030e+08      8.267071e+06   \n",
       "75%         1.243162e+07      6.316918e+08      1.238415e+07   \n",
       "max         1.655879e+07      8.434425e+08      1.655882e+07   \n",
       "\n",
       "       Total UL (Bytes)  Total DL (Bytes)  \n",
       "count      1.500000e+05      1.500000e+05  \n",
       "mean       4.112121e+07      4.546434e+08  \n",
       "std        1.127639e+07      2.441429e+08  \n",
       "min        2.866892e+06      7.114041e+06  \n",
       "25%        3.322201e+07      2.431068e+08  \n",
       "50%        4.114331e+07      4.558411e+08  \n",
       "75%        4.903424e+07      6.657055e+08  \n",
       "max        7.833131e+07      9.029696e+08  \n",
       "\n",
       "[8 rows x 50 columns]"
      ]
     },
     "execution_count": 8,
     "metadata": {},
     "output_type": "execute_result"
    }
   ],
   "source": [
    "dataset.describe()"
   ]
  },
  {
   "cell_type": "code",
   "execution_count": 9,
   "metadata": {
    "colab": {
     "base_uri": "https://localhost:8080/"
    },
    "id": "ntzBzSty29ez",
    "outputId": "93038ab9-20af-4a63-a53d-a576cabdba07"
   },
   "outputs": [],
   "source": [
    "#dataset.info()"
   ]
  },
  {
   "cell_type": "code",
   "execution_count": 10,
   "metadata": {
    "colab": {
     "base_uri": "https://localhost:8080/",
     "height": 1000
    },
    "id": "xuZ-bD1i29i3",
    "outputId": "4d698996-cd1f-42da-f2de-6c1dd0f100b9"
   },
   "outputs": [
    {
     "data": {
      "text/plain": [
       "Bearer Id                                      991\n",
       "Start                                            1\n",
       "Start ms                                         1\n",
       "End                                              1\n",
       "End ms                                           1\n",
       "Dur. (ms)                                        1\n",
       "IMSI                                           570\n",
       "MSISDN/Number                                 1066\n",
       "IMEI                                           572\n",
       "Last Location Name                            1153\n",
       "Avg RTT DL (ms)                              27829\n",
       "Avg RTT UL (ms)                              27812\n",
       "Avg Bearer TP DL (kbps)                          1\n",
       "Avg Bearer TP UL (kbps)                          1\n",
       "TCP DL Retrans. Vol (Bytes)                  88146\n",
       "TCP UL Retrans. Vol (Bytes)                  96649\n",
       "DL TP < 50 Kbps (%)                            754\n",
       "50 Kbps < DL TP < 250 Kbps (%)                 754\n",
       "250 Kbps < DL TP < 1 Mbps (%)                  754\n",
       "DL TP > 1 Mbps (%)                             754\n",
       "UL TP < 10 Kbps (%)                            792\n",
       "10 Kbps < UL TP < 50 Kbps (%)                  792\n",
       "50 Kbps < UL TP < 300 Kbps (%)                 792\n",
       "UL TP > 300 Kbps (%)                           792\n",
       "HTTP DL (Bytes)                              81474\n",
       "HTTP UL (Bytes)                              81810\n",
       "Activity Duration DL (ms)                        1\n",
       "Activity Duration UL (ms)                        1\n",
       "Dur. (ms).1                                      1\n",
       "Handset Manufacturer                           572\n",
       "Handset Type                                   572\n",
       "Nb of sec with 125000B < Vol DL              97538\n",
       "Nb of sec with 1250B < Vol UL < 6250B        92894\n",
       "Nb of sec with 31250B < Vol DL < 125000B     93586\n",
       "Nb of sec with 37500B < Vol UL              130254\n",
       "Nb of sec with 6250B < Vol DL < 31250B       88317\n",
       "Nb of sec with 6250B < Vol UL < 37500B      111843\n",
       "Nb of sec with Vol DL < 6250B                  755\n",
       "Nb of sec with Vol UL < 1250B                  793\n",
       "Social Media DL (Bytes)                          0\n",
       "Social Media UL (Bytes)                          0\n",
       "Google DL (Bytes)                                0\n",
       "Google UL (Bytes)                                0\n",
       "Email DL (Bytes)                                 0\n",
       "Email UL (Bytes)                                 0\n",
       "Youtube DL (Bytes)                               0\n",
       "Youtube UL (Bytes)                               0\n",
       "Netflix DL (Bytes)                               0\n",
       "Netflix UL (Bytes)                               0\n",
       "Gaming DL (Bytes)                                0\n",
       "Gaming UL (Bytes)                                0\n",
       "Other DL (Bytes)                                 0\n",
       "Other UL (Bytes)                                 0\n",
       "Total UL (Bytes)                                 1\n",
       "Total DL (Bytes)                                 1\n",
       "dtype: int64"
      ]
     },
     "execution_count": 10,
     "metadata": {},
     "output_type": "execute_result"
    }
   ],
   "source": [
    "dataset.isnull().sum()\n"
   ]
  },
  {
   "cell_type": "code",
   "execution_count": 11,
   "metadata": {
    "colab": {
     "base_uri": "https://localhost:8080/"
    },
    "id": "z9igj-c7SCUc",
    "outputId": "48eced4a-56d5-4703-d168-967dc3d680b7"
   },
   "outputs": [
    {
     "data": {
      "text/plain": [
       "['Bearer Id',\n",
       " 'Start ms',\n",
       " 'End ms',\n",
       " 'Dur. (ms)',\n",
       " 'IMSI',\n",
       " 'MSISDN/Number',\n",
       " 'IMEI',\n",
       " 'Avg RTT DL (ms)',\n",
       " 'Avg RTT UL (ms)',\n",
       " 'Avg Bearer TP DL (kbps)',\n",
       " 'Avg Bearer TP UL (kbps)',\n",
       " 'TCP DL Retrans. Vol (Bytes)',\n",
       " 'TCP UL Retrans. Vol (Bytes)',\n",
       " 'DL TP < 50 Kbps (%)',\n",
       " '50 Kbps < DL TP < 250 Kbps (%)',\n",
       " '250 Kbps < DL TP < 1 Mbps (%)',\n",
       " 'DL TP > 1 Mbps (%)',\n",
       " 'UL TP < 10 Kbps (%)',\n",
       " '10 Kbps < UL TP < 50 Kbps (%)',\n",
       " '50 Kbps < UL TP < 300 Kbps (%)',\n",
       " 'UL TP > 300 Kbps (%)',\n",
       " 'HTTP DL (Bytes)',\n",
       " 'HTTP UL (Bytes)',\n",
       " 'Activity Duration DL (ms)',\n",
       " 'Activity Duration UL (ms)',\n",
       " 'Dur. (ms).1',\n",
       " 'Nb of sec with 125000B < Vol DL',\n",
       " 'Nb of sec with 1250B < Vol UL < 6250B',\n",
       " 'Nb of sec with 31250B < Vol DL < 125000B',\n",
       " 'Nb of sec with 37500B < Vol UL',\n",
       " 'Nb of sec with 6250B < Vol DL < 31250B',\n",
       " 'Nb of sec with 6250B < Vol UL < 37500B',\n",
       " 'Nb of sec with Vol DL < 6250B',\n",
       " 'Nb of sec with Vol UL < 1250B',\n",
       " 'Social Media DL (Bytes)',\n",
       " 'Social Media UL (Bytes)',\n",
       " 'Google DL (Bytes)',\n",
       " 'Google UL (Bytes)',\n",
       " 'Email DL (Bytes)',\n",
       " 'Email UL (Bytes)',\n",
       " 'Youtube DL (Bytes)',\n",
       " 'Youtube UL (Bytes)',\n",
       " 'Netflix DL (Bytes)',\n",
       " 'Netflix UL (Bytes)',\n",
       " 'Gaming DL (Bytes)',\n",
       " 'Gaming UL (Bytes)',\n",
       " 'Other DL (Bytes)',\n",
       " 'Other UL (Bytes)',\n",
       " 'Total UL (Bytes)',\n",
       " 'Total DL (Bytes)']"
      ]
     },
     "execution_count": 11,
     "metadata": {},
     "output_type": "execute_result"
    }
   ],
   "source": [
    "#saparate numarical columns\n",
    "num_cols = [col for col in dataset.columns if dataset[col].dtype != 'O']\n",
    "num_cols"
   ]
  },
  {
   "cell_type": "code",
   "execution_count": 12,
   "metadata": {
    "colab": {
     "base_uri": "https://localhost:8080/"
    },
    "id": "3LAMVoZY29o2",
    "outputId": "08434678-ccf0-436f-a664-cef807d2719e"
   },
   "outputs": [
    {
     "name": "stderr",
     "output_type": "stream",
     "text": [
      "C:\\Users\\Lenovo\\AppData\\Local\\Temp\\ipykernel_11948\\440198586.py:3: FutureWarning: A value is trying to be set on a copy of a DataFrame or Series through chained assignment using an inplace method.\n",
      "The behavior will change in pandas 3.0. This inplace method will never work because the intermediate object on which we are setting values always behaves as a copy.\n",
      "\n",
      "For example, when doing 'df[col].method(value, inplace=True)', try using 'df.method({col: value}, inplace=True)' or df[col] = df[col].method(value) instead, to perform the operation inplace on the original object.\n",
      "\n",
      "\n",
      "  dataset[col].fillna(dataset[col].mean(), inplace=True)\n"
     ]
    }
   ],
   "source": [
    "#handel null value by mean\n",
    "for col in num_cols:\n",
    "    dataset[col].fillna(dataset[col].mean(), inplace=True)"
   ]
  },
  {
   "cell_type": "code",
   "execution_count": 13,
   "metadata": {
    "colab": {
     "base_uri": "https://localhost:8080/"
    },
    "id": "MCJa5m_L29wU",
    "outputId": "248da51e-7d85-47fe-cb05-f2254c6a305e"
   },
   "outputs": [],
   "source": [
    "#saparate categorical columns in dataset\n",
    "cat_cols = [col for col in dataset.columns if dataset[col].dtype == 'O']\n",
    "#cat_cols"
   ]
  },
  {
   "cell_type": "code",
   "execution_count": 14,
   "metadata": {
    "colab": {
     "base_uri": "https://localhost:8080/"
    },
    "id": "CD1_86iSTC6Q",
    "outputId": "08452926-f5df-4153-e378-f5e8cfb7445f"
   },
   "outputs": [
    {
     "name": "stderr",
     "output_type": "stream",
     "text": [
      "C:\\Users\\Lenovo\\AppData\\Local\\Temp\\ipykernel_11948\\3488996373.py:4: FutureWarning: A value is trying to be set on a copy of a DataFrame or Series through chained assignment using an inplace method.\n",
      "The behavior will change in pandas 3.0. This inplace method will never work because the intermediate object on which we are setting values always behaves as a copy.\n",
      "\n",
      "For example, when doing 'df[col].method(value, inplace=True)', try using 'df.method({col: value}, inplace=True)' or df[col] = df[col].method(value) instead, to perform the operation inplace on the original object.\n",
      "\n",
      "\n",
      "  dataset[col].fillna(dataset[col].mode()[0], inplace=True)\n"
     ]
    }
   ],
   "source": [
    "#handel null value by mode in categorical columns\n",
    "for col in cat_cols:\n",
    "    # Use mode instead of median for categorical columns\n",
    "    dataset[col].fillna(dataset[col].mode()[0], inplace=True)"
   ]
  },
  {
   "cell_type": "code",
   "execution_count": 15,
   "metadata": {
    "colab": {
     "base_uri": "https://localhost:8080/",
     "height": 1000
    },
    "id": "Ps9BtvcnTa7H",
    "outputId": "c56e487a-ce99-45bd-c894-0a31f116c332"
   },
   "outputs": [
    {
     "data": {
      "text/plain": [
       "Bearer Id                                   0\n",
       "Start                                       0\n",
       "Start ms                                    0\n",
       "End                                         0\n",
       "End ms                                      0\n",
       "Dur. (ms)                                   0\n",
       "IMSI                                        0\n",
       "MSISDN/Number                               0\n",
       "IMEI                                        0\n",
       "Last Location Name                          0\n",
       "Avg RTT DL (ms)                             0\n",
       "Avg RTT UL (ms)                             0\n",
       "Avg Bearer TP DL (kbps)                     0\n",
       "Avg Bearer TP UL (kbps)                     0\n",
       "TCP DL Retrans. Vol (Bytes)                 0\n",
       "TCP UL Retrans. Vol (Bytes)                 0\n",
       "DL TP < 50 Kbps (%)                         0\n",
       "50 Kbps < DL TP < 250 Kbps (%)              0\n",
       "250 Kbps < DL TP < 1 Mbps (%)               0\n",
       "DL TP > 1 Mbps (%)                          0\n",
       "UL TP < 10 Kbps (%)                         0\n",
       "10 Kbps < UL TP < 50 Kbps (%)               0\n",
       "50 Kbps < UL TP < 300 Kbps (%)              0\n",
       "UL TP > 300 Kbps (%)                        0\n",
       "HTTP DL (Bytes)                             0\n",
       "HTTP UL (Bytes)                             0\n",
       "Activity Duration DL (ms)                   0\n",
       "Activity Duration UL (ms)                   0\n",
       "Dur. (ms).1                                 0\n",
       "Handset Manufacturer                        0\n",
       "Handset Type                                0\n",
       "Nb of sec with 125000B < Vol DL             0\n",
       "Nb of sec with 1250B < Vol UL < 6250B       0\n",
       "Nb of sec with 31250B < Vol DL < 125000B    0\n",
       "Nb of sec with 37500B < Vol UL              0\n",
       "Nb of sec with 6250B < Vol DL < 31250B      0\n",
       "Nb of sec with 6250B < Vol UL < 37500B      0\n",
       "Nb of sec with Vol DL < 6250B               0\n",
       "Nb of sec with Vol UL < 1250B               0\n",
       "Social Media DL (Bytes)                     0\n",
       "Social Media UL (Bytes)                     0\n",
       "Google DL (Bytes)                           0\n",
       "Google UL (Bytes)                           0\n",
       "Email DL (Bytes)                            0\n",
       "Email UL (Bytes)                            0\n",
       "Youtube DL (Bytes)                          0\n",
       "Youtube UL (Bytes)                          0\n",
       "Netflix DL (Bytes)                          0\n",
       "Netflix UL (Bytes)                          0\n",
       "Gaming DL (Bytes)                           0\n",
       "Gaming UL (Bytes)                           0\n",
       "Other DL (Bytes)                            0\n",
       "Other UL (Bytes)                            0\n",
       "Total UL (Bytes)                            0\n",
       "Total DL (Bytes)                            0\n",
       "dtype: int64"
      ]
     },
     "execution_count": 15,
     "metadata": {},
     "output_type": "execute_result"
    }
   ],
   "source": [
    "dataset.isnull().sum()"
   ]
  },
  {
   "cell_type": "markdown",
   "metadata": {
    "id": "i2Qbg0lZN1UL"
   },
   "source": [
    "# 1 User Overview Analysis\n"
   ]
  },
  {
   "cell_type": "markdown",
   "metadata": {
    "id": "3eFKNTxkUjds"
   },
   "source": [
    "Q.1 What are the top 10 handsets used by customers?\n",
    "\n",
    "Q.2 Who are the top 3 handset manufacturers?\n",
    "\n",
    "Q.3 What are the top 5 handsets for each of the top 3 manufacturers?\n",
    "\n",
    "Q.4 What insights can be provided to the marketing team about these trends?\n",
    "\n",
    "Q.5 What is the distribution of user behavior across metrics like session count, duration, and data usage (download/upload)?\n",
    "\n",
    "Q.6 How do different applications (e.g., Social Media, Google, YouTube) contribute to total data usage"
   ]
  },
  {
   "cell_type": "markdown",
   "metadata": {
    "id": "LJ1Ly2J6OMAV"
   },
   "source": [
    "# Identify the Top 10 Handsets Used by Customers."
   ]
  },
  {
   "cell_type": "code",
   "execution_count": 16,
   "metadata": {
    "colab": {
     "base_uri": "https://localhost:8080/",
     "height": 429
    },
    "id": "0-Y9dVjqToUT",
    "outputId": "3d048729-a528-46a1-f5ba-30ce77dd5447"
   },
   "outputs": [
    {
     "data": {
      "text/plain": [
       "Handset Type\n",
       "Huawei B528S-23A                20324\n",
       "Apple iPhone 6S (A1688)          9419\n",
       "Apple iPhone 6 (A1586)           9023\n",
       "undefined                        8987\n",
       "Apple iPhone 7 (A1778)           6326\n",
       "Apple iPhone Se (A1723)          5187\n",
       "Apple iPhone 8 (A1905)           4993\n",
       "Apple iPhone Xr (A2105)          4568\n",
       "Samsung Galaxy S8 (Sm-G950F)     4520\n",
       "Apple iPhone X (A1901)           3813\n",
       "Name: count, dtype: int64"
      ]
     },
     "execution_count": 16,
     "metadata": {},
     "output_type": "execute_result"
    }
   ],
   "source": [
    "#Identify the Top 10 Handsets Used by Customers.\n",
    "top_10_handsets = dataset['Handset Type'].value_counts().head(10)\n",
    "top_10_handsets\n"
   ]
  },
  {
   "cell_type": "code",
   "execution_count": 154,
   "metadata": {
    "colab": {
     "base_uri": "https://localhost:8080/",
     "height": 1000
    },
    "id": "mjg3MwCLZlmH",
    "outputId": "f0678956-3cc7-4ed4-d668-213c93b9dc25"
   },
   "outputs": [
    {
     "data": {
      "text/plain": [
       "([<matplotlib.patches.Wedge at 0x1668e0febd0>,\n",
       "  <matplotlib.patches.Wedge at 0x1668e0fec00>,\n",
       "  <matplotlib.patches.Wedge at 0x1668e0fc860>,\n",
       "  <matplotlib.patches.Wedge at 0x1668e0fcd40>,\n",
       "  <matplotlib.patches.Wedge at 0x1668e0fd640>,\n",
       "  <matplotlib.patches.Wedge at 0x1668e0fd6a0>,\n",
       "  <matplotlib.patches.Wedge at 0x1668e0c06b0>,\n",
       "  <matplotlib.patches.Wedge at 0x1668e0c27b0>,\n",
       "  <matplotlib.patches.Wedge at 0x1668e0c3560>,\n",
       "  <matplotlib.patches.Wedge at 0x16683913f80>],\n",
       " [Text(-0.8098644343806356, 0.7443920995855163, 'Huawei B528S-23A'),\n",
       "  Text(-0.9818699547353692, -0.49591470233091933, 'Apple iPhone 6S (A1688)'),\n",
       "  Text(-0.3794888921248133, -1.032467036158483, 'Apple iPhone 6 (A1586)'),\n",
       "  Text(0.40908955314992235, -1.0211002583016013, 'undefined'),\n",
       "  Text(0.9282996995260375, -0.5901352962328796, 'Apple iPhone 7 (A1778)'),\n",
       "  Text(1.0947742991614724, -0.1070945091753402, 'Apple iPhone Se (A1723)'),\n",
       "  Text(1.0452030756188884, 0.342856428723185, 'Apple iPhone 8 (A1905)'),\n",
       "  Text(0.8368826853335152, 0.7138819026904694, 'Apple iPhone Xr (A2105)'),\n",
       "  Text(0.5220779002670867, 0.9682120976587258, 'Samsung Galaxy S8 (Sm-G950F)'),\n",
       "  Text(0.17008700093273094, 1.0867706345470094, 'Apple iPhone X (A1901)')],\n",
       " [Text(-0.4417442369348921, 0.4060320543193725, '26.3%'),\n",
       "  Text(-0.5355654298556558, -0.27049892854413776, '12.2%'),\n",
       "  Text(-0.20699394115898903, -0.563163837904627, '11.7%'),\n",
       "  Text(0.22313975626359397, -0.5569637772554189, '11.6%'),\n",
       "  Text(0.5063452906505659, -0.32189197976338885, '8.2%'),\n",
       "  Text(0.5971496177244394, -0.05841518682291283, '6.7%'),\n",
       "  Text(0.5701107685193936, 0.1870125974853736, '6.5%'),\n",
       "  Text(0.45648146472737183, 0.38939012874025597, '5.9%'),\n",
       "  Text(0.28476976378204727, 0.5281156896320323, '5.9%'),\n",
       "  Text(0.09277472778148958, 0.5927839824801868, '4.9%')])"
      ]
     },
     "execution_count": 154,
     "metadata": {},
     "output_type": "execute_result"
    },
    {
     "data": {
      "image/png": "[encoded data removed]",
      "text/plain": [
       "<Figure size 1000x600 with 1 Axes>"
      ]
     },
     "metadata": {},
     "output_type": "display_data"
    }
   ],
   "source": [
    "#pie pilot Identify the Top 10 Handsets Used by Customers.\n",
    "plt.figure(figsize=(10, 6))\n",
    "plt.pie(top_10_handsets, labels=top_10_handsets.index, autopct='%1.1f%%', startangle=90)"
   ]
  },
  {
   "cell_type": "markdown",
   "metadata": {
    "id": "Szs6zeamO3sX"
   },
   "source": [
    "Handset Usage Analysis: Key Findings\n",
    "Huawei Dominance:\n",
    "\n",
    "Huawei B528S-23A leads with 19,752 users, showcasing strong market presence.\n",
    "Apple Market Share:\n",
    "\n",
    "Apple accounts for 7 of the top 10 handsets.\n",
    "Popular models: iPhone 6S (9,419 users) and iPhone 6 (9,023 users), indicating opportunities to market upgrades.\n",
    "Data Gaps:\n",
    "\n",
    "8,987 undefined handsets, highlighting incomplete data collection to address.\n",
    "Samsung Presence:\n",
    "\n",
    "Samsung Galaxy S8 (4,520 users) is the only Samsung handset in the top 10.\n",
    "Marketing Insights\n",
    "Apple Loyalty: Target iPhone users with premium services or upgrade campaigns.\n",
    "Huawei Partnerships: Leverage Huawei’s wide user base for collaborations."
   ]
  },
  {
   "cell_type": "markdown",
   "metadata": {},
   "source": [
    "# Identify the Top 3 Handset Manufacturers.\n"
   ]
  },
  {
   "cell_type": "code",
   "execution_count": 18,
   "metadata": {
    "colab": {
     "base_uri": "https://localhost:8080/",
     "height": 655
    },
    "id": "3bKatMtZToYL",
    "outputId": "5d864a49-e137-4259-fdb8-032c55683405"
   },
   "outputs": [
    {
     "data": {
      "text/plain": [
       "([<matplotlib.patches.Wedge at 0x16683b7c680>,\n",
       "  <matplotlib.patches.Wedge at 0x16683b3cbf0>,\n",
       "  <matplotlib.patches.Wedge at 0x16683b7cec0>],\n",
       " [Text(-1.0831093061545922, 0.19202664117595317, 'Apple'),\n",
       "  Text(0.6180424473072195, -0.9099579843742804, 'Samsung'),\n",
       "  Text(0.7880939507498966, 0.7674033651160383, 'Huawei')],\n",
       " [Text(-0.5907868942661411, 0.10474180427779263, '44.4%'),\n",
       "  Text(0.3371140621675742, -0.49634071874960745, '30.2%'),\n",
       "  Text(0.42986942768176173, 0.4185836536996572, '25.4%')])"
      ]
     },
     "execution_count": 18,
     "metadata": {},
     "output_type": "execute_result"
    },
    {
     "data": {
      "image/png": "[encoded data removed]",
      "text/plain": [
       "<Figure size 1000x600 with 1 Axes>"
      ]
     },
     "metadata": {},
     "output_type": "display_data"
    }
   ],
   "source": [
    "top_3_manufacturers = dataset['Handset Manufacturer'].value_counts().head(3)\n",
    "top_3_manufacturers\n",
    "#pie pilot\n",
    "plt.figure(figsize=(10, 6))\n",
    "plt.pie(top_3_manufacturers, labels=top_3_manufacturers.index, autopct='%1.1f%%', startangle=90)\n",
    "# #bar pilot\n",
    "# plt.figure(figsize=(10, 6))\n",
    "# sns.barplot(x=top_3_manufacturers.index, y=top_3_manufacturers.values)"
   ]
  },
  {
   "cell_type": "markdown",
   "metadata": {
    "id": "2Tn1JAPdQD7J"
   },
   "source": []
  },
  {
   "cell_type": "markdown",
   "metadata": {
    "id": "ppBWNdzwWgMM"
   },
   "source": [
    "The pie chart shows the market share distribution among three companies:\n",
    "\n",
    "Huawei dominates with 55.9%.\n",
    "\n",
    "Apple holds a significant share at 28.0%.\n",
    "\n",
    "Samsung has the smallest share at 16.1%.\n",
    "\n",
    "This indicates Huawei's strong market presence compared to its competitors."
   ]
  },
  {
   "cell_type": "markdown",
   "metadata": {
    "id": "yJMJHsjlRI97"
   },
   "source": [
    "# Identify the Top 5 Handsets per Top 3 Handset Manufacturer.\n"
   ]
  },
  {
   "cell_type": "code",
   "execution_count": 19,
   "metadata": {
    "colab": {
     "base_uri": "https://localhost:8080/"
    },
    "id": "SQDKEqlKSuT0",
    "outputId": "99a9c322-5039-4784-848f-bb9f23982003"
   },
   "outputs": [
    {
     "name": "stdout",
     "output_type": "stream",
     "text": [
      "   Handset Manufacturer                    Handset Type  Count\n",
      "0                 Apple         Apple iPhone 6S (A1688)   9419\n",
      "1                 Apple          Apple iPhone 6 (A1586)   9023\n",
      "2                 Apple          Apple iPhone 7 (A1778)   6326\n",
      "3                 Apple         Apple iPhone Se (A1723)   5187\n",
      "4                 Apple          Apple iPhone 8 (A1905)   4993\n",
      "5                Huawei                Huawei B528S-23A  19752\n",
      "6                Huawei                    Huawei E5180   2079\n",
      "7                Huawei  Huawei P20 Lite Huawei Nova 3E   2021\n",
      "8                Huawei                      Huawei P20   1480\n",
      "9                Huawei                  Huawei Y6 2018    997\n",
      "10              Samsung    Samsung Galaxy S8 (Sm-G950F)   4520\n",
      "11              Samsung      Samsung Galaxy A5 Sm-A520F   3724\n",
      "12              Samsung     Samsung Galaxy J5 (Sm-J530)   3696\n",
      "13              Samsung     Samsung Galaxy J3 (Sm-J330)   3484\n",
      "14              Samsung    Samsung Galaxy S7 (Sm-G930X)   3199\n"
     ]
    },
    {
     "name": "stderr",
     "output_type": "stream",
     "text": [
      "C:\\Users\\Lenovo\\AppData\\Local\\Temp\\ipykernel_11948\\3119679599.py:8: DeprecationWarning: DataFrameGroupBy.apply operated on the grouping columns. This behavior is deprecated, and in a future version of pandas the grouping columns will be excluded from the operation. Either pass `include_groups=False` to exclude the groupings or explicitly select the grouping columns after groupby to silence this warning.\n",
      "  top_5_handsets_per_manufacturer = top_manufacturers_data.groupby('Handset Manufacturer').apply(\n"
     ]
    }
   ],
   "source": [
    "# Step 1: Group by 'Handset Manufacturer' and 'Handset Type', then get the value counts\n",
    "handsets_count = dataset.groupby(['Handset Manufacturer', 'Handset Type']).size().reset_index(name='Count')\n",
    "\n",
    "top_manufacturers = handsets_count.groupby('Handset Manufacturer')['Count'].sum().nlargest(3).index\n",
    "\n",
    "top_manufacturers_data = handsets_count[handsets_count['Handset Manufacturer'].isin(top_manufacturers)]\n",
    "\n",
    "top_5_handsets_per_manufacturer = top_manufacturers_data.groupby('Handset Manufacturer').apply(\n",
    "    lambda x: x.nlargest(5, 'Count')\n",
    ").reset_index(drop=True)\n",
    "\n",
    "print(top_5_handsets_per_manufacturer)"
   ]
  },
  {
   "cell_type": "markdown",
   "metadata": {
    "id": "RnTRgkymRpSR"
   },
   "source": [
    "#Apple Devices:\n",
    "\n",
    "Dominates the market with high usage of models like the iPhone 6S (9419 devices) and iPhone 6 (9023 devices).\n",
    "Other popular models include the iPhone 7 (6326), iPhone SE (5187), and iPhone 8 (4993).\n",
    "\n",
    "#Huawei Devices:\n",
    "\n",
    "The Huawei B528S-23A leads with 19,752 devices, significantly surpassing other models.\n",
    "Other notable devices include the Huawei E5180 (2079) and Huawei P20 Lite (2021).\n",
    "\n",
    "#Samsung Devices:\n",
    "\n",
    "Popular models include the Samsung Galaxy S8 (4520 devices), followed by Galaxy A5 (3724), Galaxy J5 (3696), Galaxy J3 (3484), and Galaxy S7 (3199).\n"
   ]
  },
  {
   "cell_type": "markdown",
   "metadata": {
    "id": "2T_xSUqjaWde"
   },
   "source": [
    "# Q.4 What insights can be provided to the marketing team about these trends?\n",
    "#Marketing Insights (In Short):\n",
    "\n"
   ]
  },
  {
   "cell_type": "markdown",
   "metadata": {
    "id": "ShhIu26gUibQ"
   },
   "source": [
    "Apple: Strong brand loyalty; focus on upgrade campaigns for older models like iPhone 6S and 6.\n",
    "\n",
    "Huawei: Dominance of B528S-23A; emphasize its success and explore similar device strategies.\n",
    "\n",
    "Samsung: Balanced portfolio; target both premium and budget segments with Galaxy series.\n",
    "\n",
    "Entry-Level Opportunity: Promote affordable devices (e.g., Huawei Y6, Samsung J-series) in price-sensitive markets.\n",
    "\n",
    "Connectivity Devices: Highlight network-focused models like Huawei B528S-23A in regions with growing internet demand.\n",
    "\n",
    "Localized Campaigns: Tailor strategies based on geographic trends where brands dominate."
   ]
  },
  {
   "cell_type": "markdown",
   "metadata": {
    "id": "eNXZqWFwVJq_"
   },
   "source": [
    "# What is the distribution of user behavior across metrics like session count, duration, and data usage (download/upload)?"
   ]
  },
  {
   "cell_type": "code",
   "execution_count": 20,
   "metadata": {
    "id": "2J3giWLnZLzM"
   },
   "outputs": [],
   "source": [
    "session_count = dataset.groupby('MSISDN/Number')['Bearer Id'].count()\n",
    "#session_count"
   ]
  },
  {
   "cell_type": "markdown",
   "metadata": {
    "id": "OSKFVdeDb9jc"
   },
   "source": [
    "# How do different applications (e.g., Social Media, Google, YouTube) contribute to total data usage?\n"
   ]
  },
  {
   "cell_type": "code",
   "execution_count": 21,
   "metadata": {
    "scrolled": true
   },
   "outputs": [
    {
     "data": {
      "image/png": "[encoded data removed]",
      "text/plain": [
       "<Figure size 600x400 with 1 Axes>"
      ]
     },
     "metadata": {},
     "output_type": "display_data"
    },
    {
     "name": "stdout",
     "output_type": "stream",
     "text": [
      "            Application  Data Usage (MB)\n",
      "5        Gaming (Bytes)     6.156005e+07\n",
      "6         Other (Bytes)     6.142161e+07\n",
      "3       YouTube (Bytes)     3.239198e+06\n",
      "4       Netflix (Bytes)     3.237070e+06\n",
      "1        Google (Bytes)     1.116850e+06\n",
      "2         Email (Bytes)     3.231693e+05\n",
      "0  Social Media (Bytes)     2.615350e+05\n"
     ]
    }
   ],
   "source": [
    "# Step 1: Calculate the total data usage for each application\n",
    "dataset['Social Media (Bytes)'] = dataset['Social Media DL (Bytes)'] + dataset['Social Media UL (Bytes)']\n",
    "dataset['Google (Bytes)'] = dataset['Google DL (Bytes)'] + dataset['Google UL (Bytes)']\n",
    "dataset['Email (Bytes)'] = dataset['Email DL (Bytes)'] + dataset['Email UL (Bytes)']\n",
    "dataset['YouTube (Bytes)'] = dataset['Youtube DL (Bytes)'] + dataset['Youtube UL (Bytes)']\n",
    "dataset['Netflix (Bytes)'] = dataset['Netflix DL (Bytes)'] + dataset['Netflix UL (Bytes)']\n",
    "dataset['Gaming (Bytes)'] = dataset['Gaming DL (Bytes)'] + dataset['Gaming UL (Bytes)']\n",
    "dataset['Other (Bytes)'] = dataset['Other DL (Bytes)'] + dataset['Other UL (Bytes)']\n",
    "\n",
    "# Step 2: Aggregate the data usage into a new DataFrame\n",
    "applications = ['Social Media (Bytes)', 'Google (Bytes)', 'Email (Bytes)',\n",
    "                'YouTube (Bytes)', 'Netflix (Bytes)', 'Gaming (Bytes)', 'Other (Bytes)']\n",
    "\n",
    "data_usage = dataset[applications].sum().reset_index()\n",
    "data_usage.columns = ['Application', 'Data Usage (Bytes)']\n",
    "\n",
    "# Step 3: Convert data usage to MB (1 MB = 1024 * 1024 Bytes)\n",
    "data_usage['Data Usage (MB)'] = data_usage['Data Usage (Bytes)'] / (1024 * 1024)\n",
    "\n",
    "# Step 4: Sort the applications by data usage in descending order\n",
    "data_usage = data_usage.sort_values(by='Data Usage (MB)', ascending=False)\n",
    "\n",
    "# Step 5: Visualize the data using a bar plot\n",
    "plt.figure(figsize=(6, 4))\n",
    "plt.bar(data_usage['Application'], data_usage['Data Usage (MB)'], color='skyblue')\n",
    "plt.title('Total Data Usage per Application', fontsize=14, fontweight='bold')\n",
    "plt.xlabel('Applications', fontsize=12)\n",
    "plt.ylabel('Data Usage (MB)', fontsize=12)\n",
    "plt.xticks(rotation=45, ha='right', fontsize=10)\n",
    "plt.tight_layout()\n",
    "\n",
    "# Show the plot\n",
    "plt.show()\n",
    "\n",
    "# Optional: Print the sorted data\n",
    "print(data_usage[['Application', 'Data Usage (MB)']])\n"
   ]
  },
  {
   "cell_type": "markdown",
   "metadata": {},
   "source": [
    "### Findings from Data Usage Analysis:\n",
    "\n",
    "1. **Gaming**: Consumes the most data, accounting for approximately **61.56 GB**.\n",
    "2. **Other Applications**: Close second in usage with **61.42 GB**.\n",
    "3. **YouTube**: Significant data consumption at **3.24 GB**.\n",
    "4. **Netflix**: Similar to YouTube with **3.24 GB**.\n",
    "5. **Google**: Moderate usage at **1.12 GB**.\n",
    "6. **Email**: Minimal data consumption with **323 MB**.\n",
    "7. **Social Media**: Least data usage among categories at **262 MB**.\n",
    "\n",
    "### Insights:\n",
    "- Gaming and miscellaneous apps dominate total data usage.\n",
    "- Video streaming platforms like YouTube and Netflix also contribute significantly.\n",
    "- Email and social media have a relatively minor impact on overall data consumption."
   ]
  },
  {
   "cell_type": "markdown",
   "metadata": {},
   "source": [
    "# Task 1.1 - User Behavior Overview"
   ]
  },
  {
   "cell_type": "code",
   "execution_count": 22,
   "metadata": {},
   "outputs": [],
   "source": [
    "#Number of xDR sessions\n",
    "xDR_sessions = dataset.groupby('MSISDN/Number')['Bearer Id'].count()\n",
    "#xDR_sessions"
   ]
  },
  {
   "cell_type": "code",
   "execution_count": 23,
   "metadata": {},
   "outputs": [],
   "source": [
    "#Session duration\n",
    "session_duration = dataset.groupby('MSISDN/Number')['Dur. (ms)'].sum()\n",
    "#session_duration"
   ]
  },
  {
   "cell_type": "code",
   "execution_count": 24,
   "metadata": {},
   "outputs": [],
   "source": [
    "#Total download (DL) and upload (UL) data\n",
    "total_download = dataset.groupby('MSISDN/Number')['Total DL (Bytes)'].sum()\n",
    "total_upload = dataset.groupby('MSISDN/Number')['Total UL (Bytes)'].sum()\n",
    "#total_download"
   ]
  },
  {
   "cell_type": "markdown",
   "metadata": {},
   "source": [
    "# Task 1.2 - Exploratory Data Analysis"
   ]
  },
  {
   "cell_type": "code",
   "execution_count": 25,
   "metadata": {},
   "outputs": [],
   "source": [
    "# Analysis of basic metrics (mean, median, etc.) and their importance."
   ]
  },
  {
   "cell_type": "code",
   "execution_count": 26,
   "metadata": {},
   "outputs": [
    {
     "data": {
      "text/html": [
       "<div>\n",
       "<style scoped>\n",
       "    .dataframe tbody tr th:only-of-type {\n",
       "        vertical-align: middle;\n",
       "    }\n",
       "\n",
       "    .dataframe tbody tr th {\n",
       "        vertical-align: top;\n",
       "    }\n",
       "\n",
       "    .dataframe thead th {\n",
       "        text-align: right;\n",
       "    }\n",
       "</style>\n",
       "<table border=\"1\" class=\"dataframe\">\n",
       "  <thead>\n",
       "    <tr style=\"text-align: right;\">\n",
       "      <th></th>\n",
       "      <th>Bearer Id</th>\n",
       "      <th>Start ms</th>\n",
       "      <th>End ms</th>\n",
       "      <th>Dur. (ms)</th>\n",
       "      <th>IMSI</th>\n",
       "      <th>MSISDN/Number</th>\n",
       "      <th>IMEI</th>\n",
       "      <th>Avg RTT DL (ms)</th>\n",
       "      <th>Avg RTT UL (ms)</th>\n",
       "      <th>Avg Bearer TP DL (kbps)</th>\n",
       "      <th>...</th>\n",
       "      <th>Other UL (Bytes)</th>\n",
       "      <th>Total UL (Bytes)</th>\n",
       "      <th>Total DL (Bytes)</th>\n",
       "      <th>Social Media (Bytes)</th>\n",
       "      <th>Google (Bytes)</th>\n",
       "      <th>Email (Bytes)</th>\n",
       "      <th>YouTube (Bytes)</th>\n",
       "      <th>Netflix (Bytes)</th>\n",
       "      <th>Gaming (Bytes)</th>\n",
       "      <th>Other (Bytes)</th>\n",
       "    </tr>\n",
       "  </thead>\n",
       "  <tbody>\n",
       "    <tr>\n",
       "      <th>count</th>\n",
       "      <td>1.500010e+05</td>\n",
       "      <td>150001.000000</td>\n",
       "      <td>150001.000000</td>\n",
       "      <td>1.500010e+05</td>\n",
       "      <td>1.500010e+05</td>\n",
       "      <td>1.500010e+05</td>\n",
       "      <td>1.500010e+05</td>\n",
       "      <td>150001.000000</td>\n",
       "      <td>150001.000000</td>\n",
       "      <td>150001.000000</td>\n",
       "      <td>...</td>\n",
       "      <td>1.500010e+05</td>\n",
       "      <td>1.500010e+05</td>\n",
       "      <td>1.500010e+05</td>\n",
       "      <td>1.500010e+05</td>\n",
       "      <td>1.500010e+05</td>\n",
       "      <td>1.500010e+05</td>\n",
       "      <td>1.500010e+05</td>\n",
       "      <td>1.500010e+05</td>\n",
       "      <td>1.500010e+05</td>\n",
       "      <td>1.500010e+05</td>\n",
       "    </tr>\n",
       "    <tr>\n",
       "      <th>mean</th>\n",
       "      <td>1.013887e+19</td>\n",
       "      <td>499.188200</td>\n",
       "      <td>498.800880</td>\n",
       "      <td>1.046086e+05</td>\n",
       "      <td>2.082017e+14</td>\n",
       "      <td>4.188282e+10</td>\n",
       "      <td>4.847454e+13</td>\n",
       "      <td>109.795706</td>\n",
       "      <td>17.662883</td>\n",
       "      <td>13300.045927</td>\n",
       "      <td>...</td>\n",
       "      <td>8.264799e+06</td>\n",
       "      <td>4.112121e+07</td>\n",
       "      <td>4.546434e+08</td>\n",
       "      <td>1.828250e+06</td>\n",
       "      <td>7.807295e+06</td>\n",
       "      <td>2.259102e+06</td>\n",
       "      <td>2.264348e+07</td>\n",
       "      <td>2.262861e+07</td>\n",
       "      <td>4.303331e+08</td>\n",
       "      <td>4.293653e+08</td>\n",
       "    </tr>\n",
       "    <tr>\n",
       "      <th>std</th>\n",
       "      <td>2.883597e+18</td>\n",
       "      <td>288.610872</td>\n",
       "      <td>288.096693</td>\n",
       "      <td>8.103735e+04</td>\n",
       "      <td>2.145201e+10</td>\n",
       "      <td>2.438731e+12</td>\n",
       "      <td>2.237359e+13</td>\n",
       "      <td>559.342620</td>\n",
       "      <td>76.529933</td>\n",
       "      <td>23971.798635</td>\n",
       "      <td>...</td>\n",
       "      <td>4.769004e+06</td>\n",
       "      <td>1.127635e+07</td>\n",
       "      <td>2.441421e+08</td>\n",
       "      <td>1.035646e+06</td>\n",
       "      <td>3.516420e+06</td>\n",
       "      <td>1.071109e+06</td>\n",
       "      <td>9.246800e+06</td>\n",
       "      <td>9.260820e+06</td>\n",
       "      <td>2.440199e+08</td>\n",
       "      <td>2.432681e+08</td>\n",
       "    </tr>\n",
       "    <tr>\n",
       "      <th>min</th>\n",
       "      <td>6.917540e+18</td>\n",
       "      <td>0.000000</td>\n",
       "      <td>0.000000</td>\n",
       "      <td>7.142000e+03</td>\n",
       "      <td>2.040470e+14</td>\n",
       "      <td>3.360100e+10</td>\n",
       "      <td>4.400150e+11</td>\n",
       "      <td>0.000000</td>\n",
       "      <td>0.000000</td>\n",
       "      <td>0.000000</td>\n",
       "      <td>...</td>\n",
       "      <td>1.480000e+02</td>\n",
       "      <td>2.866892e+06</td>\n",
       "      <td>7.114041e+06</td>\n",
       "      <td>1.563000e+03</td>\n",
       "      <td>4.033000e+04</td>\n",
       "      <td>8.359000e+03</td>\n",
       "      <td>7.890300e+04</td>\n",
       "      <td>9.843200e+04</td>\n",
       "      <td>3.063580e+05</td>\n",
       "      <td>1.490450e+05</td>\n",
       "    </tr>\n",
       "    <tr>\n",
       "      <th>25%</th>\n",
       "      <td>7.349880e+18</td>\n",
       "      <td>250.000000</td>\n",
       "      <td>251.000000</td>\n",
       "      <td>5.744200e+04</td>\n",
       "      <td>2.082010e+14</td>\n",
       "      <td>3.365151e+10</td>\n",
       "      <td>3.546260e+13</td>\n",
       "      <td>35.000000</td>\n",
       "      <td>3.000000</td>\n",
       "      <td>43.000000</td>\n",
       "      <td>...</td>\n",
       "      <td>4.145943e+06</td>\n",
       "      <td>3.322203e+07</td>\n",
       "      <td>2.431072e+08</td>\n",
       "      <td>9.322180e+05</td>\n",
       "      <td>4.943599e+06</td>\n",
       "      <td>1.359344e+06</td>\n",
       "      <td>1.599846e+07</td>\n",
       "      <td>1.597946e+07</td>\n",
       "      <td>2.187279e+08</td>\n",
       "      <td>2.185534e+08</td>\n",
       "    </tr>\n",
       "    <tr>\n",
       "      <th>50%</th>\n",
       "      <td>7.349880e+18</td>\n",
       "      <td>499.000000</td>\n",
       "      <td>500.000000</td>\n",
       "      <td>8.639900e+04</td>\n",
       "      <td>2.082020e+14</td>\n",
       "      <td>3.366380e+10</td>\n",
       "      <td>3.572240e+13</td>\n",
       "      <td>54.000000</td>\n",
       "      <td>7.000000</td>\n",
       "      <td>63.000000</td>\n",
       "      <td>...</td>\n",
       "      <td>8.267071e+06</td>\n",
       "      <td>4.114324e+07</td>\n",
       "      <td>4.558409e+08</td>\n",
       "      <td>1.826471e+06</td>\n",
       "      <td>7.812835e+06</td>\n",
       "      <td>2.263567e+06</td>\n",
       "      <td>2.266177e+07</td>\n",
       "      <td>2.263554e+07</td>\n",
       "      <td>4.316150e+08</td>\n",
       "      <td>4.299865e+08</td>\n",
       "    </tr>\n",
       "    <tr>\n",
       "      <th>75%</th>\n",
       "      <td>1.304240e+19</td>\n",
       "      <td>749.000000</td>\n",
       "      <td>750.000000</td>\n",
       "      <td>1.324300e+05</td>\n",
       "      <td>2.082020e+14</td>\n",
       "      <td>3.368473e+10</td>\n",
       "      <td>8.611970e+13</td>\n",
       "      <td>109.795706</td>\n",
       "      <td>17.662883</td>\n",
       "      <td>19710.000000</td>\n",
       "      <td>...</td>\n",
       "      <td>1.238415e+07</td>\n",
       "      <td>4.903424e+07</td>\n",
       "      <td>6.657051e+08</td>\n",
       "      <td>2.727487e+06</td>\n",
       "      <td>1.068280e+07</td>\n",
       "      <td>3.159818e+06</td>\n",
       "      <td>2.929260e+07</td>\n",
       "      <td>2.929044e+07</td>\n",
       "      <td>6.414159e+08</td>\n",
       "      <td>6.399275e+08</td>\n",
       "    </tr>\n",
       "    <tr>\n",
       "      <th>max</th>\n",
       "      <td>1.318650e+19</td>\n",
       "      <td>999.000000</td>\n",
       "      <td>999.000000</td>\n",
       "      <td>1.859336e+06</td>\n",
       "      <td>2.140740e+14</td>\n",
       "      <td>8.823970e+14</td>\n",
       "      <td>9.900120e+13</td>\n",
       "      <td>96923.000000</td>\n",
       "      <td>7120.000000</td>\n",
       "      <td>378160.000000</td>\n",
       "      <td>...</td>\n",
       "      <td>1.655882e+07</td>\n",
       "      <td>7.833131e+07</td>\n",
       "      <td>9.029696e+08</td>\n",
       "      <td>3.650861e+06</td>\n",
       "      <td>1.552878e+07</td>\n",
       "      <td>4.518036e+06</td>\n",
       "      <td>4.519008e+07</td>\n",
       "      <td>4.519815e+07</td>\n",
       "      <td>8.592028e+08</td>\n",
       "      <td>8.595209e+08</td>\n",
       "    </tr>\n",
       "  </tbody>\n",
       "</table>\n",
       "<p>8 rows × 57 columns</p>\n",
       "</div>"
      ],
      "text/plain": [
       "          Bearer Id       Start ms         End ms     Dur. (ms)          IMSI  \\\n",
       "count  1.500010e+05  150001.000000  150001.000000  1.500010e+05  1.500010e+05   \n",
       "mean   1.013887e+19     499.188200     498.800880  1.046086e+05  2.082017e+14   \n",
       "std    2.883597e+18     288.610872     288.096693  8.103735e+04  2.145201e+10   \n",
       "min    6.917540e+18       0.000000       0.000000  7.142000e+03  2.040470e+14   \n",
       "25%    7.349880e+18     250.000000     251.000000  5.744200e+04  2.082010e+14   \n",
       "50%    7.349880e+18     499.000000     500.000000  8.639900e+04  2.082020e+14   \n",
       "75%    1.304240e+19     749.000000     750.000000  1.324300e+05  2.082020e+14   \n",
       "max    1.318650e+19     999.000000     999.000000  1.859336e+06  2.140740e+14   \n",
       "\n",
       "       MSISDN/Number          IMEI  Avg RTT DL (ms)  Avg RTT UL (ms)  \\\n",
       "count   1.500010e+05  1.500010e+05    150001.000000    150001.000000   \n",
       "mean    4.188282e+10  4.847454e+13       109.795706        17.662883   \n",
       "std     2.438731e+12  2.237359e+13       559.342620        76.529933   \n",
       "min     3.360100e+10  4.400150e+11         0.000000         0.000000   \n",
       "25%     3.365151e+10  3.546260e+13        35.000000         3.000000   \n",
       "50%     3.366380e+10  3.572240e+13        54.000000         7.000000   \n",
       "75%     3.368473e+10  8.611970e+13       109.795706        17.662883   \n",
       "max     8.823970e+14  9.900120e+13     96923.000000      7120.000000   \n",
       "\n",
       "       Avg Bearer TP DL (kbps)  ...  Other UL (Bytes)  Total UL (Bytes)  \\\n",
       "count            150001.000000  ...      1.500010e+05      1.500010e+05   \n",
       "mean              13300.045927  ...      8.264799e+06      4.112121e+07   \n",
       "std               23971.798635  ...      4.769004e+06      1.127635e+07   \n",
       "min                   0.000000  ...      1.480000e+02      2.866892e+06   \n",
       "25%                  43.000000  ...      4.145943e+06      3.322203e+07   \n",
       "50%                  63.000000  ...      8.267071e+06      4.114324e+07   \n",
       "75%               19710.000000  ...      1.238415e+07      4.903424e+07   \n",
       "max              378160.000000  ...      1.655882e+07      7.833131e+07   \n",
       "\n",
       "       Total DL (Bytes)  Social Media (Bytes)  Google (Bytes)  Email (Bytes)  \\\n",
       "count      1.500010e+05          1.500010e+05    1.500010e+05   1.500010e+05   \n",
       "mean       4.546434e+08          1.828250e+06    7.807295e+06   2.259102e+06   \n",
       "std        2.441421e+08          1.035646e+06    3.516420e+06   1.071109e+06   \n",
       "min        7.114041e+06          1.563000e+03    4.033000e+04   8.359000e+03   \n",
       "25%        2.431072e+08          9.322180e+05    4.943599e+06   1.359344e+06   \n",
       "50%        4.558409e+08          1.826471e+06    7.812835e+06   2.263567e+06   \n",
       "75%        6.657051e+08          2.727487e+06    1.068280e+07   3.159818e+06   \n",
       "max        9.029696e+08          3.650861e+06    1.552878e+07   4.518036e+06   \n",
       "\n",
       "       YouTube (Bytes)  Netflix (Bytes)  Gaming (Bytes)  Other (Bytes)  \n",
       "count     1.500010e+05     1.500010e+05    1.500010e+05   1.500010e+05  \n",
       "mean      2.264348e+07     2.262861e+07    4.303331e+08   4.293653e+08  \n",
       "std       9.246800e+06     9.260820e+06    2.440199e+08   2.432681e+08  \n",
       "min       7.890300e+04     9.843200e+04    3.063580e+05   1.490450e+05  \n",
       "25%       1.599846e+07     1.597946e+07    2.187279e+08   2.185534e+08  \n",
       "50%       2.266177e+07     2.263554e+07    4.316150e+08   4.299865e+08  \n",
       "75%       2.929260e+07     2.929044e+07    6.414159e+08   6.399275e+08  \n",
       "max       4.519008e+07     4.519815e+07    8.592028e+08   8.595209e+08  \n",
       "\n",
       "[8 rows x 57 columns]"
      ]
     },
     "execution_count": 26,
     "metadata": {},
     "output_type": "execute_result"
    }
   ],
   "source": [
    "dataset.describe()"
   ]
  },
  {
   "cell_type": "markdown",
   "metadata": {},
   "source": [
    "Key Findings:\n",
    "Session Duration: Average ~499 ms, ranging from 0 to 999 ms, showing diverse user activity.\n",
    "\n",
    "RTT:\n",
    "\n",
    "Avg RTT DL: 109.8 ms; max 96,923 ms (high latency outliers).\n",
    "Avg RTT UL: 17.7 ms; max 7,120 ms.\n",
    "Data Usage:\n",
    "\n",
    "Avg DL: ~454.6 MB, max ~903 MB.\n",
    "Avg UL: ~41.1 MB, max ~78.3 MB.\n",
    "Application Data Consumption:\n",
    "\n",
    "Social Media: Avg ~1.8 MB, max ~3.65 MB.\n",
    "Google: Avg ~7.8 MB, max ~15.5 MB.\n",
    "YouTube/Netflix: Avg ~22.6 MB each, max ~45.2 MB.\n",
    "Gaming: Avg ~4.3 MB, max ~85.9 MB.\n",
    "# Insights:\n",
    "\n",
    "Streaming Dominates: YouTube and Netflix consume the most data.\n",
    "High Variability: Significant differences in user behavior and network conditions.\n",
    "Network Latency: High RTT values suggest performance improvement areas."
   ]
  },
  {
   "cell_type": "code",
   "execution_count": 27,
   "metadata": {},
   "outputs": [],
   "source": [
    "#Non-Graphical Univariate Analysis with dispersion parameters and interpretations."
   ]
  },
  {
   "cell_type": "code",
   "execution_count": 28,
   "metadata": {},
   "outputs": [
    {
     "name": "stdout",
     "output_type": "stream",
     "text": [
      "Mean Total_DL: 454643430.0789667\n"
     ]
    }
   ],
   "source": [
    "Total_DL = dataset['Total DL (Bytes)'].mean()\n",
    "print(f\"Mean Total_DL: {Total_DL}\")\n"
   ]
  },
  {
   "cell_type": "code",
   "execution_count": 29,
   "metadata": {},
   "outputs": [
    {
     "name": "stdout",
     "output_type": "stream",
     "text": [
      "Median Total_DL: 455840911.0\n"
     ]
    }
   ],
   "source": [
    "# Median\n",
    "Total_DL = dataset['Total DL (Bytes)'].median()\n",
    "print(f\"Median Total_DL: {Total_DL}\")\n"
   ]
  },
  {
   "cell_type": "code",
   "execution_count": 30,
   "metadata": {},
   "outputs": [
    {
     "name": "stdout",
     "output_type": "stream",
     "text": [
      "Mode Total_DL: 74126119.0\n"
     ]
    }
   ],
   "source": [
    "# Mode\n",
    "Total_DL = dataset['Total DL (Bytes)'].mode()[0]  # mode() returns a Series\n",
    "print(f\"Mode Total_DL: {Total_DL}\")"
   ]
  },
  {
   "cell_type": "code",
   "execution_count": 31,
   "metadata": {},
   "outputs": [
    {
     "name": "stdout",
     "output_type": "stream",
     "text": [
      "Range of Total_DL: 895855575.0\n"
     ]
    }
   ],
   "source": [
    "# Range\n",
    "range_Total_DL = dataset['Total DL (Bytes)'].max() - dataset['Total DL (Bytes)'].min() # Changed 'imei' to 'IMEI'\n",
    "print(f\"Range of Total_DL: {range_Total_DL}\")"
   ]
  },
  {
   "cell_type": "code",
   "execution_count": 32,
   "metadata": {},
   "outputs": [
    {
     "name": "stdout",
     "output_type": "stream",
     "text": [
      "Variance of Total_DL_variance: 5.9605345737092744e+16\n"
     ]
    }
   ],
   "source": [
    "# Variance\n",
    "Total_DL_variance = dataset['Total DL (Bytes)'].var() # Changed 'imei' to 'IMEI'\n",
    "print(f\"Variance of Total_DL_variance: {Total_DL_variance}\")"
   ]
  },
  {
   "cell_type": "code",
   "execution_count": 33,
   "metadata": {},
   "outputs": [
    {
     "name": "stdout",
     "output_type": "stream",
     "text": [
      "Standard Deviation of Total_DL: 244142060.56534532\n"
     ]
    }
   ],
   "source": [
    "# Standard Deviation\n",
    "Total_DL_std_dev = dataset['Total DL (Bytes)'].std() # Changed 'imei' to 'IMEI'\n",
    "print(f\"Standard Deviation of Total_DL: {Total_DL_std_dev}\")"
   ]
  },
  {
   "cell_type": "code",
   "execution_count": 34,
   "metadata": {},
   "outputs": [
    {
     "data": {
      "image/png": "[encoded data removed]",
      "text/plain": [
       "<Figure size 600x200 with 1 Axes>"
      ]
     },
     "metadata": {},
     "output_type": "display_data"
    }
   ],
   "source": [
    "#Graphical Univariate Analysis\n",
    "# 1. Histogram of Total DL (Bytes) \n",
    "plt.figure(figsize=(6, 2))\n",
    "plt.hist(dataset['Total DL (Bytes)'], bins=5, color='skyblue', edgecolor='black')\n",
    "plt.title('Histogram of Total DL (Bytes)')\n",
    "plt.xlabel('Total DL (Bytes)')\n",
    "plt.ylabel('Frequency')\n",
    "plt.xticks(rotation=45)\n",
    "plt.tight_layout()\n",
    "plt.show()"
   ]
  },
  {
   "cell_type": "markdown",
   "metadata": {},
   "source": [
    "Uniform Distribution: Total download data is evenly distributed across users.\n",
    "Frequency: Around 20,000 users per range of download data.\n",
    "Range: Most users fall between 0 and 100 MB of data usage.\n",
    "No Outliers: No sharp spikes or gaps in the data.\n",
    "Insight: Moderate usage users represent a key target for campaigns."
   ]
  },
  {
   "cell_type": "code",
   "execution_count": 35,
   "metadata": {},
   "outputs": [
    {
     "name": "stderr",
     "output_type": "stream",
     "text": [
      "C:\\Users\\Lenovo\\AppData\\Local\\Temp\\ipykernel_11948\\3069556965.py:2: MatplotlibDeprecationWarning: The 'labels' parameter of boxplot() has been renamed 'tick_labels' since Matplotlib 3.9; support for the old name will be dropped in 3.11.\n",
      "  plt.boxplot([dataset['Email UL (Bytes)'], dataset['Email DL (Bytes)']], labels=['Email UL (Bytes)', 'Email DL (Bytes)'])\n"
     ]
    },
    {
     "data": {
      "image/png": "[encoded data removed]",
      "text/plain": [
       "<Figure size 600x600 with 1 Axes>"
      ]
     },
     "metadata": {},
     "output_type": "display_data"
    }
   ],
   "source": [
    "plt.figure(figsize=(6, 6))  # Adjust the figure size as needed\n",
    "plt.boxplot([dataset['Email UL (Bytes)'], dataset['Email DL (Bytes)']], labels=['Email UL (Bytes)', 'Email DL (Bytes)'])\n",
    "plt.title('Box Plot: Email UL (Bytes) and Email DL (Bytes)')\n",
    "plt.ylabel('Bytes')\n",
    "plt.grid(True)\n",
    "plt.show()\n"
   ]
  },
  {
   "cell_type": "code",
   "execution_count": 36,
   "metadata": {},
   "outputs": [
    {
     "name": "stderr",
     "output_type": "stream",
     "text": [
      "C:\\Users\\Lenovo\\AppData\\Local\\Temp\\ipykernel_11948\\829008795.py:2: MatplotlibDeprecationWarning: The 'labels' parameter of boxplot() has been renamed 'tick_labels' since Matplotlib 3.9; support for the old name will be dropped in 3.11.\n",
      "  plt.boxplot([dataset['Google UL (Bytes)'], dataset['Google DL (Bytes)']], labels=['Google UL (Bytes)', 'Google DL (Bytes)'])\n"
     ]
    },
    {
     "data": {
      "image/png": "[encoded data removed]",
      "text/plain": [
       "<Figure size 600x600 with 1 Axes>"
      ]
     },
     "metadata": {},
     "output_type": "display_data"
    }
   ],
   "source": [
    "plt.figure(figsize=(6, 6))  # Adjust the figure size as needed\n",
    "plt.boxplot([dataset['Google UL (Bytes)'], dataset['Google DL (Bytes)']], labels=['Google UL (Bytes)', 'Google DL (Bytes)'])\n",
    "plt.title('Box Plot: Google UL (Bytes) and Google DL (Bytes)')\n",
    "plt.ylabel('Bytes')\n",
    "plt.grid(True)\n",
    "plt.show()\n"
   ]
  },
  {
   "cell_type": "code",
   "execution_count": 37,
   "metadata": {},
   "outputs": [
    {
     "name": "stderr",
     "output_type": "stream",
     "text": [
      "C:\\Users\\Lenovo\\AppData\\Local\\Temp\\ipykernel_11948\\4138644753.py:2: MatplotlibDeprecationWarning: The 'labels' parameter of boxplot() has been renamed 'tick_labels' since Matplotlib 3.9; support for the old name will be dropped in 3.11.\n",
      "  plt.boxplot([dataset['Social Media UL (Bytes)'], dataset['Social Media DL (Bytes)']], labels=['Social Media UL (Bytes)', 'Social Media DL (Bytes)'])\n"
     ]
    },
    {
     "data": {
      "image/png": "[encoded data removed]",
      "text/plain": [
       "<Figure size 600x600 with 1 Axes>"
      ]
     },
     "metadata": {},
     "output_type": "display_data"
    }
   ],
   "source": [
    "plt.figure(figsize=(6, 6))  # Adjust the figure size as needed\n",
    "plt.boxplot([dataset['Social Media UL (Bytes)'], dataset['Social Media DL (Bytes)']], labels=['Social Media UL (Bytes)', 'Social Media DL (Bytes)'])\n",
    "plt.title('Box Plot: Social Media UL (Bytes) and Social Media DL (Bytes)')\n",
    "plt.ylabel('Bytes')\n",
    "plt.grid(True)\n",
    "plt.show()"
   ]
  },
  {
   "cell_type": "code",
   "execution_count": 38,
   "metadata": {},
   "outputs": [
    {
     "name": "stderr",
     "output_type": "stream",
     "text": [
      "C:\\Users\\Lenovo\\AppData\\Local\\Temp\\ipykernel_11948\\4277176759.py:2: MatplotlibDeprecationWarning: The 'labels' parameter of boxplot() has been renamed 'tick_labels' since Matplotlib 3.9; support for the old name will be dropped in 3.11.\n",
      "  plt.boxplot([dataset['Netflix UL (Bytes)'], dataset['Netflix DL (Bytes)']], labels=['Netflix UL (Bytes)', 'Netflix DL (Bytes)'])\n"
     ]
    },
    {
     "data": {
      "image/png": "[encoded data removed]",
      "text/plain": [
       "<Figure size 600x600 with 1 Axes>"
      ]
     },
     "metadata": {},
     "output_type": "display_data"
    }
   ],
   "source": [
    "plt.figure(figsize=(6, 6))  # Adjust the figure size as needed\n",
    "plt.boxplot([dataset['Netflix UL (Bytes)'], dataset['Netflix DL (Bytes)']], labels=['Netflix UL (Bytes)', 'Netflix DL (Bytes)'])\n",
    "plt.title('Box Plot: Netflix UL (Bytes) and Netflix DL (Bytes)')\n",
    "plt.ylabel('Bytes')\n",
    "plt.grid(True)\n",
    "plt.show()"
   ]
  },
  {
   "cell_type": "code",
   "execution_count": 39,
   "metadata": {},
   "outputs": [
    {
     "name": "stderr",
     "output_type": "stream",
     "text": [
      "C:\\Users\\Lenovo\\AppData\\Local\\Temp\\ipykernel_11948\\2204654073.py:2: MatplotlibDeprecationWarning: The 'labels' parameter of boxplot() has been renamed 'tick_labels' since Matplotlib 3.9; support for the old name will be dropped in 3.11.\n",
      "  plt.boxplot([dataset['Gaming UL (Bytes)'], dataset['Gaming DL (Bytes)']], labels=['Gaming UL (Bytes)', 'Gaming DL (Bytes)'])\n"
     ]
    },
    {
     "data": {
      "image/png": "[encoded data removed]",
      "text/plain": [
       "<Figure size 600x600 with 1 Axes>"
      ]
     },
     "metadata": {},
     "output_type": "display_data"
    }
   ],
   "source": [
    "plt.figure(figsize=(6, 6))  # Adjust the figure size as needed\n",
    "plt.boxplot([dataset['Gaming UL (Bytes)'], dataset['Gaming DL (Bytes)']], labels=['Gaming UL (Bytes)', 'Gaming DL (Bytes)'])\n",
    "plt.title('Box Plot: Gaming UL (Bytes) and Gaming DL (Bytes)')\n",
    "plt.ylabel('Bytes')\n",
    "plt.grid(True)\n",
    "plt.show()"
   ]
  },
  {
   "cell_type": "code",
   "execution_count": 40,
   "metadata": {},
   "outputs": [
    {
     "name": "stderr",
     "output_type": "stream",
     "text": [
      "C:\\Users\\Lenovo\\AppData\\Local\\Temp\\ipykernel_11948\\807431914.py:2: MatplotlibDeprecationWarning: The 'labels' parameter of boxplot() has been renamed 'tick_labels' since Matplotlib 3.9; support for the old name will be dropped in 3.11.\n",
      "  plt.boxplot([dataset['Youtube UL (Bytes)'], dataset['Youtube DL (Bytes)']], labels=['Youtube UL (Bytes)', 'Youtube DL (Bytes)'])\n"
     ]
    },
    {
     "data": {
      "image/png": "[encoded data removed]",
      "text/plain": [
       "<Figure size 600x600 with 1 Axes>"
      ]
     },
     "metadata": {},
     "output_type": "display_data"
    }
   ],
   "source": [
    "plt.figure(figsize=(6, 6))  # Adjust the figure size as needed\n",
    "plt.boxplot([dataset['Youtube UL (Bytes)'], dataset['Youtube DL (Bytes)']], labels=['Youtube UL (Bytes)', 'Youtube DL (Bytes)'])\n",
    "plt.title('Box Plot: Youtube UL (Bytes) and Youtube DL (Bytes)')\n",
    "plt.ylabel('Bytes')\n",
    "plt.grid(True)\n",
    "plt.show()"
   ]
  },
  {
   "cell_type": "code",
   "execution_count": 41,
   "metadata": {},
   "outputs": [
    {
     "name": "stderr",
     "output_type": "stream",
     "text": [
      "C:\\Users\\Lenovo\\AppData\\Local\\Temp\\ipykernel_11948\\2436929645.py:2: MatplotlibDeprecationWarning: The 'labels' parameter of boxplot() has been renamed 'tick_labels' since Matplotlib 3.9; support for the old name will be dropped in 3.11.\n",
      "  plt.boxplot([dataset['Total UL (Bytes)'], dataset['Total DL (Bytes)']], labels=['Total UL (Bytes)', 'Total DL (Bytes)'])\n"
     ]
    },
    {
     "data": {
      "image/png": "[encoded data removed]",
      "text/plain": [
       "<Figure size 600x600 with 1 Axes>"
      ]
     },
     "metadata": {},
     "output_type": "display_data"
    }
   ],
   "source": [
    "plt.figure(figsize=(6, 6))  # Adjust the figure size as needed\n",
    "plt.boxplot([dataset['Total UL (Bytes)'], dataset['Total DL (Bytes)']], labels=['Total UL (Bytes)', 'Total DL (Bytes)'])\n",
    "plt.title('Box Plot: Total UL (Bytes) and Total DL (Bytes)')\n",
    "plt.ylabel('Bytes')\n",
    "plt.grid(True)\n",
    "plt.show()\n"
   ]
  },
  {
   "cell_type": "markdown",
   "metadata": {},
   "source": [
    "# Variable Transformations: Segment users into top five decile classes based on total session duration and compute total DL+UL data per decile."
   ]
  },
  {
   "cell_type": "code",
   "execution_count": 42,
   "metadata": {},
   "outputs": [],
   "source": [
    "#Step 1: Calculate total data (DL + UL) and add it as a new column\n",
    "dataset['total_data (bytes)'] = dataset['Total DL (Bytes)'] + dataset['Total UL (Bytes)']\n"
   ]
  },
  {
   "cell_type": "code",
   "execution_count": 43,
   "metadata": {},
   "outputs": [],
   "source": [
    "dataset['Dur. (ms)'].duplicated().sum()\n",
    "#remove dulpicate\n",
    "dataset.drop_duplicates(subset='Dur. (ms)', inplace=True)"
   ]
  },
  {
   "cell_type": "code",
   "execution_count": 44,
   "metadata": {},
   "outputs": [],
   "source": [
    "dataset['duration_decile'] = pd.qcut(dataset['Dur. (ms)'], 10, labels=False) + 1\n",
    "\n",
    "#Step 3: Filter for top five deciles\n",
    "top_deciles = dataset[dataset['duration_decile'] > 5]\n",
    "#Step 4: Compute total DL + UL data per decile\n",
    "decile_data = top_deciles.groupby('duration_decile').agg(\n",
    "    total_data_sum=('total_data (bytes)', 'sum'),\n",
    "    user_count=('total_data (bytes)', 'count')\n",
    ").reset_index()"
   ]
  },
  {
   "cell_type": "code",
   "execution_count": 45,
   "metadata": {},
   "outputs": [
    {
     "name": "stdout",
     "output_type": "stream",
     "text": [
      "   duration_decile  total_data_sum  user_count\n",
      "4               10    4.431355e+12        8953\n",
      "3                9    4.459125e+12        8952\n",
      "2                8    4.461652e+12        8953\n",
      "1                7    4.451193e+12        8952\n",
      "0                6    4.451693e+12        8953\n"
     ]
    }
   ],
   "source": [
    "# Step 5: Sort by decile in descending order (top deciles first)\n",
    "decile_data.sort_values(by='duration_decile', ascending=False, inplace=True)\n",
    "\n",
    "# Step 6: Display the results\n",
    "print(decile_data)"
   ]
  },
  {
   "cell_type": "markdown",
   "metadata": {},
   "source": [
    "Duration Deciles 6 to 10:\n",
    "Total data usage is relatively consistent across deciles, ranging from 4.43 to 4.46 trillion bytes.\n",
    "User count is evenly distributed, with around 8,952 to 8,953 users per decile.\n",
    "Indicates steady engagement in data usage across these user groups."
   ]
  },
  {
   "cell_type": "markdown",
   "metadata": {},
   "source": [
    "# Correlation Analysis: Compute and interpret a correlation matrix for Social Media, Google, Email, YouTube, Netflix, Gaming, and Other data"
   ]
  },
  {
   "cell_type": "code",
   "execution_count": 46,
   "metadata": {},
   "outputs": [],
   "source": [
    "# Selecting relevant columns\n",
    "columns = [\n",
    "    'Social Media DL (Bytes)', 'Social Media UL (Bytes)',\n",
    "    'Google DL (Bytes)', 'Google UL (Bytes)',\n",
    "    'Email DL (Bytes)', 'Email UL (Bytes)',\n",
    "    'Youtube DL (Bytes)', 'Youtube UL (Bytes)',\n",
    "    'Netflix DL (Bytes)', 'Netflix UL (Bytes)',\n",
    "    'Gaming DL (Bytes)', 'Gaming UL (Bytes)',\n",
    "    'Other DL (Bytes)', 'Other UL (Bytes)'\n",
    "]\n",
    "\n",
    "# Filter dataset to include only the specified columns\n",
    "selected_data = dataset[columns]\n"
   ]
  },
  {
   "cell_type": "code",
   "execution_count": 47,
   "metadata": {},
   "outputs": [
    {
     "data": {
      "text/html": [
       "<div>\n",
       "<style scoped>\n",
       "    .dataframe tbody tr th:only-of-type {\n",
       "        vertical-align: middle;\n",
       "    }\n",
       "\n",
       "    .dataframe tbody tr th {\n",
       "        vertical-align: top;\n",
       "    }\n",
       "\n",
       "    .dataframe thead th {\n",
       "        text-align: right;\n",
       "    }\n",
       "</style>\n",
       "<table border=\"1\" class=\"dataframe\">\n",
       "  <thead>\n",
       "    <tr style=\"text-align: right;\">\n",
       "      <th></th>\n",
       "      <th>Social Media DL (Bytes)</th>\n",
       "      <th>Social Media UL (Bytes)</th>\n",
       "      <th>Google DL (Bytes)</th>\n",
       "      <th>Google UL (Bytes)</th>\n",
       "      <th>Email DL (Bytes)</th>\n",
       "      <th>Email UL (Bytes)</th>\n",
       "      <th>Youtube DL (Bytes)</th>\n",
       "      <th>Youtube UL (Bytes)</th>\n",
       "      <th>Netflix DL (Bytes)</th>\n",
       "      <th>Netflix UL (Bytes)</th>\n",
       "      <th>Gaming DL (Bytes)</th>\n",
       "      <th>Gaming UL (Bytes)</th>\n",
       "      <th>Other DL (Bytes)</th>\n",
       "      <th>Other UL (Bytes)</th>\n",
       "    </tr>\n",
       "  </thead>\n",
       "  <tbody>\n",
       "    <tr>\n",
       "      <th>Social Media DL (Bytes)</th>\n",
       "      <td>1.000000</td>\n",
       "      <td>-0.000054</td>\n",
       "      <td>-0.002029</td>\n",
       "      <td>0.002187</td>\n",
       "      <td>0.004941</td>\n",
       "      <td>-0.001914</td>\n",
       "      <td>-0.003609</td>\n",
       "      <td>0.000834</td>\n",
       "      <td>-0.000772</td>\n",
       "      <td>0.004021</td>\n",
       "      <td>-0.001870</td>\n",
       "      <td>0.003245</td>\n",
       "      <td>0.005146</td>\n",
       "      <td>-0.001716</td>\n",
       "    </tr>\n",
       "    <tr>\n",
       "      <th>Social Media UL (Bytes)</th>\n",
       "      <td>-0.000054</td>\n",
       "      <td>1.000000</td>\n",
       "      <td>0.005377</td>\n",
       "      <td>0.001624</td>\n",
       "      <td>0.007064</td>\n",
       "      <td>-0.000632</td>\n",
       "      <td>-0.005605</td>\n",
       "      <td>-0.003763</td>\n",
       "      <td>0.000368</td>\n",
       "      <td>0.001048</td>\n",
       "      <td>-0.001910</td>\n",
       "      <td>-0.000046</td>\n",
       "      <td>-0.004043</td>\n",
       "      <td>0.001741</td>\n",
       "    </tr>\n",
       "    <tr>\n",
       "      <th>Google DL (Bytes)</th>\n",
       "      <td>-0.002029</td>\n",
       "      <td>0.005377</td>\n",
       "      <td>1.000000</td>\n",
       "      <td>-0.001213</td>\n",
       "      <td>-0.000662</td>\n",
       "      <td>-0.001232</td>\n",
       "      <td>0.002422</td>\n",
       "      <td>0.006348</td>\n",
       "      <td>0.002868</td>\n",
       "      <td>-0.003331</td>\n",
       "      <td>-0.000098</td>\n",
       "      <td>-0.000109</td>\n",
       "      <td>-0.003762</td>\n",
       "      <td>0.001123</td>\n",
       "    </tr>\n",
       "    <tr>\n",
       "      <th>Google UL (Bytes)</th>\n",
       "      <td>0.002187</td>\n",
       "      <td>0.001624</td>\n",
       "      <td>-0.001213</td>\n",
       "      <td>1.000000</td>\n",
       "      <td>0.002419</td>\n",
       "      <td>-0.003015</td>\n",
       "      <td>-0.002863</td>\n",
       "      <td>0.000286</td>\n",
       "      <td>-0.001579</td>\n",
       "      <td>-0.006244</td>\n",
       "      <td>0.007255</td>\n",
       "      <td>0.001180</td>\n",
       "      <td>0.001519</td>\n",
       "      <td>-0.004850</td>\n",
       "    </tr>\n",
       "    <tr>\n",
       "      <th>Email DL (Bytes)</th>\n",
       "      <td>0.004941</td>\n",
       "      <td>0.007064</td>\n",
       "      <td>-0.000662</td>\n",
       "      <td>0.002419</td>\n",
       "      <td>1.000000</td>\n",
       "      <td>0.003217</td>\n",
       "      <td>0.004127</td>\n",
       "      <td>-0.005583</td>\n",
       "      <td>0.004913</td>\n",
       "      <td>-0.000851</td>\n",
       "      <td>0.004451</td>\n",
       "      <td>-0.004449</td>\n",
       "      <td>0.001094</td>\n",
       "      <td>0.004788</td>\n",
       "    </tr>\n",
       "    <tr>\n",
       "      <th>Email UL (Bytes)</th>\n",
       "      <td>-0.001914</td>\n",
       "      <td>-0.000632</td>\n",
       "      <td>-0.001232</td>\n",
       "      <td>-0.003015</td>\n",
       "      <td>0.003217</td>\n",
       "      <td>1.000000</td>\n",
       "      <td>0.002533</td>\n",
       "      <td>-0.008038</td>\n",
       "      <td>-0.001058</td>\n",
       "      <td>-0.000359</td>\n",
       "      <td>-0.003480</td>\n",
       "      <td>0.002419</td>\n",
       "      <td>-0.006934</td>\n",
       "      <td>-0.000026</td>\n",
       "    </tr>\n",
       "    <tr>\n",
       "      <th>Youtube DL (Bytes)</th>\n",
       "      <td>-0.003609</td>\n",
       "      <td>-0.005605</td>\n",
       "      <td>0.002422</td>\n",
       "      <td>-0.002863</td>\n",
       "      <td>0.004127</td>\n",
       "      <td>0.002533</td>\n",
       "      <td>1.000000</td>\n",
       "      <td>0.001193</td>\n",
       "      <td>0.001983</td>\n",
       "      <td>-0.001588</td>\n",
       "      <td>-0.002018</td>\n",
       "      <td>-0.004672</td>\n",
       "      <td>0.002612</td>\n",
       "      <td>-0.005021</td>\n",
       "    </tr>\n",
       "    <tr>\n",
       "      <th>Youtube UL (Bytes)</th>\n",
       "      <td>0.000834</td>\n",
       "      <td>-0.003763</td>\n",
       "      <td>0.006348</td>\n",
       "      <td>0.000286</td>\n",
       "      <td>-0.005583</td>\n",
       "      <td>-0.008038</td>\n",
       "      <td>0.001193</td>\n",
       "      <td>1.000000</td>\n",
       "      <td>0.002899</td>\n",
       "      <td>0.004145</td>\n",
       "      <td>-0.003076</td>\n",
       "      <td>0.002571</td>\n",
       "      <td>0.003295</td>\n",
       "      <td>-0.001054</td>\n",
       "    </tr>\n",
       "    <tr>\n",
       "      <th>Netflix DL (Bytes)</th>\n",
       "      <td>-0.000772</td>\n",
       "      <td>0.000368</td>\n",
       "      <td>0.002868</td>\n",
       "      <td>-0.001579</td>\n",
       "      <td>0.004913</td>\n",
       "      <td>-0.001058</td>\n",
       "      <td>0.001983</td>\n",
       "      <td>0.002899</td>\n",
       "      <td>1.000000</td>\n",
       "      <td>0.001991</td>\n",
       "      <td>-0.002436</td>\n",
       "      <td>-0.001023</td>\n",
       "      <td>-0.005542</td>\n",
       "      <td>-0.001152</td>\n",
       "    </tr>\n",
       "    <tr>\n",
       "      <th>Netflix UL (Bytes)</th>\n",
       "      <td>0.004021</td>\n",
       "      <td>0.001048</td>\n",
       "      <td>-0.003331</td>\n",
       "      <td>-0.006244</td>\n",
       "      <td>-0.000851</td>\n",
       "      <td>-0.000359</td>\n",
       "      <td>-0.001588</td>\n",
       "      <td>0.004145</td>\n",
       "      <td>0.001991</td>\n",
       "      <td>1.000000</td>\n",
       "      <td>-0.000451</td>\n",
       "      <td>-0.006107</td>\n",
       "      <td>-0.005741</td>\n",
       "      <td>-0.001407</td>\n",
       "    </tr>\n",
       "    <tr>\n",
       "      <th>Gaming DL (Bytes)</th>\n",
       "      <td>-0.001870</td>\n",
       "      <td>-0.001910</td>\n",
       "      <td>-0.000098</td>\n",
       "      <td>0.007255</td>\n",
       "      <td>0.004451</td>\n",
       "      <td>-0.003480</td>\n",
       "      <td>-0.002018</td>\n",
       "      <td>-0.003076</td>\n",
       "      <td>-0.002436</td>\n",
       "      <td>-0.000451</td>\n",
       "      <td>1.000000</td>\n",
       "      <td>0.000725</td>\n",
       "      <td>-0.001740</td>\n",
       "      <td>-0.000017</td>\n",
       "    </tr>\n",
       "    <tr>\n",
       "      <th>Gaming UL (Bytes)</th>\n",
       "      <td>0.003245</td>\n",
       "      <td>-0.000046</td>\n",
       "      <td>-0.000109</td>\n",
       "      <td>0.001180</td>\n",
       "      <td>-0.004449</td>\n",
       "      <td>0.002419</td>\n",
       "      <td>-0.004672</td>\n",
       "      <td>0.002571</td>\n",
       "      <td>-0.001023</td>\n",
       "      <td>-0.006107</td>\n",
       "      <td>0.000725</td>\n",
       "      <td>1.000000</td>\n",
       "      <td>-0.002965</td>\n",
       "      <td>-0.004180</td>\n",
       "    </tr>\n",
       "    <tr>\n",
       "      <th>Other DL (Bytes)</th>\n",
       "      <td>0.005146</td>\n",
       "      <td>-0.004043</td>\n",
       "      <td>-0.003762</td>\n",
       "      <td>0.001519</td>\n",
       "      <td>0.001094</td>\n",
       "      <td>-0.006934</td>\n",
       "      <td>0.002612</td>\n",
       "      <td>0.003295</td>\n",
       "      <td>-0.005542</td>\n",
       "      <td>-0.005741</td>\n",
       "      <td>-0.001740</td>\n",
       "      <td>-0.002965</td>\n",
       "      <td>1.000000</td>\n",
       "      <td>-0.000025</td>\n",
       "    </tr>\n",
       "    <tr>\n",
       "      <th>Other UL (Bytes)</th>\n",
       "      <td>-0.001716</td>\n",
       "      <td>0.001741</td>\n",
       "      <td>0.001123</td>\n",
       "      <td>-0.004850</td>\n",
       "      <td>0.004788</td>\n",
       "      <td>-0.000026</td>\n",
       "      <td>-0.005021</td>\n",
       "      <td>-0.001054</td>\n",
       "      <td>-0.001152</td>\n",
       "      <td>-0.001407</td>\n",
       "      <td>-0.000017</td>\n",
       "      <td>-0.004180</td>\n",
       "      <td>-0.000025</td>\n",
       "      <td>1.000000</td>\n",
       "    </tr>\n",
       "  </tbody>\n",
       "</table>\n",
       "</div>"
      ],
      "text/plain": [
       "                         Social Media DL (Bytes)  Social Media UL (Bytes)  \\\n",
       "Social Media DL (Bytes)                 1.000000                -0.000054   \n",
       "Social Media UL (Bytes)                -0.000054                 1.000000   \n",
       "Google DL (Bytes)                      -0.002029                 0.005377   \n",
       "Google UL (Bytes)                       0.002187                 0.001624   \n",
       "Email DL (Bytes)                        0.004941                 0.007064   \n",
       "Email UL (Bytes)                       -0.001914                -0.000632   \n",
       "Youtube DL (Bytes)                     -0.003609                -0.005605   \n",
       "Youtube UL (Bytes)                      0.000834                -0.003763   \n",
       "Netflix DL (Bytes)                     -0.000772                 0.000368   \n",
       "Netflix UL (Bytes)                      0.004021                 0.001048   \n",
       "Gaming DL (Bytes)                      -0.001870                -0.001910   \n",
       "Gaming UL (Bytes)                       0.003245                -0.000046   \n",
       "Other DL (Bytes)                        0.005146                -0.004043   \n",
       "Other UL (Bytes)                       -0.001716                 0.001741   \n",
       "\n",
       "                         Google DL (Bytes)  Google UL (Bytes)  \\\n",
       "Social Media DL (Bytes)          -0.002029           0.002187   \n",
       "Social Media UL (Bytes)           0.005377           0.001624   \n",
       "Google DL (Bytes)                 1.000000          -0.001213   \n",
       "Google UL (Bytes)                -0.001213           1.000000   \n",
       "Email DL (Bytes)                 -0.000662           0.002419   \n",
       "Email UL (Bytes)                 -0.001232          -0.003015   \n",
       "Youtube DL (Bytes)                0.002422          -0.002863   \n",
       "Youtube UL (Bytes)                0.006348           0.000286   \n",
       "Netflix DL (Bytes)                0.002868          -0.001579   \n",
       "Netflix UL (Bytes)               -0.003331          -0.006244   \n",
       "Gaming DL (Bytes)                -0.000098           0.007255   \n",
       "Gaming UL (Bytes)                -0.000109           0.001180   \n",
       "Other DL (Bytes)                 -0.003762           0.001519   \n",
       "Other UL (Bytes)                  0.001123          -0.004850   \n",
       "\n",
       "                         Email DL (Bytes)  Email UL (Bytes)  \\\n",
       "Social Media DL (Bytes)          0.004941         -0.001914   \n",
       "Social Media UL (Bytes)          0.007064         -0.000632   \n",
       "Google DL (Bytes)               -0.000662         -0.001232   \n",
       "Google UL (Bytes)                0.002419         -0.003015   \n",
       "Email DL (Bytes)                 1.000000          0.003217   \n",
       "Email UL (Bytes)                 0.003217          1.000000   \n",
       "Youtube DL (Bytes)               0.004127          0.002533   \n",
       "Youtube UL (Bytes)              -0.005583         -0.008038   \n",
       "Netflix DL (Bytes)               0.004913         -0.001058   \n",
       "Netflix UL (Bytes)              -0.000851         -0.000359   \n",
       "Gaming DL (Bytes)                0.004451         -0.003480   \n",
       "Gaming UL (Bytes)               -0.004449          0.002419   \n",
       "Other DL (Bytes)                 0.001094         -0.006934   \n",
       "Other UL (Bytes)                 0.004788         -0.000026   \n",
       "\n",
       "                         Youtube DL (Bytes)  Youtube UL (Bytes)  \\\n",
       "Social Media DL (Bytes)           -0.003609            0.000834   \n",
       "Social Media UL (Bytes)           -0.005605           -0.003763   \n",
       "Google DL (Bytes)                  0.002422            0.006348   \n",
       "Google UL (Bytes)                 -0.002863            0.000286   \n",
       "Email DL (Bytes)                   0.004127           -0.005583   \n",
       "Email UL (Bytes)                   0.002533           -0.008038   \n",
       "Youtube DL (Bytes)                 1.000000            0.001193   \n",
       "Youtube UL (Bytes)                 0.001193            1.000000   \n",
       "Netflix DL (Bytes)                 0.001983            0.002899   \n",
       "Netflix UL (Bytes)                -0.001588            0.004145   \n",
       "Gaming DL (Bytes)                 -0.002018           -0.003076   \n",
       "Gaming UL (Bytes)                 -0.004672            0.002571   \n",
       "Other DL (Bytes)                   0.002612            0.003295   \n",
       "Other UL (Bytes)                  -0.005021           -0.001054   \n",
       "\n",
       "                         Netflix DL (Bytes)  Netflix UL (Bytes)  \\\n",
       "Social Media DL (Bytes)           -0.000772            0.004021   \n",
       "Social Media UL (Bytes)            0.000368            0.001048   \n",
       "Google DL (Bytes)                  0.002868           -0.003331   \n",
       "Google UL (Bytes)                 -0.001579           -0.006244   \n",
       "Email DL (Bytes)                   0.004913           -0.000851   \n",
       "Email UL (Bytes)                  -0.001058           -0.000359   \n",
       "Youtube DL (Bytes)                 0.001983           -0.001588   \n",
       "Youtube UL (Bytes)                 0.002899            0.004145   \n",
       "Netflix DL (Bytes)                 1.000000            0.001991   \n",
       "Netflix UL (Bytes)                 0.001991            1.000000   \n",
       "Gaming DL (Bytes)                 -0.002436           -0.000451   \n",
       "Gaming UL (Bytes)                 -0.001023           -0.006107   \n",
       "Other DL (Bytes)                  -0.005542           -0.005741   \n",
       "Other UL (Bytes)                  -0.001152           -0.001407   \n",
       "\n",
       "                         Gaming DL (Bytes)  Gaming UL (Bytes)  \\\n",
       "Social Media DL (Bytes)          -0.001870           0.003245   \n",
       "Social Media UL (Bytes)          -0.001910          -0.000046   \n",
       "Google DL (Bytes)                -0.000098          -0.000109   \n",
       "Google UL (Bytes)                 0.007255           0.001180   \n",
       "Email DL (Bytes)                  0.004451          -0.004449   \n",
       "Email UL (Bytes)                 -0.003480           0.002419   \n",
       "Youtube DL (Bytes)               -0.002018          -0.004672   \n",
       "Youtube UL (Bytes)               -0.003076           0.002571   \n",
       "Netflix DL (Bytes)               -0.002436          -0.001023   \n",
       "Netflix UL (Bytes)               -0.000451          -0.006107   \n",
       "Gaming DL (Bytes)                 1.000000           0.000725   \n",
       "Gaming UL (Bytes)                 0.000725           1.000000   \n",
       "Other DL (Bytes)                 -0.001740          -0.002965   \n",
       "Other UL (Bytes)                 -0.000017          -0.004180   \n",
       "\n",
       "                         Other DL (Bytes)  Other UL (Bytes)  \n",
       "Social Media DL (Bytes)          0.005146         -0.001716  \n",
       "Social Media UL (Bytes)         -0.004043          0.001741  \n",
       "Google DL (Bytes)               -0.003762          0.001123  \n",
       "Google UL (Bytes)                0.001519         -0.004850  \n",
       "Email DL (Bytes)                 0.001094          0.004788  \n",
       "Email UL (Bytes)                -0.006934         -0.000026  \n",
       "Youtube DL (Bytes)               0.002612         -0.005021  \n",
       "Youtube UL (Bytes)               0.003295         -0.001054  \n",
       "Netflix DL (Bytes)              -0.005542         -0.001152  \n",
       "Netflix UL (Bytes)              -0.005741         -0.001407  \n",
       "Gaming DL (Bytes)               -0.001740         -0.000017  \n",
       "Gaming UL (Bytes)               -0.002965         -0.004180  \n",
       "Other DL (Bytes)                 1.000000         -0.000025  \n",
       "Other UL (Bytes)                -0.000025          1.000000  "
      ]
     },
     "execution_count": 47,
     "metadata": {},
     "output_type": "execute_result"
    }
   ],
   "source": [
    "# Correlation Matrix\n",
    "correlation_matrix = selected_data.corr()\n",
    "correlation_matrix"
   ]
  },
  {
   "cell_type": "markdown",
   "metadata": {},
   "source": [
    "Minimal Interdependence: Most metrics have weak or negligible correlations, showing independent behavior across different applications.\n",
    "Google, YouTube, and Netflix: Slight overlaps in usage patterns.\n",
    "Social Media and Gaming: Independent with minimal influence on other apps' traffic patterns"
   ]
  },
  {
   "cell_type": "code",
   "execution_count": 48,
   "metadata": {},
   "outputs": [],
   "source": [
    "#Dimensionality Reduction: Perform PCA to reduce data dimensions and provide interpretations in four bullet points."
   ]
  },
  {
   "cell_type": "code",
   "execution_count": 49,
   "metadata": {},
   "outputs": [],
   "source": [
    "from sklearn.decomposition import PCA\n",
    "from sklearn.preprocessing import StandardScaler\n"
   ]
  },
  {
   "cell_type": "code",
   "execution_count": 50,
   "metadata": {},
   "outputs": [],
   "source": [
    "# Step 1: Select numerical columns for PCA\n",
    "numerical_features = [\n",
    "    'Total DL (Bytes)', 'Total UL (Bytes)', 'Social Media DL (Bytes)', 'Social Media UL (Bytes)',\n",
    "    'Google DL (Bytes)', 'Google UL (Bytes)', 'Email DL (Bytes)', 'Email UL (Bytes)',\n",
    "    'Youtube DL (Bytes)', 'Youtube UL (Bytes)', 'Netflix DL (Bytes)', 'Netflix UL (Bytes)',\n",
    "    'Gaming DL (Bytes)', 'Gaming UL (Bytes)', 'Other DL (Bytes)', 'Other UL (Bytes)'\n",
    "]\n",
    "\n"
   ]
  },
  {
   "cell_type": "code",
   "execution_count": 51,
   "metadata": {},
   "outputs": [],
   "source": [
    "# Step 2: Standardize the data\n",
    "scaler = StandardScaler()\n",
    "scaled_data = scaler.fit_transform(dataset[numerical_features])\n"
   ]
  },
  {
   "cell_type": "code",
   "execution_count": 52,
   "metadata": {},
   "outputs": [],
   "source": [
    "\n",
    "# Step 3: Apply PCA\n",
    "pca = PCA(n_components=2)\n",
    "pca_result = pca.fit_transform(scaled_data)\n"
   ]
  },
  {
   "cell_type": "code",
   "execution_count": 53,
   "metadata": {},
   "outputs": [
    {
     "name": "stdout",
     "output_type": "stream",
     "text": [
      "Variance Ratio: [0.12507687 0.12475445]\n"
     ]
    }
   ],
   "source": [
    "\n",
    "# Step 4: Explained Variance Ratio\n",
    "explained_variance = pca.explained_variance_ratio_\n",
    "print(f\"Variance Ratio: {explained_variance}\")"
   ]
  },
  {
   "cell_type": "code",
   "execution_count": 54,
   "metadata": {},
   "outputs": [
    {
     "name": "stdout",
     "output_type": "stream",
     "text": [
      "PCA Components (Loadings):\n",
      "     Total DL (Bytes)  Total UL (Bytes)  Social Media DL (Bytes)  \\\n",
      "PC1          0.617597         -0.344439                -0.002225   \n",
      "PC2          0.344263          0.618042                 0.004516   \n",
      "\n",
      "     Social Media UL (Bytes)  Google DL (Bytes)  Google UL (Bytes)  \\\n",
      "PC1                -0.002448           0.006991          -0.024081   \n",
      "PC2                -0.001055           0.007160           0.064285   \n",
      "\n",
      "     Email DL (Bytes)  Email UL (Bytes)  Youtube DL (Bytes)  \\\n",
      "PC1          0.010574         -0.009664            0.017676   \n",
      "PC2          0.000758          0.007458            0.002487   \n",
      "\n",
      "     Youtube UL (Bytes)  Netflix DL (Bytes)  Netflix UL (Bytes)  \\\n",
      "PC1           -0.198708            0.013018           -0.193679   \n",
      "PC2            0.349943            0.009992            0.347764   \n",
      "\n",
      "     Gaming DL (Bytes)  Gaming UL (Bytes)  Other DL (Bytes)  Other UL (Bytes)  \n",
      "PC1            0.61709          -0.142523         -0.000422         -0.143175  \n",
      "PC2            0.34406           0.258647         -0.004517          0.257768  \n"
     ]
    }
   ],
   "source": [
    "#Display the PCA components (loadings)\n",
    "pca_components = pd.DataFrame(pca.components_, columns=numerical_features, index=['PC1', 'PC2'])\n",
    "print(\"PCA Components (Loadings):\")\n",
    "print(pca_components)"
   ]
  },
  {
   "cell_type": "markdown",
   "metadata": {},
   "source": [
    "- **PC1**: Dominated by **Total DL** and **Gaming DL**, representing download-heavy activities.  \n",
    "- **PC2**: Driven by **Total UL**, **YouTube UL**, and **Netflix UL**, focusing on upload traffic.  \n",
    "- Social Media and \"Other\" metrics have minimal impact."
   ]
  },
  {
   "cell_type": "code",
   "execution_count": null,
   "metadata": {},
   "outputs": [],
   "source": []
  },
  {
   "cell_type": "markdown",
   "metadata": {},
   "source": [
    "# 2. User Engagement Analysis\n",
    "\n",
    "What are the engagement metrics for customers (e.g., session frequency, duration, total traffic)?\n",
    "\n",
    "Who are the top 10 most engaged users for each metric?\n",
    "\n",
    "How can users be segmented into engagement groups using clustering (e.g., k-means)?\n",
    "\n",
    "What are the traffic patterns per application?\n",
    "\n",
    "Which are the top 3 most used applications, and how can they be visualized?\n",
    "\n",
    "What is the optimal number of clusters (k) for segmenting users?\n"
   ]
  },
  {
   "cell_type": "markdown",
   "metadata": {},
   "source": [
    "# What are the engagement metrics for customers (e.g., session frequency, duration, total traffic)?\n"
   ]
  },
  {
   "cell_type": "code",
   "execution_count": 55,
   "metadata": {},
   "outputs": [],
   "source": [
    "# Calculate session frequency per user\n",
    "session_frequency = dataset.groupby('MSISDN/Number').size().reset_index(name='Session Frequency')"
   ]
  },
  {
   "cell_type": "code",
   "execution_count": 56,
   "metadata": {},
   "outputs": [],
   "source": [
    "# Calculate average session duration per user (convert duration to seconds)\n",
    "dataset['Duration (s)'] = dataset['Dur. (ms)'] / 1000\n",
    "average_duration = dataset.groupby('MSISDN/Number')['Duration (s)'].mean().reset_index(name='Average Session Duration (s)')"
   ]
  },
  {
   "cell_type": "code",
   "execution_count": 57,
   "metadata": {},
   "outputs": [],
   "source": [
    "# Calculate total traffic (download + upload) per user\n",
    "dataset['Total Traffic (Bytes)'] = dataset['Total DL (Bytes)'] + dataset['Total UL (Bytes)']\n",
    "total_traffic = dataset.groupby('MSISDN/Number')['Total Traffic (Bytes)'].sum().reset_index(name='Total Traffic (Bytes)')\n",
    "\n",
    "# Combine all metrics into a single DataFrame\n",
    "engagement_metrics = session_frequency.merge(average_duration, on='MSISDN/Number')\n",
    "engagement_metrics = engagement_metrics.merge(total_traffic, on='MSISDN/Number')\n"
   ]
  },
  {
   "cell_type": "code",
   "execution_count": 58,
   "metadata": {},
   "outputs": [
    {
     "data": {
      "text/html": [
       "<div>\n",
       "<style scoped>\n",
       "    .dataframe tbody tr th:only-of-type {\n",
       "        vertical-align: middle;\n",
       "    }\n",
       "\n",
       "    .dataframe tbody tr th {\n",
       "        vertical-align: top;\n",
       "    }\n",
       "\n",
       "    .dataframe thead th {\n",
       "        text-align: right;\n",
       "    }\n",
       "</style>\n",
       "<table border=\"1\" class=\"dataframe\">\n",
       "  <thead>\n",
       "    <tr style=\"text-align: right;\">\n",
       "      <th></th>\n",
       "      <th>MSISDN/Number</th>\n",
       "      <th>Session Frequency</th>\n",
       "      <th>Average Session Duration (s)</th>\n",
       "      <th>Total Traffic (Bytes)</th>\n",
       "    </tr>\n",
       "  </thead>\n",
       "  <tbody>\n",
       "    <tr>\n",
       "      <th>0</th>\n",
       "      <td>3.360100e+10</td>\n",
       "      <td>1</td>\n",
       "      <td>116.720</td>\n",
       "      <td>878690574.0</td>\n",
       "    </tr>\n",
       "    <tr>\n",
       "      <th>1</th>\n",
       "      <td>3.360100e+10</td>\n",
       "      <td>1</td>\n",
       "      <td>181.230</td>\n",
       "      <td>156859643.0</td>\n",
       "    </tr>\n",
       "    <tr>\n",
       "      <th>2</th>\n",
       "      <td>3.360100e+10</td>\n",
       "      <td>1</td>\n",
       "      <td>134.969</td>\n",
       "      <td>595966483.0</td>\n",
       "    </tr>\n",
       "    <tr>\n",
       "      <th>3</th>\n",
       "      <td>3.360101e+10</td>\n",
       "      <td>1</td>\n",
       "      <td>49.878</td>\n",
       "      <td>422320698.0</td>\n",
       "    </tr>\n",
       "    <tr>\n",
       "      <th>4</th>\n",
       "      <td>3.360101e+10</td>\n",
       "      <td>1</td>\n",
       "      <td>128.088</td>\n",
       "      <td>194367933.0</td>\n",
       "    </tr>\n",
       "  </tbody>\n",
       "</table>\n",
       "</div>"
      ],
      "text/plain": [
       "   MSISDN/Number  Session Frequency  Average Session Duration (s)  \\\n",
       "0   3.360100e+10                  1                       116.720   \n",
       "1   3.360100e+10                  1                       181.230   \n",
       "2   3.360100e+10                  1                       134.969   \n",
       "3   3.360101e+10                  1                        49.878   \n",
       "4   3.360101e+10                  1                       128.088   \n",
       "\n",
       "   Total Traffic (Bytes)  \n",
       "0            878690574.0  \n",
       "1            156859643.0  \n",
       "2            595966483.0  \n",
       "3            422320698.0  \n",
       "4            194367933.0  "
      ]
     },
     "execution_count": 58,
     "metadata": {},
     "output_type": "execute_result"
    }
   ],
   "source": [
    "engagement_metrics.head()"
   ]
  },
  {
   "cell_type": "markdown",
   "metadata": {},
   "source": [
    "- Users generally have **low session frequency** (mostly 1 session).  \n",
    "- **Average session durations vary**, ranging from ~50 to 181 seconds.  \n",
    "- **Total traffic usage fluctuates**, with some users consuming up to ~878MB, while others use significantly less (~194MB).  \n",
    "- Indicates diverse user behavior in terms of session length and data consumption."
   ]
  },
  {
   "cell_type": "markdown",
   "metadata": {},
   "source": [
    "# Who are the top 10 most engaged users for each metric?"
   ]
  },
  {
   "cell_type": "code",
   "execution_count": 59,
   "metadata": {},
   "outputs": [
    {
     "data": {
      "text/html": [
       "<div>\n",
       "<style scoped>\n",
       "    .dataframe tbody tr th:only-of-type {\n",
       "        vertical-align: middle;\n",
       "    }\n",
       "\n",
       "    .dataframe tbody tr th {\n",
       "        vertical-align: top;\n",
       "    }\n",
       "\n",
       "    .dataframe thead th {\n",
       "        text-align: right;\n",
       "    }\n",
       "</style>\n",
       "<table border=\"1\" class=\"dataframe\">\n",
       "  <thead>\n",
       "    <tr style=\"text-align: right;\">\n",
       "      <th></th>\n",
       "      <th>MSISDN/Number</th>\n",
       "      <th>Session Frequency</th>\n",
       "      <th>Average Session Duration (s)</th>\n",
       "      <th>Total Traffic (Bytes)</th>\n",
       "    </tr>\n",
       "  </thead>\n",
       "  <tbody>\n",
       "    <tr>\n",
       "      <th>72593</th>\n",
       "      <td>4.188282e+10</td>\n",
       "      <td>719</td>\n",
       "      <td>71.976497</td>\n",
       "      <td>3.567871e+11</td>\n",
       "    </tr>\n",
       "    <tr>\n",
       "      <th>4741</th>\n",
       "      <td>3.361489e+10</td>\n",
       "      <td>17</td>\n",
       "      <td>586.288118</td>\n",
       "      <td>8.846226e+09</td>\n",
       "    </tr>\n",
       "    <tr>\n",
       "      <th>63174</th>\n",
       "      <td>3.376054e+10</td>\n",
       "      <td>15</td>\n",
       "      <td>618.628933</td>\n",
       "      <td>8.514774e+09</td>\n",
       "    </tr>\n",
       "    <tr>\n",
       "      <th>9740</th>\n",
       "      <td>3.362578e+10</td>\n",
       "      <td>17</td>\n",
       "      <td>1091.397294</td>\n",
       "      <td>8.499621e+09</td>\n",
       "    </tr>\n",
       "    <tr>\n",
       "      <th>42780</th>\n",
       "      <td>3.366646e+10</td>\n",
       "      <td>11</td>\n",
       "      <td>412.432455</td>\n",
       "      <td>7.308501e+09</td>\n",
       "    </tr>\n",
       "    <tr>\n",
       "      <th>51657</th>\n",
       "      <td>3.367588e+10</td>\n",
       "      <td>14</td>\n",
       "      <td>334.139643</td>\n",
       "      <td>7.178848e+09</td>\n",
       "    </tr>\n",
       "    <tr>\n",
       "      <th>9992</th>\n",
       "      <td>3.362632e+10</td>\n",
       "      <td>16</td>\n",
       "      <td>535.710000</td>\n",
       "      <td>7.005983e+09</td>\n",
       "    </tr>\n",
       "    <tr>\n",
       "      <th>39183</th>\n",
       "      <td>3.366471e+10</td>\n",
       "      <td>11</td>\n",
       "      <td>266.162273</td>\n",
       "      <td>6.872018e+09</td>\n",
       "    </tr>\n",
       "    <tr>\n",
       "      <th>25965</th>\n",
       "      <td>3.365973e+10</td>\n",
       "      <td>14</td>\n",
       "      <td>259.091929</td>\n",
       "      <td>6.682807e+09</td>\n",
       "    </tr>\n",
       "    <tr>\n",
       "      <th>58882</th>\n",
       "      <td>3.369879e+10</td>\n",
       "      <td>11</td>\n",
       "      <td>469.920727</td>\n",
       "      <td>6.540899e+09</td>\n",
       "    </tr>\n",
       "  </tbody>\n",
       "</table>\n",
       "</div>"
      ],
      "text/plain": [
       "       MSISDN/Number  Session Frequency  Average Session Duration (s)  \\\n",
       "72593   4.188282e+10                719                     71.976497   \n",
       "4741    3.361489e+10                 17                    586.288118   \n",
       "63174   3.376054e+10                 15                    618.628933   \n",
       "9740    3.362578e+10                 17                   1091.397294   \n",
       "42780   3.366646e+10                 11                    412.432455   \n",
       "51657   3.367588e+10                 14                    334.139643   \n",
       "9992    3.362632e+10                 16                    535.710000   \n",
       "39183   3.366471e+10                 11                    266.162273   \n",
       "25965   3.365973e+10                 14                    259.091929   \n",
       "58882   3.369879e+10                 11                    469.920727   \n",
       "\n",
       "       Total Traffic (Bytes)  \n",
       "72593           3.567871e+11  \n",
       "4741            8.846226e+09  \n",
       "63174           8.514774e+09  \n",
       "9740            8.499621e+09  \n",
       "42780           7.308501e+09  \n",
       "51657           7.178848e+09  \n",
       "9992            7.005983e+09  \n",
       "39183           6.872018e+09  \n",
       "25965           6.682807e+09  \n",
       "58882           6.540899e+09  "
      ]
     },
     "execution_count": 59,
     "metadata": {},
     "output_type": "execute_result"
    }
   ],
   "source": [
    "# Top 10 users by Total Traffic (Bytes)\n",
    "top_10_total_traffic = engagement_metrics.nlargest(10, 'Total Traffic (Bytes)')\n",
    "top_10_total_traffic\n"
   ]
  },
  {
   "cell_type": "code",
   "execution_count": 60,
   "metadata": {},
   "outputs": [
    {
     "data": {
      "text/html": [
       "<div>\n",
       "<style scoped>\n",
       "    .dataframe tbody tr th:only-of-type {\n",
       "        vertical-align: middle;\n",
       "    }\n",
       "\n",
       "    .dataframe tbody tr th {\n",
       "        vertical-align: top;\n",
       "    }\n",
       "\n",
       "    .dataframe thead th {\n",
       "        text-align: right;\n",
       "    }\n",
       "</style>\n",
       "<table border=\"1\" class=\"dataframe\">\n",
       "  <thead>\n",
       "    <tr style=\"text-align: right;\">\n",
       "      <th></th>\n",
       "      <th>MSISDN/Number</th>\n",
       "      <th>Session Frequency</th>\n",
       "      <th>Average Session Duration (s)</th>\n",
       "      <th>Total Traffic (Bytes)</th>\n",
       "    </tr>\n",
       "  </thead>\n",
       "  <tbody>\n",
       "    <tr>\n",
       "      <th>72593</th>\n",
       "      <td>4.188282e+10</td>\n",
       "      <td>719</td>\n",
       "      <td>71.976497</td>\n",
       "      <td>3.567871e+11</td>\n",
       "    </tr>\n",
       "    <tr>\n",
       "      <th>4741</th>\n",
       "      <td>3.361489e+10</td>\n",
       "      <td>17</td>\n",
       "      <td>586.288118</td>\n",
       "      <td>8.846226e+09</td>\n",
       "    </tr>\n",
       "    <tr>\n",
       "      <th>9740</th>\n",
       "      <td>3.362578e+10</td>\n",
       "      <td>17</td>\n",
       "      <td>1091.397294</td>\n",
       "      <td>8.499621e+09</td>\n",
       "    </tr>\n",
       "    <tr>\n",
       "      <th>9992</th>\n",
       "      <td>3.362632e+10</td>\n",
       "      <td>16</td>\n",
       "      <td>535.710000</td>\n",
       "      <td>7.005983e+09</td>\n",
       "    </tr>\n",
       "    <tr>\n",
       "      <th>63174</th>\n",
       "      <td>3.376054e+10</td>\n",
       "      <td>15</td>\n",
       "      <td>618.628933</td>\n",
       "      <td>8.514774e+09</td>\n",
       "    </tr>\n",
       "    <tr>\n",
       "      <th>25965</th>\n",
       "      <td>3.365973e+10</td>\n",
       "      <td>14</td>\n",
       "      <td>259.091929</td>\n",
       "      <td>6.682807e+09</td>\n",
       "    </tr>\n",
       "    <tr>\n",
       "      <th>51657</th>\n",
       "      <td>3.367588e+10</td>\n",
       "      <td>14</td>\n",
       "      <td>334.139643</td>\n",
       "      <td>7.178848e+09</td>\n",
       "    </tr>\n",
       "    <tr>\n",
       "      <th>946</th>\n",
       "      <td>3.360452e+10</td>\n",
       "      <td>12</td>\n",
       "      <td>433.999167</td>\n",
       "      <td>5.487855e+09</td>\n",
       "    </tr>\n",
       "    <tr>\n",
       "      <th>10347</th>\n",
       "      <td>3.362708e+10</td>\n",
       "      <td>12</td>\n",
       "      <td>391.959667</td>\n",
       "      <td>5.754731e+09</td>\n",
       "    </tr>\n",
       "    <tr>\n",
       "      <th>72065</th>\n",
       "      <td>3.378632e+10</td>\n",
       "      <td>12</td>\n",
       "      <td>338.304333</td>\n",
       "      <td>5.622232e+09</td>\n",
       "    </tr>\n",
       "  </tbody>\n",
       "</table>\n",
       "</div>"
      ],
      "text/plain": [
       "       MSISDN/Number  Session Frequency  Average Session Duration (s)  \\\n",
       "72593   4.188282e+10                719                     71.976497   \n",
       "4741    3.361489e+10                 17                    586.288118   \n",
       "9740    3.362578e+10                 17                   1091.397294   \n",
       "9992    3.362632e+10                 16                    535.710000   \n",
       "63174   3.376054e+10                 15                    618.628933   \n",
       "25965   3.365973e+10                 14                    259.091929   \n",
       "51657   3.367588e+10                 14                    334.139643   \n",
       "946     3.360452e+10                 12                    433.999167   \n",
       "10347   3.362708e+10                 12                    391.959667   \n",
       "72065   3.378632e+10                 12                    338.304333   \n",
       "\n",
       "       Total Traffic (Bytes)  \n",
       "72593           3.567871e+11  \n",
       "4741            8.846226e+09  \n",
       "9740            8.499621e+09  \n",
       "9992            7.005983e+09  \n",
       "63174           8.514774e+09  \n",
       "25965           6.682807e+09  \n",
       "51657           7.178848e+09  \n",
       "946             5.487855e+09  \n",
       "10347           5.754731e+09  \n",
       "72065           5.622232e+09  "
      ]
     },
     "execution_count": 60,
     "metadata": {},
     "output_type": "execute_result"
    }
   ],
   "source": [
    "# Top 10 users by Session Frequency\n",
    "top_10_session_frequency = engagement_metrics.nlargest(10, 'Session Frequency')\n",
    "top_10_session_frequency"
   ]
  },
  {
   "cell_type": "code",
   "execution_count": 61,
   "metadata": {},
   "outputs": [
    {
     "data": {
      "text/html": [
       "<div>\n",
       "<style scoped>\n",
       "    .dataframe tbody tr th:only-of-type {\n",
       "        vertical-align: middle;\n",
       "    }\n",
       "\n",
       "    .dataframe tbody tr th {\n",
       "        vertical-align: top;\n",
       "    }\n",
       "\n",
       "    .dataframe thead th {\n",
       "        text-align: right;\n",
       "    }\n",
       "</style>\n",
       "<table border=\"1\" class=\"dataframe\">\n",
       "  <thead>\n",
       "    <tr style=\"text-align: right;\">\n",
       "      <th></th>\n",
       "      <th>MSISDN/Number</th>\n",
       "      <th>Session Frequency</th>\n",
       "      <th>Average Session Duration (s)</th>\n",
       "      <th>Total Traffic (Bytes)</th>\n",
       "    </tr>\n",
       "  </thead>\n",
       "  <tbody>\n",
       "    <tr>\n",
       "      <th>67577</th>\n",
       "      <td>3.376355e+10</td>\n",
       "      <td>2</td>\n",
       "      <td>1657.398</td>\n",
       "      <td>1.034829e+09</td>\n",
       "    </tr>\n",
       "    <tr>\n",
       "      <th>48214</th>\n",
       "      <td>3.366926e+10</td>\n",
       "      <td>1</td>\n",
       "      <td>1573.420</td>\n",
       "      <td>3.704210e+08</td>\n",
       "    </tr>\n",
       "    <tr>\n",
       "      <th>31343</th>\n",
       "      <td>3.366172e+10</td>\n",
       "      <td>1</td>\n",
       "      <td>1480.875</td>\n",
       "      <td>3.567835e+08</td>\n",
       "    </tr>\n",
       "    <tr>\n",
       "      <th>1469</th>\n",
       "      <td>3.360750e+10</td>\n",
       "      <td>1</td>\n",
       "      <td>1474.663</td>\n",
       "      <td>1.770069e+08</td>\n",
       "    </tr>\n",
       "    <tr>\n",
       "      <th>66427</th>\n",
       "      <td>3.376260e+10</td>\n",
       "      <td>1</td>\n",
       "      <td>1375.612</td>\n",
       "      <td>5.731594e+08</td>\n",
       "    </tr>\n",
       "    <tr>\n",
       "      <th>63315</th>\n",
       "      <td>3.376063e+10</td>\n",
       "      <td>1</td>\n",
       "      <td>1361.762</td>\n",
       "      <td>3.076910e+08</td>\n",
       "    </tr>\n",
       "    <tr>\n",
       "      <th>65082</th>\n",
       "      <td>3.376167e+10</td>\n",
       "      <td>1</td>\n",
       "      <td>1357.643</td>\n",
       "      <td>7.809365e+08</td>\n",
       "    </tr>\n",
       "    <tr>\n",
       "      <th>61431</th>\n",
       "      <td>3.375034e+10</td>\n",
       "      <td>1</td>\n",
       "      <td>1321.509</td>\n",
       "      <td>8.893527e+08</td>\n",
       "    </tr>\n",
       "    <tr>\n",
       "      <th>43470</th>\n",
       "      <td>3.366682e+10</td>\n",
       "      <td>1</td>\n",
       "      <td>1299.381</td>\n",
       "      <td>2.293477e+08</td>\n",
       "    </tr>\n",
       "    <tr>\n",
       "      <th>9359</th>\n",
       "      <td>3.362498e+10</td>\n",
       "      <td>1</td>\n",
       "      <td>1282.200</td>\n",
       "      <td>5.772626e+08</td>\n",
       "    </tr>\n",
       "  </tbody>\n",
       "</table>\n",
       "</div>"
      ],
      "text/plain": [
       "       MSISDN/Number  Session Frequency  Average Session Duration (s)  \\\n",
       "67577   3.376355e+10                  2                      1657.398   \n",
       "48214   3.366926e+10                  1                      1573.420   \n",
       "31343   3.366172e+10                  1                      1480.875   \n",
       "1469    3.360750e+10                  1                      1474.663   \n",
       "66427   3.376260e+10                  1                      1375.612   \n",
       "63315   3.376063e+10                  1                      1361.762   \n",
       "65082   3.376167e+10                  1                      1357.643   \n",
       "61431   3.375034e+10                  1                      1321.509   \n",
       "43470   3.366682e+10                  1                      1299.381   \n",
       "9359    3.362498e+10                  1                      1282.200   \n",
       "\n",
       "       Total Traffic (Bytes)  \n",
       "67577           1.034829e+09  \n",
       "48214           3.704210e+08  \n",
       "31343           3.567835e+08  \n",
       "1469            1.770069e+08  \n",
       "66427           5.731594e+08  \n",
       "63315           3.076910e+08  \n",
       "65082           7.809365e+08  \n",
       "61431           8.893527e+08  \n",
       "43470           2.293477e+08  \n",
       "9359            5.772626e+08  "
      ]
     },
     "execution_count": 61,
     "metadata": {},
     "output_type": "execute_result"
    }
   ],
   "source": [
    "# Top 10 users by Average Session Duration (s)\n",
    "top_10_average_duration = engagement_metrics.nlargest(10, 'Average Session Duration (s)')\n",
    "top_10_average_duration"
   ]
  },
  {
   "cell_type": "markdown",
   "metadata": {},
   "source": [
    "# Task 2 - User Engagement Analysis\n"
   ]
  },
  {
   "cell_type": "code",
   "execution_count": 62,
   "metadata": {},
   "outputs": [],
   "source": [
    "#Calculate session frequency per user\n",
    "session_frequency = dataset.groupby('MSISDN/Number').size().reset_index(name='Session Frequency')"
   ]
  },
  {
   "cell_type": "code",
   "execution_count": 63,
   "metadata": {},
   "outputs": [],
   "source": [
    "# Calculate average session duration per user (convert duration to seconds)\n",
    "dataset['Duration (s)'] = dataset['Dur. (ms)'] / 1000\n",
    "average_duration = dataset.groupby('MSISDN/Number')['Duration (s)'].mean().reset_index(name='Average Session Duration (s)')"
   ]
  },
  {
   "cell_type": "code",
   "execution_count": 64,
   "metadata": {},
   "outputs": [],
   "source": [
    "# Calculate total traffic (download + upload) per user\n",
    "dataset['Total Traffic (Bytes)'] = dataset['Total DL (Bytes)'] + dataset['Total UL (Bytes)'] # Changed 'Total Dl (Bytes)' to 'Total DL (Bytes)'\n",
    "total_traffic = dataset.groupby('MSISDN/Number')['Total Traffic (Bytes)'].sum().reset_index(name='Total Traffic (Bytes)')"
   ]
  },
  {
   "cell_type": "code",
   "execution_count": 65,
   "metadata": {},
   "outputs": [],
   "source": [
    "# Combine all metrics into a single DataFrame\n",
    "engagement_metrics = session_frequency.merge(average_duration, on='MSISDN/Number')\n",
    "engagement_metrics = engagement_metrics.merge(total_traffic, on='MSISDN/Number')"
   ]
  },
  {
   "cell_type": "code",
   "execution_count": 66,
   "metadata": {},
   "outputs": [
    {
     "data": {
      "text/html": [
       "<div>\n",
       "<style scoped>\n",
       "    .dataframe tbody tr th:only-of-type {\n",
       "        vertical-align: middle;\n",
       "    }\n",
       "\n",
       "    .dataframe tbody tr th {\n",
       "        vertical-align: top;\n",
       "    }\n",
       "\n",
       "    .dataframe thead th {\n",
       "        text-align: right;\n",
       "    }\n",
       "</style>\n",
       "<table border=\"1\" class=\"dataframe\">\n",
       "  <thead>\n",
       "    <tr style=\"text-align: right;\">\n",
       "      <th></th>\n",
       "      <th>MSISDN/Number</th>\n",
       "      <th>Session Frequency</th>\n",
       "      <th>Average Session Duration (s)</th>\n",
       "      <th>Total Traffic (Bytes)</th>\n",
       "    </tr>\n",
       "  </thead>\n",
       "  <tbody>\n",
       "    <tr>\n",
       "      <th>0</th>\n",
       "      <td>3.360100e+10</td>\n",
       "      <td>1</td>\n",
       "      <td>116.720</td>\n",
       "      <td>878690574.0</td>\n",
       "    </tr>\n",
       "    <tr>\n",
       "      <th>1</th>\n",
       "      <td>3.360100e+10</td>\n",
       "      <td>1</td>\n",
       "      <td>181.230</td>\n",
       "      <td>156859643.0</td>\n",
       "    </tr>\n",
       "    <tr>\n",
       "      <th>2</th>\n",
       "      <td>3.360100e+10</td>\n",
       "      <td>1</td>\n",
       "      <td>134.969</td>\n",
       "      <td>595966483.0</td>\n",
       "    </tr>\n",
       "    <tr>\n",
       "      <th>3</th>\n",
       "      <td>3.360101e+10</td>\n",
       "      <td>1</td>\n",
       "      <td>49.878</td>\n",
       "      <td>422320698.0</td>\n",
       "    </tr>\n",
       "    <tr>\n",
       "      <th>4</th>\n",
       "      <td>3.360101e+10</td>\n",
       "      <td>1</td>\n",
       "      <td>128.088</td>\n",
       "      <td>194367933.0</td>\n",
       "    </tr>\n",
       "  </tbody>\n",
       "</table>\n",
       "</div>"
      ],
      "text/plain": [
       "   MSISDN/Number  Session Frequency  Average Session Duration (s)  \\\n",
       "0   3.360100e+10                  1                       116.720   \n",
       "1   3.360100e+10                  1                       181.230   \n",
       "2   3.360100e+10                  1                       134.969   \n",
       "3   3.360101e+10                  1                        49.878   \n",
       "4   3.360101e+10                  1                       128.088   \n",
       "\n",
       "   Total Traffic (Bytes)  \n",
       "0            878690574.0  \n",
       "1            156859643.0  \n",
       "2            595966483.0  \n",
       "3            422320698.0  \n",
       "4            194367933.0  "
      ]
     },
     "execution_count": 66,
     "metadata": {},
     "output_type": "execute_result"
    }
   ],
   "source": [
    "engagement_metrics.head()"
   ]
  },
  {
   "cell_type": "code",
   "execution_count": 67,
   "metadata": {},
   "outputs": [
    {
     "name": "stdout",
     "output_type": "stream",
     "text": [
      "Engagement metrics have been saved to C:\\Users\\Lenovo\\Desktop\\engagement_metrics.csv\n"
     ]
    }
   ],
   "source": [
    "# Save the engagement metrics to a CSV file\n",
    "output_path = 'C:\\\\Users\\\\Lenovo\\\\Desktop\\\\engagement_metrics.csv' #Corrected path\n",
    "engagement_metrics.to_csv(output_path, index=False)\n",
    "\n",
    "print(f\"Engagement metrics have been saved to {output_path}\")\n"
   ]
  },
  {
   "cell_type": "markdown",
   "metadata": {},
   "source": [
    "# Task 2.1 - Engagement Metrics Analysis"
   ]
  },
  {
   "cell_type": "code",
   "execution_count": 68,
   "metadata": {},
   "outputs": [],
   "source": [
    "#Aggregate metrics per customer ID (MSISDN) and report the top 10 customers per engagement metric.\n"
   ]
  },
  {
   "cell_type": "code",
   "execution_count": 69,
   "metadata": {},
   "outputs": [
    {
     "data": {
      "text/html": [
       "<div>\n",
       "<style scoped>\n",
       "    .dataframe tbody tr th:only-of-type {\n",
       "        vertical-align: middle;\n",
       "    }\n",
       "\n",
       "    .dataframe tbody tr th {\n",
       "        vertical-align: top;\n",
       "    }\n",
       "\n",
       "    .dataframe thead th {\n",
       "        text-align: right;\n",
       "    }\n",
       "</style>\n",
       "<table border=\"1\" class=\"dataframe\">\n",
       "  <thead>\n",
       "    <tr style=\"text-align: right;\">\n",
       "      <th></th>\n",
       "      <th>MSISDN/Number</th>\n",
       "      <th>Session Frequency</th>\n",
       "      <th>Average Session Duration (s)</th>\n",
       "      <th>Total Traffic (Bytes)</th>\n",
       "    </tr>\n",
       "  </thead>\n",
       "  <tbody>\n",
       "    <tr>\n",
       "      <th>72593</th>\n",
       "      <td>4.188282e+10</td>\n",
       "      <td>719</td>\n",
       "      <td>71.976497</td>\n",
       "      <td>3.567871e+11</td>\n",
       "    </tr>\n",
       "    <tr>\n",
       "      <th>4741</th>\n",
       "      <td>3.361489e+10</td>\n",
       "      <td>17</td>\n",
       "      <td>586.288118</td>\n",
       "      <td>8.846226e+09</td>\n",
       "    </tr>\n",
       "    <tr>\n",
       "      <th>63174</th>\n",
       "      <td>3.376054e+10</td>\n",
       "      <td>15</td>\n",
       "      <td>618.628933</td>\n",
       "      <td>8.514774e+09</td>\n",
       "    </tr>\n",
       "    <tr>\n",
       "      <th>9740</th>\n",
       "      <td>3.362578e+10</td>\n",
       "      <td>17</td>\n",
       "      <td>1091.397294</td>\n",
       "      <td>8.499621e+09</td>\n",
       "    </tr>\n",
       "    <tr>\n",
       "      <th>42780</th>\n",
       "      <td>3.366646e+10</td>\n",
       "      <td>11</td>\n",
       "      <td>412.432455</td>\n",
       "      <td>7.308501e+09</td>\n",
       "    </tr>\n",
       "    <tr>\n",
       "      <th>51657</th>\n",
       "      <td>3.367588e+10</td>\n",
       "      <td>14</td>\n",
       "      <td>334.139643</td>\n",
       "      <td>7.178848e+09</td>\n",
       "    </tr>\n",
       "    <tr>\n",
       "      <th>9992</th>\n",
       "      <td>3.362632e+10</td>\n",
       "      <td>16</td>\n",
       "      <td>535.710000</td>\n",
       "      <td>7.005983e+09</td>\n",
       "    </tr>\n",
       "    <tr>\n",
       "      <th>39183</th>\n",
       "      <td>3.366471e+10</td>\n",
       "      <td>11</td>\n",
       "      <td>266.162273</td>\n",
       "      <td>6.872018e+09</td>\n",
       "    </tr>\n",
       "    <tr>\n",
       "      <th>25965</th>\n",
       "      <td>3.365973e+10</td>\n",
       "      <td>14</td>\n",
       "      <td>259.091929</td>\n",
       "      <td>6.682807e+09</td>\n",
       "    </tr>\n",
       "    <tr>\n",
       "      <th>58882</th>\n",
       "      <td>3.369879e+10</td>\n",
       "      <td>11</td>\n",
       "      <td>469.920727</td>\n",
       "      <td>6.540899e+09</td>\n",
       "    </tr>\n",
       "  </tbody>\n",
       "</table>\n",
       "</div>"
      ],
      "text/plain": [
       "       MSISDN/Number  Session Frequency  Average Session Duration (s)  \\\n",
       "72593   4.188282e+10                719                     71.976497   \n",
       "4741    3.361489e+10                 17                    586.288118   \n",
       "63174   3.376054e+10                 15                    618.628933   \n",
       "9740    3.362578e+10                 17                   1091.397294   \n",
       "42780   3.366646e+10                 11                    412.432455   \n",
       "51657   3.367588e+10                 14                    334.139643   \n",
       "9992    3.362632e+10                 16                    535.710000   \n",
       "39183   3.366471e+10                 11                    266.162273   \n",
       "25965   3.365973e+10                 14                    259.091929   \n",
       "58882   3.369879e+10                 11                    469.920727   \n",
       "\n",
       "       Total Traffic (Bytes)  \n",
       "72593           3.567871e+11  \n",
       "4741            8.846226e+09  \n",
       "63174           8.514774e+09  \n",
       "9740            8.499621e+09  \n",
       "42780           7.308501e+09  \n",
       "51657           7.178848e+09  \n",
       "9992            7.005983e+09  \n",
       "39183           6.872018e+09  \n",
       "25965           6.682807e+09  \n",
       "58882           6.540899e+09  "
      ]
     },
     "execution_count": 69,
     "metadata": {},
     "output_type": "execute_result"
    }
   ],
   "source": [
    "# Top 10 users by Total Traffic (Bytes)\n",
    "top_10_total_traffic = engagement_metrics.nlargest(10, 'Total Traffic (Bytes)')\n",
    "top_10_total_traffic"
   ]
  },
  {
   "cell_type": "code",
   "execution_count": 70,
   "metadata": {},
   "outputs": [
    {
     "data": {
      "text/html": [
       "<div>\n",
       "<style scoped>\n",
       "    .dataframe tbody tr th:only-of-type {\n",
       "        vertical-align: middle;\n",
       "    }\n",
       "\n",
       "    .dataframe tbody tr th {\n",
       "        vertical-align: top;\n",
       "    }\n",
       "\n",
       "    .dataframe thead th {\n",
       "        text-align: right;\n",
       "    }\n",
       "</style>\n",
       "<table border=\"1\" class=\"dataframe\">\n",
       "  <thead>\n",
       "    <tr style=\"text-align: right;\">\n",
       "      <th></th>\n",
       "      <th>MSISDN/Number</th>\n",
       "      <th>Session Frequency</th>\n",
       "      <th>Average Session Duration (s)</th>\n",
       "      <th>Total Traffic (Bytes)</th>\n",
       "    </tr>\n",
       "  </thead>\n",
       "  <tbody>\n",
       "    <tr>\n",
       "      <th>72593</th>\n",
       "      <td>4.188282e+10</td>\n",
       "      <td>719</td>\n",
       "      <td>71.976497</td>\n",
       "      <td>3.567871e+11</td>\n",
       "    </tr>\n",
       "    <tr>\n",
       "      <th>4741</th>\n",
       "      <td>3.361489e+10</td>\n",
       "      <td>17</td>\n",
       "      <td>586.288118</td>\n",
       "      <td>8.846226e+09</td>\n",
       "    </tr>\n",
       "    <tr>\n",
       "      <th>9740</th>\n",
       "      <td>3.362578e+10</td>\n",
       "      <td>17</td>\n",
       "      <td>1091.397294</td>\n",
       "      <td>8.499621e+09</td>\n",
       "    </tr>\n",
       "    <tr>\n",
       "      <th>9992</th>\n",
       "      <td>3.362632e+10</td>\n",
       "      <td>16</td>\n",
       "      <td>535.710000</td>\n",
       "      <td>7.005983e+09</td>\n",
       "    </tr>\n",
       "    <tr>\n",
       "      <th>63174</th>\n",
       "      <td>3.376054e+10</td>\n",
       "      <td>15</td>\n",
       "      <td>618.628933</td>\n",
       "      <td>8.514774e+09</td>\n",
       "    </tr>\n",
       "    <tr>\n",
       "      <th>25965</th>\n",
       "      <td>3.365973e+10</td>\n",
       "      <td>14</td>\n",
       "      <td>259.091929</td>\n",
       "      <td>6.682807e+09</td>\n",
       "    </tr>\n",
       "    <tr>\n",
       "      <th>51657</th>\n",
       "      <td>3.367588e+10</td>\n",
       "      <td>14</td>\n",
       "      <td>334.139643</td>\n",
       "      <td>7.178848e+09</td>\n",
       "    </tr>\n",
       "    <tr>\n",
       "      <th>946</th>\n",
       "      <td>3.360452e+10</td>\n",
       "      <td>12</td>\n",
       "      <td>433.999167</td>\n",
       "      <td>5.487855e+09</td>\n",
       "    </tr>\n",
       "    <tr>\n",
       "      <th>10347</th>\n",
       "      <td>3.362708e+10</td>\n",
       "      <td>12</td>\n",
       "      <td>391.959667</td>\n",
       "      <td>5.754731e+09</td>\n",
       "    </tr>\n",
       "    <tr>\n",
       "      <th>72065</th>\n",
       "      <td>3.378632e+10</td>\n",
       "      <td>12</td>\n",
       "      <td>338.304333</td>\n",
       "      <td>5.622232e+09</td>\n",
       "    </tr>\n",
       "  </tbody>\n",
       "</table>\n",
       "</div>"
      ],
      "text/plain": [
       "       MSISDN/Number  Session Frequency  Average Session Duration (s)  \\\n",
       "72593   4.188282e+10                719                     71.976497   \n",
       "4741    3.361489e+10                 17                    586.288118   \n",
       "9740    3.362578e+10                 17                   1091.397294   \n",
       "9992    3.362632e+10                 16                    535.710000   \n",
       "63174   3.376054e+10                 15                    618.628933   \n",
       "25965   3.365973e+10                 14                    259.091929   \n",
       "51657   3.367588e+10                 14                    334.139643   \n",
       "946     3.360452e+10                 12                    433.999167   \n",
       "10347   3.362708e+10                 12                    391.959667   \n",
       "72065   3.378632e+10                 12                    338.304333   \n",
       "\n",
       "       Total Traffic (Bytes)  \n",
       "72593           3.567871e+11  \n",
       "4741            8.846226e+09  \n",
       "9740            8.499621e+09  \n",
       "9992            7.005983e+09  \n",
       "63174           8.514774e+09  \n",
       "25965           6.682807e+09  \n",
       "51657           7.178848e+09  \n",
       "946             5.487855e+09  \n",
       "10347           5.754731e+09  \n",
       "72065           5.622232e+09  "
      ]
     },
     "execution_count": 70,
     "metadata": {},
     "output_type": "execute_result"
    }
   ],
   "source": [
    "#Top 10 users by Session Frequency\n",
    "top_10_session_frequency = engagement_metrics.nlargest(10, 'Session Frequency')\n",
    "top_10_session_frequency"
   ]
  },
  {
   "cell_type": "code",
   "execution_count": 71,
   "metadata": {},
   "outputs": [
    {
     "data": {
      "text/html": [
       "<div>\n",
       "<style scoped>\n",
       "    .dataframe tbody tr th:only-of-type {\n",
       "        vertical-align: middle;\n",
       "    }\n",
       "\n",
       "    .dataframe tbody tr th {\n",
       "        vertical-align: top;\n",
       "    }\n",
       "\n",
       "    .dataframe thead th {\n",
       "        text-align: right;\n",
       "    }\n",
       "</style>\n",
       "<table border=\"1\" class=\"dataframe\">\n",
       "  <thead>\n",
       "    <tr style=\"text-align: right;\">\n",
       "      <th></th>\n",
       "      <th>MSISDN/Number</th>\n",
       "      <th>Session Frequency</th>\n",
       "      <th>Average Session Duration (s)</th>\n",
       "      <th>Total Traffic (Bytes)</th>\n",
       "    </tr>\n",
       "  </thead>\n",
       "  <tbody>\n",
       "    <tr>\n",
       "      <th>67577</th>\n",
       "      <td>3.376355e+10</td>\n",
       "      <td>2</td>\n",
       "      <td>1657.398</td>\n",
       "      <td>1.034829e+09</td>\n",
       "    </tr>\n",
       "    <tr>\n",
       "      <th>48214</th>\n",
       "      <td>3.366926e+10</td>\n",
       "      <td>1</td>\n",
       "      <td>1573.420</td>\n",
       "      <td>3.704210e+08</td>\n",
       "    </tr>\n",
       "    <tr>\n",
       "      <th>31343</th>\n",
       "      <td>3.366172e+10</td>\n",
       "      <td>1</td>\n",
       "      <td>1480.875</td>\n",
       "      <td>3.567835e+08</td>\n",
       "    </tr>\n",
       "    <tr>\n",
       "      <th>1469</th>\n",
       "      <td>3.360750e+10</td>\n",
       "      <td>1</td>\n",
       "      <td>1474.663</td>\n",
       "      <td>1.770069e+08</td>\n",
       "    </tr>\n",
       "    <tr>\n",
       "      <th>66427</th>\n",
       "      <td>3.376260e+10</td>\n",
       "      <td>1</td>\n",
       "      <td>1375.612</td>\n",
       "      <td>5.731594e+08</td>\n",
       "    </tr>\n",
       "    <tr>\n",
       "      <th>63315</th>\n",
       "      <td>3.376063e+10</td>\n",
       "      <td>1</td>\n",
       "      <td>1361.762</td>\n",
       "      <td>3.076910e+08</td>\n",
       "    </tr>\n",
       "    <tr>\n",
       "      <th>65082</th>\n",
       "      <td>3.376167e+10</td>\n",
       "      <td>1</td>\n",
       "      <td>1357.643</td>\n",
       "      <td>7.809365e+08</td>\n",
       "    </tr>\n",
       "    <tr>\n",
       "      <th>61431</th>\n",
       "      <td>3.375034e+10</td>\n",
       "      <td>1</td>\n",
       "      <td>1321.509</td>\n",
       "      <td>8.893527e+08</td>\n",
       "    </tr>\n",
       "    <tr>\n",
       "      <th>43470</th>\n",
       "      <td>3.366682e+10</td>\n",
       "      <td>1</td>\n",
       "      <td>1299.381</td>\n",
       "      <td>2.293477e+08</td>\n",
       "    </tr>\n",
       "    <tr>\n",
       "      <th>9359</th>\n",
       "      <td>3.362498e+10</td>\n",
       "      <td>1</td>\n",
       "      <td>1282.200</td>\n",
       "      <td>5.772626e+08</td>\n",
       "    </tr>\n",
       "  </tbody>\n",
       "</table>\n",
       "</div>"
      ],
      "text/plain": [
       "       MSISDN/Number  Session Frequency  Average Session Duration (s)  \\\n",
       "67577   3.376355e+10                  2                      1657.398   \n",
       "48214   3.366926e+10                  1                      1573.420   \n",
       "31343   3.366172e+10                  1                      1480.875   \n",
       "1469    3.360750e+10                  1                      1474.663   \n",
       "66427   3.376260e+10                  1                      1375.612   \n",
       "63315   3.376063e+10                  1                      1361.762   \n",
       "65082   3.376167e+10                  1                      1357.643   \n",
       "61431   3.375034e+10                  1                      1321.509   \n",
       "43470   3.366682e+10                  1                      1299.381   \n",
       "9359    3.362498e+10                  1                      1282.200   \n",
       "\n",
       "       Total Traffic (Bytes)  \n",
       "67577           1.034829e+09  \n",
       "48214           3.704210e+08  \n",
       "31343           3.567835e+08  \n",
       "1469            1.770069e+08  \n",
       "66427           5.731594e+08  \n",
       "63315           3.076910e+08  \n",
       "65082           7.809365e+08  \n",
       "61431           8.893527e+08  \n",
       "43470           2.293477e+08  \n",
       "9359            5.772626e+08  "
      ]
     },
     "execution_count": 71,
     "metadata": {},
     "output_type": "execute_result"
    }
   ],
   "source": [
    "# Top 10 users by Average Session Duration (s)\n",
    "top_10_average_duration = engagement_metrics.nlargest(10, 'Average Session Duration (s)')\n",
    "top_10_average_duration"
   ]
  },
  {
   "cell_type": "markdown",
   "metadata": {},
   "source": [
    "# Normalize each engagement metric and run k-means clustering (k=3) to classify customers into three engagement groups."
   ]
  },
  {
   "cell_type": "code",
   "execution_count": 72,
   "metadata": {},
   "outputs": [],
   "source": [
    "#Normalize each engagement metric and run k-means clustering (k=3) to classify customers into three engagement groups.\n",
    "from sklearn.preprocessing import MinMaxScaler\n",
    "from sklearn.cluster import KMeans"
   ]
  },
  {
   "cell_type": "code",
   "execution_count": 73,
   "metadata": {},
   "outputs": [
    {
     "name": "stdout",
     "output_type": "stream",
     "text": [
      "       Session Frequency  Average Session Duration (s)  Total Traffic (Bytes)\n",
      "0                    0.0                      0.066401               0.002369\n",
      "1                    0.0                      0.105492               0.000346\n",
      "2                    0.0                      0.077459               0.001576\n",
      "3                    0.0                      0.025897               0.001090\n",
      "4                    0.0                      0.073289               0.000451\n",
      "...                  ...                           ...                    ...\n",
      "72592                0.0                      0.081106               0.001252\n",
      "72593                1.0                      0.039288               1.000000\n",
      "72594                0.0                      0.527338               0.000557\n",
      "72595                0.0                      0.149000               0.001577\n",
      "72596                0.0                      0.522769               0.000296\n",
      "\n",
      "[72597 rows x 3 columns]\n"
     ]
    }
   ],
   "source": [
    "columns_to_normalize = ['Session Frequency', 'Average Session Duration (s)', 'Total Traffic (Bytes)']\n",
    "\n",
    "# Create a MinMaxScaler instance\n",
    "scaler = MinMaxScaler()\n",
    "\n",
    "# Normalize the selected columns\n",
    "normalized_data = scaler.fit_transform(engagement_metrics[columns_to_normalize])\n",
    "\n",
    "# Create a new DataFrame with the normalized values\n",
    "df_normalized = pd.DataFrame(normalized_data, columns=columns_to_normalize)\n",
    "\n",
    "# Check the normalized data\n",
    "print(df_normalized)\n"
   ]
  },
  {
   "cell_type": "code",
   "execution_count": 74,
   "metadata": {},
   "outputs": [
    {
     "name": "stdout",
     "output_type": "stream",
     "text": [
      "       MSISDN/Number  Session Frequency  Average Session Duration (s)  \\\n",
      "0       3.360100e+10                  1                    116.720000   \n",
      "1       3.360100e+10                  1                    181.230000   \n",
      "2       3.360100e+10                  1                    134.969000   \n",
      "3       3.360101e+10                  1                     49.878000   \n",
      "4       3.360101e+10                  1                    128.088000   \n",
      "...              ...                ...                           ...   \n",
      "72592   3.379000e+10                  1                    140.988000   \n",
      "72593   4.188282e+10                719                     71.976497   \n",
      "72594   3.197020e+12                  1                    877.385000   \n",
      "72595   3.370000e+14                  1                    253.030000   \n",
      "72596   8.823970e+14                  1                    869.844000   \n",
      "\n",
      "       Total Traffic (Bytes)  Cluster  \n",
      "0               8.786906e+08        0  \n",
      "1               1.568596e+08        0  \n",
      "2               5.959665e+08        0  \n",
      "3               4.223207e+08        2  \n",
      "4               1.943679e+08        0  \n",
      "...                      ...      ...  \n",
      "72592           4.803073e+08        0  \n",
      "72593           3.567871e+11        2  \n",
      "72594           2.321240e+08        1  \n",
      "72595           5.962878e+08        0  \n",
      "72596           1.391536e+08        1  \n",
      "\n",
      "[72597 rows x 5 columns]\n"
     ]
    }
   ],
   "source": [
    "# Step 3: Apply K-Means Clustering\n",
    "kmeans = KMeans(n_clusters=3, random_state=42)\n",
    "\n",
    "# Fit the K-Means model on the normalized data and predict cluster labels\n",
    "df_normalized['Cluster'] = kmeans.fit_predict(df_normalized)\n",
    "\n",
    "# Assign the cluster labels to the original DataFrame\n",
    "engagement_metrics['Cluster'] = df_normalized['Cluster']\n",
    "\n",
    "# Check the original dataset with cluster labels\n",
    "print(engagement_metrics)\n",
    "\n"
   ]
  },
  {
   "cell_type": "code",
   "execution_count": 75,
   "metadata": {},
   "outputs": [
    {
     "name": "stderr",
     "output_type": "stream",
     "text": [
      "C:\\Users\\Lenovo\\AppData\\Local\\Temp\\ipykernel_11948\\2350430591.py:4: FutureWarning: \n",
      "\n",
      "Passing `palette` without assigning `hue` is deprecated and will be removed in v0.14.0. Assign the `x` variable to `hue` and set `legend=False` for the same effect.\n",
      "\n",
      "  sns.barplot(x=cluster_sizes.index, y=cluster_sizes.values, palette='viridis')\n"
     ]
    },
    {
     "data": {
      "image/png": "[encoded data removed]",
      "text/plain": [
       "<Figure size 600x400 with 1 Axes>"
      ]
     },
     "metadata": {},
     "output_type": "display_data"
    }
   ],
   "source": [
    "# Optional: Visualize cluster sizes\n",
    "cluster_sizes = df_normalized['Cluster'].value_counts().sort_index()\n",
    "plt.figure(figsize=(6, 4))\n",
    "sns.barplot(x=cluster_sizes.index, y=cluster_sizes.values, palette='viridis')\n",
    "plt.title('Cluster Sizes')\n",
    "plt.xlabel('Cluster')\n",
    "plt.ylabel('Number of Customers')\n",
    "plt.tight_layout()\n",
    "plt.show()"
   ]
  },
  {
   "cell_type": "code",
   "execution_count": null,
   "metadata": {},
   "outputs": [],
   "source": []
  },
  {
   "cell_type": "code",
   "execution_count": null,
   "metadata": {},
   "outputs": [],
   "source": []
  },
  {
   "cell_type": "markdown",
   "metadata": {},
   "source": [
    "# Compute minimum, maximum, average, and total non-normalized metrics for each cluster."
   ]
  },
  {
   "cell_type": "code",
   "execution_count": 76,
   "metadata": {},
   "outputs": [
    {
     "data": {
      "text/html": [
       "<div>\n",
       "<style scoped>\n",
       "    .dataframe tbody tr th:only-of-type {\n",
       "        vertical-align: middle;\n",
       "    }\n",
       "\n",
       "    .dataframe tbody tr th {\n",
       "        vertical-align: top;\n",
       "    }\n",
       "\n",
       "    .dataframe thead tr th {\n",
       "        text-align: left;\n",
       "    }\n",
       "\n",
       "    .dataframe thead tr:last-of-type th {\n",
       "        text-align: right;\n",
       "    }\n",
       "</style>\n",
       "<table border=\"1\" class=\"dataframe\">\n",
       "  <thead>\n",
       "    <tr>\n",
       "      <th></th>\n",
       "      <th colspan=\"4\" halign=\"left\">Session Frequency</th>\n",
       "      <th colspan=\"4\" halign=\"left\">Average Session Duration (s)</th>\n",
       "      <th colspan=\"4\" halign=\"left\">Total Traffic (Bytes)</th>\n",
       "      <th colspan=\"4\" halign=\"left\">Cluster</th>\n",
       "    </tr>\n",
       "    <tr>\n",
       "      <th></th>\n",
       "      <th>min</th>\n",
       "      <th>max</th>\n",
       "      <th>mean</th>\n",
       "      <th>sum</th>\n",
       "      <th>min</th>\n",
       "      <th>max</th>\n",
       "      <th>mean</th>\n",
       "      <th>sum</th>\n",
       "      <th>min</th>\n",
       "      <th>max</th>\n",
       "      <th>mean</th>\n",
       "      <th>sum</th>\n",
       "      <th>min</th>\n",
       "      <th>max</th>\n",
       "      <th>mean</th>\n",
       "      <th>sum</th>\n",
       "    </tr>\n",
       "    <tr>\n",
       "      <th>Cluster</th>\n",
       "      <th></th>\n",
       "      <th></th>\n",
       "      <th></th>\n",
       "      <th></th>\n",
       "      <th></th>\n",
       "      <th></th>\n",
       "      <th></th>\n",
       "      <th></th>\n",
       "      <th></th>\n",
       "      <th></th>\n",
       "      <th></th>\n",
       "      <th></th>\n",
       "      <th></th>\n",
       "      <th></th>\n",
       "      <th></th>\n",
       "      <th></th>\n",
       "    </tr>\n",
       "  </thead>\n",
       "  <tbody>\n",
       "    <tr>\n",
       "      <th>0</th>\n",
       "      <td>1</td>\n",
       "      <td>14</td>\n",
       "      <td>1.247778</td>\n",
       "      <td>36364</td>\n",
       "      <td>113.548333</td>\n",
       "      <td>286.055</td>\n",
       "      <td>167.215927</td>\n",
       "      <td>4.873174e+06</td>\n",
       "      <td>33575840.0</td>\n",
       "      <td>6.872018e+09</td>\n",
       "      <td>6.194759e+08</td>\n",
       "      <td>1.805339e+13</td>\n",
       "      <td>0</td>\n",
       "      <td>0</td>\n",
       "      <td>0.0</td>\n",
       "      <td>0</td>\n",
       "    </tr>\n",
       "    <tr>\n",
       "      <th>1</th>\n",
       "      <td>1</td>\n",
       "      <td>17</td>\n",
       "      <td>1.595060</td>\n",
       "      <td>3616</td>\n",
       "      <td>286.151000</td>\n",
       "      <td>1657.398</td>\n",
       "      <td>405.269125</td>\n",
       "      <td>9.187451e+05</td>\n",
       "      <td>52128380.0</td>\n",
       "      <td>8.846226e+09</td>\n",
       "      <td>7.965135e+08</td>\n",
       "      <td>1.805696e+12</td>\n",
       "      <td>1</td>\n",
       "      <td>1</td>\n",
       "      <td>1.0</td>\n",
       "      <td>2267</td>\n",
       "    </tr>\n",
       "    <tr>\n",
       "      <th>2</th>\n",
       "      <td>1</td>\n",
       "      <td>719</td>\n",
       "      <td>1.202952</td>\n",
       "      <td>49546</td>\n",
       "      <td>7.142000</td>\n",
       "      <td>113.548</td>\n",
       "      <td>59.973809</td>\n",
       "      <td>2.470141e+06</td>\n",
       "      <td>38022357.0</td>\n",
       "      <td>3.567871e+11</td>\n",
       "      <td>5.977308e+08</td>\n",
       "      <td>2.461874e+13</td>\n",
       "      <td>2</td>\n",
       "      <td>2</td>\n",
       "      <td>2.0</td>\n",
       "      <td>82374</td>\n",
       "    </tr>\n",
       "  </tbody>\n",
       "</table>\n",
       "</div>"
      ],
      "text/plain": [
       "        Session Frequency                       Average Session Duration (s)  \\\n",
       "                      min  max      mean    sum                          min   \n",
       "Cluster                                                                        \n",
       "0                       1   14  1.247778  36364                   113.548333   \n",
       "1                       1   17  1.595060   3616                   286.151000   \n",
       "2                       1  719  1.202952  49546                     7.142000   \n",
       "\n",
       "                                            Total Traffic (Bytes)  \\\n",
       "              max        mean           sum                   min   \n",
       "Cluster                                                             \n",
       "0         286.055  167.215927  4.873174e+06            33575840.0   \n",
       "1        1657.398  405.269125  9.187451e+05            52128380.0   \n",
       "2         113.548   59.973809  2.470141e+06            38022357.0   \n",
       "\n",
       "                                                  Cluster                  \n",
       "                  max          mean           sum     min max mean    sum  \n",
       "Cluster                                                                    \n",
       "0        6.872018e+09  6.194759e+08  1.805339e+13       0   0  0.0      0  \n",
       "1        8.846226e+09  7.965135e+08  1.805696e+12       1   1  1.0   2267  \n",
       "2        3.567871e+11  5.977308e+08  2.461874e+13       2   2  2.0  82374  "
      ]
     },
     "execution_count": 76,
     "metadata": {},
     "output_type": "execute_result"
    }
   ],
   "source": [
    "#Compute statistics for non-normalized metrics by cluster\n",
    "columns_to_aggregate = engagement_metrics.columns[1:] # Exclude 'MSISDN/Number'\n",
    "\n",
    "cluster_stats = engagement_metrics.groupby('Cluster')[columns_to_aggregate].agg(['min', 'max', 'mean', 'sum'])\n",
    "cluster_stats"
   ]
  },
  {
   "cell_type": "markdown",
   "metadata": {},
   "source": [
    "# Visual interpretation with accompanying explanatory text.\n"
   ]
  },
  {
   "cell_type": "code",
   "execution_count": 77,
   "metadata": {},
   "outputs": [
    {
     "name": "stderr",
     "output_type": "stream",
     "text": [
      "C:\\Users\\Lenovo\\AppData\\Local\\Temp\\ipykernel_11948\\2120963236.py:12: FutureWarning: \n",
      "\n",
      "Passing `palette` without assigning `hue` is deprecated and will be removed in v0.14.0. Assign the `x` variable to `hue` and set `legend=False` for the same effect.\n",
      "\n",
      "  sns.boxplot(x=engagement_metrics['Cluster'], y=engagement_metrics[metric], palette='Set2')\n",
      "C:\\Users\\Lenovo\\AppData\\Local\\Temp\\ipykernel_11948\\2120963236.py:12: FutureWarning: \n",
      "\n",
      "Passing `palette` without assigning `hue` is deprecated and will be removed in v0.14.0. Assign the `x` variable to `hue` and set `legend=False` for the same effect.\n",
      "\n",
      "  sns.boxplot(x=engagement_metrics['Cluster'], y=engagement_metrics[metric], palette='Set2')\n",
      "C:\\Users\\Lenovo\\AppData\\Local\\Temp\\ipykernel_11948\\2120963236.py:12: FutureWarning: \n",
      "\n",
      "Passing `palette` without assigning `hue` is deprecated and will be removed in v0.14.0. Assign the `x` variable to `hue` and set `legend=False` for the same effect.\n",
      "\n",
      "  sns.boxplot(x=engagement_metrics['Cluster'], y=engagement_metrics[metric], palette='Set2')\n"
     ]
    },
    {
     "data": {
      "image/png": "[encoded data removed]",
      "text/plain": [
       "<Figure size 1000x800 with 3 Axes>"
      ]
     },
     "metadata": {},
     "output_type": "display_data"
    }
   ],
   "source": [
    "import seaborn as sns\n",
    "import matplotlib.pyplot as plt\n",
    "\n",
    "# Set style for better visuals\n",
    "sns.set(style=\"whitegrid\")\n",
    "\n",
    "# Step 1: Box Plot for each engagement metric across clusters\n",
    "plt.figure(figsize=(10, 8))  # Adjust size to accommodate all subplots\n",
    "for i, metric in enumerate(['Session Frequency', 'Average Session Duration (s)', 'Total Traffic (Bytes)']):\n",
    "    plt.subplot(2, 2, i + 1)\n",
    "    # Fix: Use the 'Cluster' column directly from engagement_metrics\n",
    "    sns.boxplot(x=engagement_metrics['Cluster'], y=engagement_metrics[metric], palette='Set2')  \n",
    "    plt.title(f'{metric} by Cluster')\n",
    "    plt.xlabel('Cluster')\n",
    "    plt.ylabel(metric)\n",
    "\n",
    "plt.tight_layout()\n",
    "plt.show()"
   ]
  },
  {
   "cell_type": "markdown",
   "metadata": {},
   "source": [
    "# Aggregate user total traffic per application and identify the top 10 most engaged users per application."
   ]
  },
  {
   "cell_type": "code",
   "execution_count": 78,
   "metadata": {},
   "outputs": [
    {
     "name": "stdout",
     "output_type": "stream",
     "text": [
      "Top 10 Most Engaged Users for Social Media:\n",
      "        MSISDN/Number  Social Media Total (Bytes)\n",
      "32217    3.366178e+10                   3650861.0\n",
      "105238   3.375024e+10                   3650240.0\n",
      "147105   3.365205e+10                   3648814.0\n",
      "50251    3.365856e+10                   3648729.0\n",
      "31907    3.366264e+10                   3648092.0\n",
      "45504    3.376091e+10                   3648027.0\n",
      "11151    3.366237e+10                   3647700.0\n",
      "9945     3.364551e+10                   3647486.0\n",
      "7417     3.366887e+10                   3647484.0\n",
      "32745    3.368528e+10                   3645862.0\n",
      "\n",
      "\n",
      "Top 10 Most Engaged Users for Google:\n",
      "       MSISDN/Number  Google Total (Bytes)\n",
      "92913   3.363243e+10            15528782.0\n",
      "80821   3.366092e+10            15508567.0\n",
      "27384   3.365976e+10            15507131.0\n",
      "53075   3.366733e+10            15506141.0\n",
      "82610   3.366775e+10            15493921.0\n",
      "16844   3.366485e+10            15481311.0\n",
      "74104   3.364367e+10            15479714.0\n",
      "14726   3.366909e+10            15478379.0\n",
      "8006    3.376057e+10            15475894.0\n",
      "11482   3.366106e+10            15475274.0\n",
      "\n",
      "\n",
      "Top 10 Most Engaged Users for Email:\n",
      "        MSISDN/Number  Email Total (Bytes)\n",
      "43873    3.362815e+10            4518036.0\n",
      "88190    3.366146e+10            4513579.0\n",
      "57130    3.367639e+10            4512730.0\n",
      "28657    3.365912e+10            4510915.0\n",
      "103717   3.366878e+10            4510178.0\n",
      "79122    3.366019e+10            4507049.0\n",
      "136825   3.365211e+10            4507045.0\n",
      "124292   3.365092e+10            4504008.0\n",
      "100124   4.188282e+10            4502041.0\n",
      "113      3.361644e+10            4497701.0\n",
      "\n",
      "\n",
      "Top 10 Most Engaged Users for Youtube:\n",
      "        MSISDN/Number  Youtube Total (Bytes)\n",
      "102091   3.366957e+10             45179008.0\n",
      "107601   3.366319e+10             45162724.0\n",
      "45398    3.366740e+10             45108826.0\n",
      "13805    3.366455e+10             45093369.0\n",
      "68228    3.366295e+10             45091533.0\n",
      "95150    3.362133e+10             45074469.0\n",
      "54943    3.369974e+10             45071796.0\n",
      "128234   3.366070e+10             45055208.0\n",
      "18366    3.366255e+10             45049792.0\n",
      "53530    3.366493e+10             45040169.0\n",
      "\n",
      "\n",
      "Top 10 Most Engaged Users for Netflix:\n",
      "        MSISDN/Number  Netflix Total (Bytes)\n",
      "134942   3.361921e+10             45188499.0\n",
      "25959    3.361223e+10             45064738.0\n",
      "56035    3.376449e+10             45012951.0\n",
      "134936   3.363433e+10             45010959.0\n",
      "54868    3.375120e+10             44998954.0\n",
      "18413    3.368845e+10             44983646.0\n",
      "86468    3.367097e+10             44970634.0\n",
      "120534   3.366527e+10             44930670.0\n",
      "27100    3.369869e+10             44915543.0\n",
      "5081     3.365960e+10             44903323.0\n",
      "\n",
      "\n"
     ]
    }
   ],
   "source": [
    "# Create DataFrame\n",
    "df = pd.DataFrame(dataset)\n",
    "\n",
    "# List of Applications\n",
    "applications = ['Social Media', 'Google', 'Email', 'Youtube', 'Netflix']\n",
    "\n",
    "# Step 1: Calculate Total Traffic (DL + UL) per Application\n",
    "for app in applications:\n",
    "    df[f'{app} Total (Bytes)'] = df[f'{app} DL (Bytes)'] + df[f'{app} UL (Bytes)']\n",
    "\n",
    "# Step 2: Identify Top 10 Users per Application\n",
    "top_users = {}\n",
    "for app in applications:\n",
    "    # Replace 'User_ID' with 'MSISDN/Number'\n",
    "    top_users[app] = df.nlargest(10, f'{app} Total (Bytes)')[['MSISDN/Number', f'{app} Total (Bytes)']]\n",
    "\n",
    "# Display Top Users per Application\n",
    "for app, top_df in top_users.items():\n",
    "    print(f\"Top 10 Most Engaged Users for {app}:\")\n",
    "    print(top_df)\n",
    "    print(\"\\n\")"
   ]
  },
  {
   "cell_type": "markdown",
   "metadata": {},
   "source": [
    "# Plot the top 3 most used applications with appropriate charts.\n"
   ]
  },
  {
   "cell_type": "code",
   "execution_count": 85,
   "metadata": {},
   "outputs": [],
   "source": [
    "#Aggregate total traffic for each application\n",
    "application_traffic = {\n",
    "    'Social Media': df['Social Media Total (Bytes)'].sum(),\n",
    "    'Google': df['Google Total (Bytes)'].sum(),\n",
    "    'Email': df['Email Total (Bytes)'].sum(),\n",
    "    'Video Streaming': df['Youtube Total (Bytes)'].sum(),}"
   ]
  },
  {
   "cell_type": "code",
   "execution_count": 86,
   "metadata": {},
   "outputs": [
    {
     "data": {
      "text/html": [
       "<div>\n",
       "<style scoped>\n",
       "    .dataframe tbody tr th:only-of-type {\n",
       "        vertical-align: middle;\n",
       "    }\n",
       "\n",
       "    .dataframe tbody tr th {\n",
       "        vertical-align: top;\n",
       "    }\n",
       "\n",
       "    .dataframe thead th {\n",
       "        text-align: right;\n",
       "    }\n",
       "</style>\n",
       "<table border=\"1\" class=\"dataframe\">\n",
       "  <thead>\n",
       "    <tr style=\"text-align: right;\">\n",
       "      <th></th>\n",
       "      <th>Application</th>\n",
       "      <th>Total Traffic</th>\n",
       "    </tr>\n",
       "  </thead>\n",
       "  <tbody>\n",
       "    <tr>\n",
       "      <th>3</th>\n",
       "      <td>Video Streaming</td>\n",
       "      <td>2.024597e+12</td>\n",
       "    </tr>\n",
       "    <tr>\n",
       "      <th>1</th>\n",
       "      <td>Google</td>\n",
       "      <td>6.984901e+11</td>\n",
       "    </tr>\n",
       "    <tr>\n",
       "      <th>2</th>\n",
       "      <td>Email</td>\n",
       "      <td>2.026892e+11</td>\n",
       "    </tr>\n",
       "    <tr>\n",
       "      <th>0</th>\n",
       "      <td>Social Media</td>\n",
       "      <td>1.637598e+11</td>\n",
       "    </tr>\n",
       "  </tbody>\n",
       "</table>\n",
       "</div>"
      ],
      "text/plain": [
       "       Application  Total Traffic\n",
       "3  Video Streaming   2.024597e+12\n",
       "1           Google   6.984901e+11\n",
       "2            Email   2.026892e+11\n",
       "0     Social Media   1.637598e+11"
      ]
     },
     "execution_count": 86,
     "metadata": {},
     "output_type": "execute_result"
    }
   ],
   "source": [
    "# Convert to DataFrame for easier plotting\n",
    "application_traffic_df = pd.DataFrame(list(application_traffic.items()), columns=['Application', 'Total Traffic'])\n",
    "application_traffic_df = application_traffic_df.sort_values(by='Total Traffic', ascending=False)\n",
    "\n",
    "\n",
    "application_traffic_df"
   ]
  },
  {
   "cell_type": "code",
   "execution_count": 87,
   "metadata": {},
   "outputs": [
    {
     "data": {
      "text/html": [
       "<div>\n",
       "<style scoped>\n",
       "    .dataframe tbody tr th:only-of-type {\n",
       "        vertical-align: middle;\n",
       "    }\n",
       "\n",
       "    .dataframe tbody tr th {\n",
       "        vertical-align: top;\n",
       "    }\n",
       "\n",
       "    .dataframe thead th {\n",
       "        text-align: right;\n",
       "    }\n",
       "</style>\n",
       "<table border=\"1\" class=\"dataframe\">\n",
       "  <thead>\n",
       "    <tr style=\"text-align: right;\">\n",
       "      <th></th>\n",
       "      <th>Application</th>\n",
       "      <th>Total Traffic</th>\n",
       "    </tr>\n",
       "  </thead>\n",
       "  <tbody>\n",
       "    <tr>\n",
       "      <th>3</th>\n",
       "      <td>Video Streaming</td>\n",
       "      <td>2.024597e+12</td>\n",
       "    </tr>\n",
       "    <tr>\n",
       "      <th>1</th>\n",
       "      <td>Google</td>\n",
       "      <td>6.984901e+11</td>\n",
       "    </tr>\n",
       "    <tr>\n",
       "      <th>2</th>\n",
       "      <td>Email</td>\n",
       "      <td>2.026892e+11</td>\n",
       "    </tr>\n",
       "  </tbody>\n",
       "</table>\n",
       "</div>"
      ],
      "text/plain": [
       "       Application  Total Traffic\n",
       "3  Video Streaming   2.024597e+12\n",
       "1           Google   6.984901e+11\n",
       "2            Email   2.026892e+11"
      ]
     },
     "execution_count": 87,
     "metadata": {},
     "output_type": "execute_result"
    }
   ],
   "source": [
    "top_3_apps = application_traffic_df.head(3)\n",
    "top_3_apps"
   ]
  },
  {
   "cell_type": "code",
   "execution_count": null,
   "metadata": {},
   "outputs": [],
   "source": []
  },
  {
   "cell_type": "code",
   "execution_count": 88,
   "metadata": {},
   "outputs": [
    {
     "data": {
      "image/png": "[encoded data removed]",
      "text/plain": [
       "<Figure size 600x300 with 1 Axes>"
      ]
     },
     "metadata": {},
     "output_type": "display_data"
    },
    {
     "data": {
      "image/png": "[encoded data removed]",
      "text/plain": [
       "<Figure size 400x800 with 1 Axes>"
      ]
     },
     "metadata": {},
     "output_type": "display_data"
    }
   ],
   "source": [
    "# Step 4: Bar Plot for Top 3 Applications\n",
    "plt.figure(figsize=(6, 3))\n",
    "plt.bar(top_3_apps['Application'], top_3_apps['Total Traffic'], color=['blue', 'green', 'red'])\n",
    "plt.title('Top 3 Most Used Applications')\n",
    "plt.xlabel('Application')\n",
    "plt.ylabel('Total Traffic (Bytes)')\n",
    "plt.grid(axis='y')\n",
    "plt.show()\n",
    "\n",
    "# Step 5: Pie Chart for Top 3 Applications\n",
    "plt.figure(figsize=(4, 8))\n",
    "plt.pie(\n",
    "    top_3_apps['Total Traffic'],\n",
    "    labels=top_3_apps['Application'],\n",
    "    autopct='%1.1f%%',\n",
    "    colors=['blue', 'green', 'red'],\n",
    "    startangle=90\n",
    ")\n",
    "plt.title('Top 3 Most Used Applications (Percentage)')\n",
    "plt.show()\n"
   ]
  },
  {
   "cell_type": "markdown",
   "metadata": {},
   "source": [
    "# Determine the optimized value of k using the elbow method and interpret findings.\n"
   ]
  },
  {
   "cell_type": "code",
   "execution_count": 89,
   "metadata": {},
   "outputs": [],
   "source": [
    "# Step 2: Apply the elbow method\n",
    "wcss = []  # List to store within-cluster sum of squares\n",
    "\n",
    "# Test for k values from 1 to 10\n",
    "for k in range(1, 11):\n",
    "    kmeans = KMeans(n_clusters=k, random_state=42)\n",
    "    kmeans.fit(df_normalized)\n",
    "    wcss.append(kmeans.inertia_)  # WCSS for the current k\n"
   ]
  },
  {
   "cell_type": "code",
   "execution_count": 90,
   "metadata": {
    "scrolled": true
   },
   "outputs": [
    {
     "data": {
      "image/png": "[encoded data removed]",
      "text/plain": [
       "<Figure size 600x400 with 1 Axes>"
      ]
     },
     "metadata": {},
     "output_type": "display_data"
    }
   ],
   "source": [
    "\n",
    "# Step 3: Plot the elbow curve\n",
    "plt.figure(figsize=(6, 4))\n",
    "plt.plot(range(1, 11), wcss, marker='o', linestyle='--')\n",
    "plt.title('Elbow Method for Optimal k')\n",
    "plt.xlabel('Number of Clusters (k)')\n",
    "plt.ylabel('WCSS')\n",
    "plt.xticks(range(1, 11))\n",
    "plt.grid()\n",
    "plt.show()\n"
   ]
  },
  {
   "cell_type": "markdown",
   "metadata": {},
   "source": [
    "# Task 3 - Experience Analytics"
   ]
  },
  {
   "cell_type": "markdown",
   "metadata": {},
   "source": [
    "Aggregate per customer: Average TCP retransmission"
   ]
  },
  {
   "cell_type": "code",
   "execution_count": 91,
   "metadata": {},
   "outputs": [],
   "source": [
    "#Average TCP retransmission\n",
    "#average of TCP DL Retrans. Vol (Bytes) and TCP UL Retrans. Vol (Bytes)\n",
    "dataset['Average TCP Retransmission'] = (dataset['TCP DL Retrans. Vol (Bytes)'] + dataset['TCP UL Retrans. Vol (Bytes)']) / 2\n",
    "#dataset['Average TCP Retransmission']"
   ]
  },
  {
   "cell_type": "markdown",
   "metadata": {},
   "source": [
    "Aggregate per customer: Average RTT retransmission"
   ]
  },
  {
   "cell_type": "code",
   "execution_count": 92,
   "metadata": {},
   "outputs": [],
   "source": [
    "# RTT=Time Taken (Request Sent to Server)+Time Taken (Response from Server to Sender)\n",
    "#RTT\n",
    "dataset['RTT'] = dataset['Avg RTT DL (ms)'] + dataset['Avg RTT UL (ms)']\n",
    "#dataset['RTT']"
   ]
  },
  {
   "cell_type": "markdown",
   "metadata": {},
   "source": [
    "Aggregate per customer: Handset type\n"
   ]
  },
  {
   "cell_type": "code",
   "execution_count": 93,
   "metadata": {},
   "outputs": [
    {
     "data": {
      "text/html": [
       "<div>\n",
       "<style scoped>\n",
       "    .dataframe tbody tr th:only-of-type {\n",
       "        vertical-align: middle;\n",
       "    }\n",
       "\n",
       "    .dataframe tbody tr th {\n",
       "        vertical-align: top;\n",
       "    }\n",
       "\n",
       "    .dataframe thead th {\n",
       "        text-align: right;\n",
       "    }\n",
       "</style>\n",
       "<table border=\"1\" class=\"dataframe\">\n",
       "  <thead>\n",
       "    <tr style=\"text-align: right;\">\n",
       "      <th></th>\n",
       "      <th>Bearer Id</th>\n",
       "      <th>Handset Type</th>\n",
       "    </tr>\n",
       "  </thead>\n",
       "  <tbody>\n",
       "    <tr>\n",
       "      <th>0</th>\n",
       "      <td>6.917540e+18</td>\n",
       "      <td>Ertebat Hamrah G. Glx H1, Zte Mf259, Wiko Glob...</td>\n",
       "    </tr>\n",
       "    <tr>\n",
       "      <th>1</th>\n",
       "      <td>7.277830e+18</td>\n",
       "      <td>undefined, Samsung Galaxy J3 (Sm-J330), Zte Mf...</td>\n",
       "    </tr>\n",
       "    <tr>\n",
       "      <th>2</th>\n",
       "      <td>7.349880e+18</td>\n",
       "      <td>Samsung Galaxy J5 (Sm-J530), Apple iPhone 6S (...</td>\n",
       "    </tr>\n",
       "    <tr>\n",
       "      <th>3</th>\n",
       "      <td>7.421940e+18</td>\n",
       "      <td>Huawei B525S-23A, Apple iPhone 6 (A1586), Appl...</td>\n",
       "    </tr>\n",
       "    <tr>\n",
       "      <th>4</th>\n",
       "      <td>7.566060e+18</td>\n",
       "      <td>undefined</td>\n",
       "    </tr>\n",
       "    <tr>\n",
       "      <th>5</th>\n",
       "      <td>1.013887e+19</td>\n",
       "      <td>Huawei B528S-23A, Huawei Honor 10, Samsung Gal...</td>\n",
       "    </tr>\n",
       "    <tr>\n",
       "      <th>6</th>\n",
       "      <td>1.268210e+19</td>\n",
       "      <td>Huawei E5180, Samsung Galaxy S6 Plus (Sm-G928)...</td>\n",
       "    </tr>\n",
       "    <tr>\n",
       "      <th>7</th>\n",
       "      <td>1.304240e+19</td>\n",
       "      <td>undefined, Samsung Galaxy Note 8 (Sm-N950F Ds)...</td>\n",
       "    </tr>\n",
       "    <tr>\n",
       "      <th>8</th>\n",
       "      <td>1.311450e+19</td>\n",
       "      <td>Samsung Galaxy A5 Sm-A520F, Samsung Galaxy J5 ...</td>\n",
       "    </tr>\n",
       "    <tr>\n",
       "      <th>9</th>\n",
       "      <td>1.318650e+19</td>\n",
       "      <td>Huawei B525S-23A, Apple iPhone Se (A1723), Sam...</td>\n",
       "    </tr>\n",
       "  </tbody>\n",
       "</table>\n",
       "</div>"
      ],
      "text/plain": [
       "      Bearer Id                                       Handset Type\n",
       "0  6.917540e+18  Ertebat Hamrah G. Glx H1, Zte Mf259, Wiko Glob...\n",
       "1  7.277830e+18  undefined, Samsung Galaxy J3 (Sm-J330), Zte Mf...\n",
       "2  7.349880e+18  Samsung Galaxy J5 (Sm-J530), Apple iPhone 6S (...\n",
       "3  7.421940e+18  Huawei B525S-23A, Apple iPhone 6 (A1586), Appl...\n",
       "4  7.566060e+18                                          undefined\n",
       "5  1.013887e+19  Huawei B528S-23A, Huawei Honor 10, Samsung Gal...\n",
       "6  1.268210e+19  Huawei E5180, Samsung Galaxy S6 Plus (Sm-G928)...\n",
       "7  1.304240e+19  undefined, Samsung Galaxy Note 8 (Sm-N950F Ds)...\n",
       "8  1.311450e+19  Samsung Galaxy A5 Sm-A520F, Samsung Galaxy J5 ...\n",
       "9  1.318650e+19  Huawei B525S-23A, Apple iPhone Se (A1723), Sam..."
      ]
     },
     "execution_count": 93,
     "metadata": {},
     "output_type": "execute_result"
    }
   ],
   "source": [
    "handset_aggregation = df.groupby('Bearer Id')['Handset Type'].apply(lambda x: ', '.join(x.unique())).reset_index()\n",
    "handset_aggregation"
   ]
  },
  {
   "cell_type": "code",
   "execution_count": 94,
   "metadata": {},
   "outputs": [
    {
     "data": {
      "text/html": [
       "<div>\n",
       "<style scoped>\n",
       "    .dataframe tbody tr th:only-of-type {\n",
       "        vertical-align: middle;\n",
       "    }\n",
       "\n",
       "    .dataframe tbody tr th {\n",
       "        vertical-align: top;\n",
       "    }\n",
       "\n",
       "    .dataframe thead th {\n",
       "        text-align: right;\n",
       "    }\n",
       "</style>\n",
       "<table border=\"1\" class=\"dataframe\">\n",
       "  <thead>\n",
       "    <tr style=\"text-align: right;\">\n",
       "      <th></th>\n",
       "      <th>Unique Handset Types</th>\n",
       "    </tr>\n",
       "    <tr>\n",
       "      <th>Bearer Id</th>\n",
       "      <th></th>\n",
       "    </tr>\n",
       "  </thead>\n",
       "  <tbody>\n",
       "    <tr>\n",
       "      <th>6.917540e+18</th>\n",
       "      <td>570</td>\n",
       "    </tr>\n",
       "    <tr>\n",
       "      <th>7.277830e+18</th>\n",
       "      <td>507</td>\n",
       "    </tr>\n",
       "    <tr>\n",
       "      <th>7.349880e+18</th>\n",
       "      <td>175</td>\n",
       "    </tr>\n",
       "    <tr>\n",
       "      <th>7.421940e+18</th>\n",
       "      <td>23</td>\n",
       "    </tr>\n",
       "    <tr>\n",
       "      <th>7.566060e+18</th>\n",
       "      <td>1</td>\n",
       "    </tr>\n",
       "    <tr>\n",
       "      <th>1.013887e+19</th>\n",
       "      <td>120</td>\n",
       "    </tr>\n",
       "    <tr>\n",
       "      <th>1.268210e+19</th>\n",
       "      <td>215</td>\n",
       "    </tr>\n",
       "    <tr>\n",
       "      <th>1.304240e+19</th>\n",
       "      <td>558</td>\n",
       "    </tr>\n",
       "    <tr>\n",
       "      <th>1.311450e+19</th>\n",
       "      <td>176</td>\n",
       "    </tr>\n",
       "    <tr>\n",
       "      <th>1.318650e+19</th>\n",
       "      <td>26</td>\n",
       "    </tr>\n",
       "  </tbody>\n",
       "</table>\n",
       "</div>"
      ],
      "text/plain": [
       "              Unique Handset Types\n",
       "Bearer Id                         \n",
       "6.917540e+18                   570\n",
       "7.277830e+18                   507\n",
       "7.349880e+18                   175\n",
       "7.421940e+18                    23\n",
       "7.566060e+18                     1\n",
       "1.013887e+19                   120\n",
       "1.268210e+19                   215\n",
       "1.304240e+19                   558\n",
       "1.311450e+19                   176\n",
       "1.318650e+19                    26"
      ]
     },
     "execution_count": 94,
     "metadata": {},
     "output_type": "execute_result"
    }
   ],
   "source": [
    "#Aggregate per customer Handset types\n",
    "\n",
    "# Aggregate: Count of unique handset types per customer\n",
    "customer_handset_aggregate = dataset.groupby('Bearer Id').agg({\n",
    "    'Handset Type': 'nunique'}).rename(columns={'Handset Type': 'Unique Handset Types'})\n",
    "\n",
    "\n",
    "customer_handset_aggregate"
   ]
  },
  {
   "cell_type": "markdown",
   "metadata": {},
   "source": [
    "# Treat missing values and outliers by replacing them with the mean or mode of the corresponding variable."
   ]
  },
  {
   "cell_type": "code",
   "execution_count": 95,
   "metadata": {},
   "outputs": [],
   "source": [
    "from scipy.stats import zscore\n",
    "\n",
    "# Select the numerical data from the DataFrame using the column names\n",
    "numerical_data = dataset[num_cols].select_dtypes(include=np.number)\n",
    "\n",
    "# Calculate z-scores on the numerical data\n",
    "z_scores = np.abs(zscore(numerical_data))\n",
    "\n",
    "# Define a threshold\n",
    "threshold = 5\n",
    "\n",
    "# Identify outliers\n",
    "outliers = (z_scores > threshold).any(axis=1)"
   ]
  },
  {
   "cell_type": "code",
   "execution_count": 96,
   "metadata": {},
   "outputs": [
    {
     "name": "stdout",
     "output_type": "stream",
     "text": [
      "Original dataset size: (89526, 68)\n",
      "Dataset size after outlier removal: (84240, 68)\n"
     ]
    }
   ],
   "source": [
    "# Remove outliers\n",
    "dataset_cleaned = dataset[~outliers]\n",
    "print(f\"Original dataset size: {dataset.shape}\")\n",
    "print(f\"Dataset size after outlier removal: {dataset_cleaned.shape}\")"
   ]
  },
  {
   "cell_type": "code",
   "execution_count": null,
   "metadata": {},
   "outputs": [],
   "source": []
  },
  {
   "cell_type": "code",
   "execution_count": null,
   "metadata": {},
   "outputs": [],
   "source": []
  },
  {
   "cell_type": "markdown",
   "metadata": {},
   "source": [
    "# Task 3.2 - Top and Bottom Metrics\n"
   ]
  },
  {
   "cell_type": "markdown",
   "metadata": {},
   "source": [
    "Compute and list the top 10, bottom 10, and most frequent values for:\n",
    "▪ TCP values\n",
    "▪ RTT values\n",
    "▪ Throughput values"
   ]
  },
  {
   "cell_type": "code",
   "execution_count": 97,
   "metadata": {},
   "outputs": [
    {
     "data": {
      "text/plain": [
       "39608     4.268647e+09\n",
       "31709     3.874037e+09\n",
       "50370     3.819471e+09\n",
       "59255     3.720868e+09\n",
       "139360    3.681533e+09\n",
       "39848     3.541304e+09\n",
       "41160     3.522086e+09\n",
       "2465      3.291487e+09\n",
       "99436     3.137353e+09\n",
       "38771     3.089481e+09\n",
       "Name: Total TCP Retransmission, dtype: float64"
      ]
     },
     "execution_count": 97,
     "metadata": {},
     "output_type": "execute_result"
    }
   ],
   "source": [
    "dataset['Total TCP Retransmission'] = (dataset['TCP DL Retrans. Vol (Bytes)'] + dataset['TCP UL Retrans. Vol (Bytes)']) \n",
    "\n",
    "dataset['Total TCP Retransmission'].nlargest(10)"
   ]
  },
  {
   "cell_type": "code",
   "execution_count": 98,
   "metadata": {},
   "outputs": [
    {
     "data": {
      "text/plain": [
       "143594     86.0\n",
       "111100     97.0\n",
       "13142     108.0\n",
       "83214     134.0\n",
       "95955     134.0\n",
       "12849     143.0\n",
       "50013     173.0\n",
       "22693     176.0\n",
       "8318      179.0\n",
       "91522     187.0\n",
       "Name: Total TCP Retransmission, dtype: float64"
      ]
     },
     "execution_count": 98,
     "metadata": {},
     "output_type": "execute_result"
    }
   ],
   "source": [
    "dataset['Total TCP Retransmission'].nsmallest(10)"
   ]
  },
  {
   "cell_type": "code",
   "execution_count": 99,
   "metadata": {},
   "outputs": [
    {
     "data": {
      "text/plain": [
       "30155     96924.0\n",
       "29916     64641.0\n",
       "17894     55812.0\n",
       "5963      54848.0\n",
       "22839     27278.0\n",
       "23442     26300.0\n",
       "81256     25715.0\n",
       "100575    24738.0\n",
       "12147     19278.0\n",
       "22708     17325.0\n",
       "Name: RTT, dtype: float64"
      ]
     },
     "execution_count": 99,
     "metadata": {},
     "output_type": "execute_result"
    }
   ],
   "source": [
    "dataset['RTT'].nlargest(10)"
   ]
  },
  {
   "cell_type": "code",
   "execution_count": 100,
   "metadata": {},
   "outputs": [
    {
     "data": {
      "text/plain": [
       "42602     0.0\n",
       "103321    0.0\n",
       "124538    0.0\n",
       "143878    0.0\n",
       "50966     4.0\n",
       "144923    4.0\n",
       "103544    5.0\n",
       "51364     7.0\n",
       "43760     8.0\n",
       "140086    8.0\n",
       "Name: RTT, dtype: float64"
      ]
     },
     "execution_count": 100,
     "metadata": {},
     "output_type": "execute_result"
    }
   ],
   "source": [
    "dataset['RTT'].nsmallest(10)"
   ]
  },
  {
   "cell_type": "code",
   "execution_count": 101,
   "metadata": {},
   "outputs": [],
   "source": [
    "dataset['Throughput_values'] =  dataset['Avg Bearer TP DL (kbps)'] + dataset['Avg Bearer TP UL (kbps)']"
   ]
  },
  {
   "cell_type": "code",
   "execution_count": 102,
   "metadata": {},
   "outputs": [
    {
     "data": {
      "text/plain": [
       "141250    304299.0\n",
       "116794    283931.0\n",
       "149616    277152.0\n",
       "89567     265724.0\n",
       "127468    254894.0\n",
       "118232    242865.0\n",
       "57668     235934.0\n",
       "13059     235700.0\n",
       "122184    230982.0\n",
       "4752      230049.0\n",
       "Name: Throughput_values, dtype: float64"
      ]
     },
     "execution_count": 102,
     "metadata": {},
     "output_type": "execute_result"
    }
   ],
   "source": [
    "dataset['Throughput_values'].nlargest(10)"
   ]
  },
  {
   "cell_type": "code",
   "execution_count": 103,
   "metadata": {},
   "outputs": [
    {
     "data": {
      "text/plain": [
       "148     0.0\n",
       "614     0.0\n",
       "4129    0.0\n",
       "5796    0.0\n",
       "5961    0.0\n",
       "7186    0.0\n",
       "7505    0.0\n",
       "7654    0.0\n",
       "8680    0.0\n",
       "8844    0.0\n",
       "Name: Throughput_values, dtype: float64"
      ]
     },
     "execution_count": 103,
     "metadata": {},
     "output_type": "execute_result"
    }
   ],
   "source": [
    "dataset['Throughput_values'].nsmallest(10)"
   ]
  },
  {
   "cell_type": "markdown",
   "metadata": {},
   "source": [
    "# Task 3.3 - Distribution Analysis"
   ]
  },
  {
   "cell_type": "markdown",
   "metadata": {},
   "source": [
    "#Distribution of average throughput per handset type with interpretations.\n"
   ]
  },
  {
   "cell_type": "code",
   "execution_count": 104,
   "metadata": {
    "scrolled": true
   },
   "outputs": [
    {
     "data": {
      "text/html": [
       "<div>\n",
       "<style scoped>\n",
       "    .dataframe tbody tr th:only-of-type {\n",
       "        vertical-align: middle;\n",
       "    }\n",
       "\n",
       "    .dataframe tbody tr th {\n",
       "        vertical-align: top;\n",
       "    }\n",
       "\n",
       "    .dataframe thead th {\n",
       "        text-align: right;\n",
       "    }\n",
       "</style>\n",
       "<table border=\"1\" class=\"dataframe\">\n",
       "  <thead>\n",
       "    <tr style=\"text-align: right;\">\n",
       "      <th></th>\n",
       "      <th>count</th>\n",
       "      <th>mean</th>\n",
       "      <th>std</th>\n",
       "      <th>min</th>\n",
       "      <th>25%</th>\n",
       "      <th>50%</th>\n",
       "      <th>75%</th>\n",
       "      <th>max</th>\n",
       "    </tr>\n",
       "    <tr>\n",
       "      <th>Handset Type</th>\n",
       "      <th></th>\n",
       "      <th></th>\n",
       "      <th></th>\n",
       "      <th></th>\n",
       "      <th></th>\n",
       "      <th></th>\n",
       "      <th></th>\n",
       "      <th></th>\n",
       "    </tr>\n",
       "  </thead>\n",
       "  <tbody>\n",
       "    <tr>\n",
       "      <th>A-Link Telecom I. Cubot A5</th>\n",
       "      <td>1.0</td>\n",
       "      <td>23510.0</td>\n",
       "      <td>NaN</td>\n",
       "      <td>23510.0</td>\n",
       "      <td>23510.0</td>\n",
       "      <td>23510.0</td>\n",
       "      <td>23510.0</td>\n",
       "      <td>23510.0</td>\n",
       "    </tr>\n",
       "    <tr>\n",
       "      <th>A-Link Telecom I. Cubot Power</th>\n",
       "      <td>1.0</td>\n",
       "      <td>69468.0</td>\n",
       "      <td>NaN</td>\n",
       "      <td>69468.0</td>\n",
       "      <td>69468.0</td>\n",
       "      <td>69468.0</td>\n",
       "      <td>69468.0</td>\n",
       "      <td>69468.0</td>\n",
       "    </tr>\n",
       "    <tr>\n",
       "      <th>A-Link Telecom I. Cubot X18 Plus</th>\n",
       "      <td>2.0</td>\n",
       "      <td>12559.0</td>\n",
       "      <td>11607.86492</td>\n",
       "      <td>4351.0</td>\n",
       "      <td>8455.0</td>\n",
       "      <td>12559.0</td>\n",
       "      <td>16663.0</td>\n",
       "      <td>20767.0</td>\n",
       "    </tr>\n",
       "    <tr>\n",
       "      <th>Acer Liquid Z530</th>\n",
       "      <td>1.0</td>\n",
       "      <td>334.0</td>\n",
       "      <td>NaN</td>\n",
       "      <td>334.0</td>\n",
       "      <td>334.0</td>\n",
       "      <td>334.0</td>\n",
       "      <td>334.0</td>\n",
       "      <td>334.0</td>\n",
       "    </tr>\n",
       "    <tr>\n",
       "      <th>Acer Liquid Zest 4G</th>\n",
       "      <td>1.0</td>\n",
       "      <td>29089.0</td>\n",
       "      <td>NaN</td>\n",
       "      <td>29089.0</td>\n",
       "      <td>29089.0</td>\n",
       "      <td>29089.0</td>\n",
       "      <td>29089.0</td>\n",
       "      <td>29089.0</td>\n",
       "    </tr>\n",
       "  </tbody>\n",
       "</table>\n",
       "</div>"
      ],
      "text/plain": [
       "                                  count     mean          std      min  \\\n",
       "Handset Type                                                             \n",
       "A-Link Telecom I. Cubot A5          1.0  23510.0          NaN  23510.0   \n",
       "A-Link Telecom I. Cubot Power       1.0  69468.0          NaN  69468.0   \n",
       "A-Link Telecom I. Cubot X18 Plus    2.0  12559.0  11607.86492   4351.0   \n",
       "Acer Liquid Z530                    1.0    334.0          NaN    334.0   \n",
       "Acer Liquid Zest 4G                 1.0  29089.0          NaN  29089.0   \n",
       "\n",
       "                                      25%      50%      75%      max  \n",
       "Handset Type                                                          \n",
       "A-Link Telecom I. Cubot A5        23510.0  23510.0  23510.0  23510.0  \n",
       "A-Link Telecom I. Cubot Power     69468.0  69468.0  69468.0  69468.0  \n",
       "A-Link Telecom I. Cubot X18 Plus   8455.0  12559.0  16663.0  20767.0  \n",
       "Acer Liquid Z530                    334.0    334.0    334.0    334.0  \n",
       "Acer Liquid Zest 4G               29089.0  29089.0  29089.0  29089.0  "
      ]
     },
     "execution_count": 104,
     "metadata": {},
     "output_type": "execute_result"
    }
   ],
   "source": [
    "summary_stats = dataset.groupby('Handset Type')['Throughput_values'].describe()\n",
    "summary_stats.head(5)"
   ]
  },
  {
   "cell_type": "code",
   "execution_count": 105,
   "metadata": {},
   "outputs": [],
   "source": [
    "# Average TCP retransmission per handset type with interpretations.\n",
    "\n",
    "# Average TCP Retransmissions=  Total Retransmitted Packets/Total Packets Sent"
   ]
  },
  {
   "cell_type": "code",
   "execution_count": 126,
   "metadata": {},
   "outputs": [],
   "source": [
    "dataset['retransmission_rate'] = (dataset['TCP DL Retrans. Vol (Bytes)'] + dataset['TCP UL Retrans. Vol (Bytes)']) / (dataset['Total DL (Bytes)'] + dataset['Total UL (Bytes)'])  \n",
    "avg_retransmissions = dataset.groupby('Handset Type')['retransmission_rate'].mean().reset_index() \n",
    "\n",
    "# Sort data for better visualization\n",
    "avg_retransmissions = avg_retransmissions.sort_values(by='retransmission_rate', ascending=False).head(5)\n"
   ]
  },
  {
   "cell_type": "code",
   "execution_count": null,
   "metadata": {},
   "outputs": [],
   "source": []
  },
  {
   "cell_type": "markdown",
   "metadata": {},
   "source": [
    "# Task 3.4 - Clustering User Experiences\n"
   ]
  },
  {
   "cell_type": "code",
   "execution_count": 127,
   "metadata": {},
   "outputs": [],
   "source": [
    "#o Perform k-means clustering (k=3) based on experience metrics."
   ]
  },
  {
   "cell_type": "code",
   "execution_count": 128,
   "metadata": {},
   "outputs": [],
   "source": [
    "Throughput_values=dataset['Avg Bearer TP DL (kbps)']+dataset['Avg Bearer TP UL (kbps)']\n"
   ]
  },
  {
   "cell_type": "code",
   "execution_count": 129,
   "metadata": {},
   "outputs": [],
   "source": [
    "dataset['total TCP Retransmission'] = (dataset['TCP DL Retrans. Vol (Bytes)'] + dataset['TCP UL Retrans. Vol (Bytes)'])"
   ]
  },
  {
   "cell_type": "code",
   "execution_count": 130,
   "metadata": {},
   "outputs": [
    {
     "data": {
      "text/html": [
       "<div>\n",
       "<style scoped>\n",
       "    .dataframe tbody tr th:only-of-type {\n",
       "        vertical-align: middle;\n",
       "    }\n",
       "\n",
       "    .dataframe tbody tr th {\n",
       "        vertical-align: top;\n",
       "    }\n",
       "\n",
       "    .dataframe thead th {\n",
       "        text-align: right;\n",
       "    }\n",
       "</style>\n",
       "<table border=\"1\" class=\"dataframe\">\n",
       "  <thead>\n",
       "    <tr style=\"text-align: right;\">\n",
       "      <th></th>\n",
       "      <th>MSISDN/Number</th>\n",
       "      <th>Throughput_values</th>\n",
       "      <th>Total_TCP_Retransmission</th>\n",
       "      <th>RTT</th>\n",
       "    </tr>\n",
       "  </thead>\n",
       "  <tbody>\n",
       "    <tr>\n",
       "      <th>0</th>\n",
       "      <td>3.366496e+10</td>\n",
       "      <td>67.000000</td>\n",
       "      <td>2.156957e+07</td>\n",
       "      <td>166.000000</td>\n",
       "    </tr>\n",
       "    <tr>\n",
       "      <th>1</th>\n",
       "      <td>3.366496e+10</td>\n",
       "      <td>67.000000</td>\n",
       "      <td>6.133704e+06</td>\n",
       "      <td>166.000000</td>\n",
       "    </tr>\n",
       "    <tr>\n",
       "      <th>2</th>\n",
       "      <td>3.368185e+10</td>\n",
       "      <td>42.000000</td>\n",
       "      <td>2.156957e+07</td>\n",
       "      <td>134.000000</td>\n",
       "    </tr>\n",
       "    <tr>\n",
       "      <th>3</th>\n",
       "      <td>3.368185e+10</td>\n",
       "      <td>42.000000</td>\n",
       "      <td>2.156957e+07</td>\n",
       "      <td>134.000000</td>\n",
       "    </tr>\n",
       "    <tr>\n",
       "      <th>4</th>\n",
       "      <td>3.376063e+10</td>\n",
       "      <td>15.000000</td>\n",
       "      <td>2.156957e+07</td>\n",
       "      <td>127.458589</td>\n",
       "    </tr>\n",
       "    <tr>\n",
       "      <th>...</th>\n",
       "      <td>...</td>\n",
       "      <td>...</td>\n",
       "      <td>...</td>\n",
       "      <td>...</td>\n",
       "    </tr>\n",
       "    <tr>\n",
       "      <th>652079</th>\n",
       "      <td>4.188282e+10</td>\n",
       "      <td>15070.474573</td>\n",
       "      <td>2.156957e+07</td>\n",
       "      <td>229797.986810</td>\n",
       "    </tr>\n",
       "    <tr>\n",
       "      <th>652080</th>\n",
       "      <td>4.188282e+10</td>\n",
       "      <td>15070.474573</td>\n",
       "      <td>1.059800e+04</td>\n",
       "      <td>229797.986810</td>\n",
       "    </tr>\n",
       "    <tr>\n",
       "      <th>652081</th>\n",
       "      <td>4.188282e+10</td>\n",
       "      <td>15070.474573</td>\n",
       "      <td>3.852700e+04</td>\n",
       "      <td>229797.986810</td>\n",
       "    </tr>\n",
       "    <tr>\n",
       "      <th>652082</th>\n",
       "      <td>4.188282e+10</td>\n",
       "      <td>15070.474573</td>\n",
       "      <td>7.623187e+05</td>\n",
       "      <td>229797.986810</td>\n",
       "    </tr>\n",
       "    <tr>\n",
       "      <th>652083</th>\n",
       "      <td>4.188282e+10</td>\n",
       "      <td>15070.474573</td>\n",
       "      <td>2.156957e+07</td>\n",
       "      <td>229797.986810</td>\n",
       "    </tr>\n",
       "  </tbody>\n",
       "</table>\n",
       "<p>652084 rows × 4 columns</p>\n",
       "</div>"
      ],
      "text/plain": [
       "        MSISDN/Number  Throughput_values  Total_TCP_Retransmission  \\\n",
       "0        3.366496e+10          67.000000              2.156957e+07   \n",
       "1        3.366496e+10          67.000000              6.133704e+06   \n",
       "2        3.368185e+10          42.000000              2.156957e+07   \n",
       "3        3.368185e+10          42.000000              2.156957e+07   \n",
       "4        3.376063e+10          15.000000              2.156957e+07   \n",
       "...               ...                ...                       ...   \n",
       "652079   4.188282e+10       15070.474573              2.156957e+07   \n",
       "652080   4.188282e+10       15070.474573              1.059800e+04   \n",
       "652081   4.188282e+10       15070.474573              3.852700e+04   \n",
       "652082   4.188282e+10       15070.474573              7.623187e+05   \n",
       "652083   4.188282e+10       15070.474573              2.156957e+07   \n",
       "\n",
       "                  RTT  \n",
       "0          166.000000  \n",
       "1          166.000000  \n",
       "2          134.000000  \n",
       "3          134.000000  \n",
       "4          127.458589  \n",
       "...               ...  \n",
       "652079  229797.986810  \n",
       "652080  229797.986810  \n",
       "652081  229797.986810  \n",
       "652082  229797.986810  \n",
       "652083  229797.986810  \n",
       "\n",
       "[652084 rows x 4 columns]"
      ]
     },
     "execution_count": 130,
     "metadata": {},
     "output_type": "execute_result"
    }
   ],
   "source": [
    "experience_metrics = pd.DataFrame({'MSISDN/Number': dataset['MSISDN/Number'], 'Throughput_values': Throughput_values}) \\\n",
    "    .merge(pd.DataFrame({'MSISDN/Number': dataset['MSISDN/Number'], 'Total_TCP_Retransmission': dataset['total TCP Retransmission']}),\n",
    "           on='MSISDN/Number')\n",
    "\n",
    "experience_metrics = experience_metrics.merge(dataset[['MSISDN/Number', 'RTT']].groupby('MSISDN/Number').sum(), on='MSISDN/Number')\n",
    "experience_metrics"
   ]
  },
  {
   "cell_type": "code",
   "execution_count": 111,
   "metadata": {},
   "outputs": [
    {
     "name": "stdout",
     "output_type": "stream",
     "text": [
      "        Throughput_values  Total_TCP_Retransmission       RTT\n",
      "0                0.000220                  0.005053  0.000722\n",
      "1                0.000220                  0.001437  0.000722\n",
      "2                0.000138                  0.005053  0.000583\n",
      "3                0.000138                  0.005053  0.000583\n",
      "4                0.000049                  0.005053  0.000555\n",
      "...                   ...                       ...       ...\n",
      "652079           0.049525                  0.005053  1.000000\n",
      "652080           0.049525                  0.000002  1.000000\n",
      "652081           0.049525                  0.000009  1.000000\n",
      "652082           0.049525                  0.000179  1.000000\n",
      "652083           0.049525                  0.005053  1.000000\n",
      "\n",
      "[652084 rows x 3 columns]\n"
     ]
    }
   ],
   "source": [
    "#Normalize each engagement metric and run k-means clustering (k=3) to classify customers into three engagement groups.\n",
    "from sklearn.preprocessing import MinMaxScaler\n",
    "from sklearn.cluster import KMeans\n",
    "\n",
    "# Assuming 'engagement_metrics' is a DataFrame\n",
    "columns_to_normalized = ['Throughput_values', 'Total_TCP_Retransmission', 'RTT']\n",
    "\n",
    "# Step : Normalize Engagement Metrics\n",
    "scaler = MinMaxScaler()\n",
    "normalize_data = scaler.fit_transform(experience_metrics[columns_to_normalized])\n",
    "\n",
    "df_experiences_nomalized = pd.DataFrame(normalize_data, columns=columns_to_normalized)\n",
    "print(df_experiences_nomalized)"
   ]
  },
  {
   "cell_type": "code",
   "execution_count": 112,
   "metadata": {},
   "outputs": [
    {
     "name": "stdout",
     "output_type": "stream",
     "text": [
      "        MSISDN/Number  Throughput_values  Total_TCP_Retransmission  \\\n",
      "0        3.366496e+10          67.000000              2.156957e+07   \n",
      "1        3.366496e+10          67.000000              6.133704e+06   \n",
      "2        3.368185e+10          42.000000              2.156957e+07   \n",
      "3        3.368185e+10          42.000000              2.156957e+07   \n",
      "4        3.376063e+10          15.000000              2.156957e+07   \n",
      "...               ...                ...                       ...   \n",
      "652079   4.188282e+10       15070.474573              2.156957e+07   \n",
      "652080   4.188282e+10       15070.474573              1.059800e+04   \n",
      "652081   4.188282e+10       15070.474573              3.852700e+04   \n",
      "652082   4.188282e+10       15070.474573              7.623187e+05   \n",
      "652083   4.188282e+10       15070.474573              2.156957e+07   \n",
      "\n",
      "                  RTT  Cluster  \n",
      "0          166.000000        1  \n",
      "1          166.000000        1  \n",
      "2          134.000000        1  \n",
      "3          134.000000        1  \n",
      "4          127.458589        1  \n",
      "...               ...      ...  \n",
      "652079  229797.986810        0  \n",
      "652080  229797.986810        0  \n",
      "652081  229797.986810        0  \n",
      "652082  229797.986810        0  \n",
      "652083  229797.986810        0  \n",
      "\n",
      "[652084 rows x 5 columns]\n"
     ]
    }
   ],
   "source": [
    "#Apply K-Means Clustering\n",
    "kmeans = KMeans(n_clusters=3, random_state=42)\n",
    "experience_metrics['Cluster'] = kmeans.fit_predict(df_experiences_nomalized)\n",
    "\n",
    "\n",
    "df_experiences_nomalized['Cluster'] = kmeans.fit_predict(df_experiences_nomalized)\n",
    "\n",
    "experience_metrics['Cluster'] = df_experiences_nomalized['Cluster']\n",
    "\n",
    "print(experience_metrics)"
   ]
  },
  {
   "cell_type": "code",
   "execution_count": 131,
   "metadata": {},
   "outputs": [
    {
     "data": {
      "text/html": [
       "<div>\n",
       "<style scoped>\n",
       "    .dataframe tbody tr th:only-of-type {\n",
       "        vertical-align: middle;\n",
       "    }\n",
       "\n",
       "    .dataframe tbody tr th {\n",
       "        vertical-align: top;\n",
       "    }\n",
       "\n",
       "    .dataframe thead th {\n",
       "        text-align: right;\n",
       "    }\n",
       "</style>\n",
       "<table border=\"1\" class=\"dataframe\">\n",
       "  <thead>\n",
       "    <tr style=\"text-align: right;\">\n",
       "      <th></th>\n",
       "      <th>MSISDN/Number</th>\n",
       "      <th>Throughput_values</th>\n",
       "      <th>Total_TCP_Retransmission</th>\n",
       "      <th>RTT</th>\n",
       "    </tr>\n",
       "  </thead>\n",
       "  <tbody>\n",
       "    <tr>\n",
       "      <th>0</th>\n",
       "      <td>3.366496e+10</td>\n",
       "      <td>67.0</td>\n",
       "      <td>2.156957e+07</td>\n",
       "      <td>166.000000</td>\n",
       "    </tr>\n",
       "    <tr>\n",
       "      <th>1</th>\n",
       "      <td>3.366496e+10</td>\n",
       "      <td>67.0</td>\n",
       "      <td>6.133704e+06</td>\n",
       "      <td>166.000000</td>\n",
       "    </tr>\n",
       "    <tr>\n",
       "      <th>2</th>\n",
       "      <td>3.368185e+10</td>\n",
       "      <td>42.0</td>\n",
       "      <td>2.156957e+07</td>\n",
       "      <td>134.000000</td>\n",
       "    </tr>\n",
       "    <tr>\n",
       "      <th>3</th>\n",
       "      <td>3.368185e+10</td>\n",
       "      <td>42.0</td>\n",
       "      <td>2.156957e+07</td>\n",
       "      <td>134.000000</td>\n",
       "    </tr>\n",
       "    <tr>\n",
       "      <th>4</th>\n",
       "      <td>3.376063e+10</td>\n",
       "      <td>15.0</td>\n",
       "      <td>2.156957e+07</td>\n",
       "      <td>127.458589</td>\n",
       "    </tr>\n",
       "  </tbody>\n",
       "</table>\n",
       "</div>"
      ],
      "text/plain": [
       "   MSISDN/Number  Throughput_values  Total_TCP_Retransmission         RTT\n",
       "0   3.366496e+10               67.0              2.156957e+07  166.000000\n",
       "1   3.366496e+10               67.0              6.133704e+06  166.000000\n",
       "2   3.368185e+10               42.0              2.156957e+07  134.000000\n",
       "3   3.368185e+10               42.0              2.156957e+07  134.000000\n",
       "4   3.376063e+10               15.0              2.156957e+07  127.458589"
      ]
     },
     "execution_count": 131,
     "metadata": {},
     "output_type": "execute_result"
    }
   ],
   "source": [
    "experience_metrics.head()"
   ]
  },
  {
   "cell_type": "markdown",
   "metadata": {},
   "source": [
    "# Segment users into experience groups and provide a brief description of each cluster based on data insights.\n"
   ]
  },
  {
   "cell_type": "code",
   "execution_count": null,
   "metadata": {},
   "outputs": [],
   "source": []
  },
  {
   "cell_type": "markdown",
   "metadata": {},
   "source": [
    "# Task 4 - Satisfaction Analysis"
   ]
  },
  {
   "cell_type": "code",
   "execution_count": 132,
   "metadata": {},
   "outputs": [],
   "source": [
    "# Assign an engagement score to each user as the Euclidean distance between the user data point and the least engaged cluster (from Task 2)"
   ]
  },
  {
   "cell_type": "code",
   "execution_count": 133,
   "metadata": {},
   "outputs": [
    {
     "data": {
      "text/plain": [
       "Index(['Session Frequency', 'Average Session Duration (s)',\n",
       "       'Total Traffic (Bytes)', 'Cluster'],\n",
       "      dtype='object')"
      ]
     },
     "execution_count": 133,
     "metadata": {},
     "output_type": "execute_result"
    }
   ],
   "source": [
    "df_normalized.columns"
   ]
  },
  {
   "cell_type": "code",
   "execution_count": 134,
   "metadata": {},
   "outputs": [
    {
     "name": "stdout",
     "output_type": "stream",
     "text": [
      "       MSISDN/Number  Engagement_Score  Cluster\n",
      "0       3.360100e+10          1.008761        0\n",
      "1       3.360100e+10          1.004372        0\n",
      "2       3.360100e+10          1.007367        0\n",
      "3       3.360101e+10          1.014884        2\n",
      "4       3.360101e+10          1.007882        0\n",
      "...              ...               ...      ...\n",
      "72592   3.379000e+10          1.006934        0\n",
      "72593   4.188282e+10          1.009580        2\n",
      "72594   3.197020e+12          1.052508        1\n",
      "72595   3.370000e+14          1.001253        0\n",
      "72596   8.823970e+14          1.051093        1\n",
      "\n",
      "[72597 rows x 3 columns]\n"
     ]
    }
   ],
   "source": [
    "metrics = ['Average Session Duration (s)', 'Total Traffic (Bytes)', 'Session Frequency']\n",
    "\n",
    "# Step 1: Calculate cluster means from normalized data\n",
    "cluster_means = df_normalized.groupby('Cluster')[metrics].mean()\n",
    "\n",
    "# Step 2: Identify the \"worst\" cluster\n",
    "# Assuming the worst engagement cluster is defined as the one with the lowest average Session Frequency\n",
    "worst_cluster_index = cluster_means['Session Frequency'].idxmin()  # Least engaged based on the lowest Session Frequency\n",
    "worst_cluster_center = kmeans.cluster_centers_[worst_cluster_index]\n",
    "\n",
    "# Step 3: Calculate Engagement Score for each user\n",
    "engagement_metrics['Engagement_Score'] = np.linalg.norm(\n",
    "    df_normalized[metrics].values - worst_cluster_center, axis=1\n",
    ")\n",
    "\n",
    "# Step 4: Add cluster labels for reference\n",
    "engagement_metrics['Cluster'] = df_normalized['Cluster']\n",
    "\n",
    "# Step 5: Display the final DataFrame\n",
    "print(engagement_metrics[['MSISDN/Number', 'Engagement_Score', 'Cluster']])\n"
   ]
  },
  {
   "cell_type": "markdown",
   "metadata": {},
   "source": [
    "# Identify the worst experience cluster\n",
    "Assign an engagement score to each user as the Euclidean distance between the \n",
    "user data point and the least engaged cluster (from Task 2)."
   ]
  },
  {
   "cell_type": "code",
   "execution_count": 143,
   "metadata": {},
   "outputs": [
    {
     "name": "stdout",
     "output_type": "stream",
     "text": [
      "       MSISDN/Number  Engagement_Score  Cluster\n",
      "0       3.360100e+10          1.005742        0\n",
      "1       3.360100e+10          1.002329        0\n",
      "2       3.360100e+10          1.004624        0\n",
      "3       3.360101e+10          1.010869        2\n",
      "4       3.360101e+10          1.005034        0\n",
      "...              ...               ...      ...\n",
      "72592   3.379000e+10          1.004281        0\n",
      "72593   4.188282e+10          1.005881        2\n",
      "72594   3.197020e+12          1.060685        1\n",
      "72595   3.370000e+14          1.000307        0\n",
      "72596   8.823970e+14          1.059171        1\n",
      "\n",
      "[72597 rows x 3 columns]\n"
     ]
    }
   ],
   "source": [
    "metrics = ['Average Session Duration (s)', 'Total Traffic (Bytes)', 'Session Frequency']\n",
    "\n",
    "# Step 1: Calculate cluster means from normalized data\n",
    "cluster_means = df_normalized.groupby('Cluster')[metrics].mean()\n",
    "\n",
    "# Step 2: Identify the \"worst\" cluster\n",
    "# Assuming the worst engagement cluster is defined as the one with the lowest average Session Frequency\n",
    "worst_cluster_index = cluster_means['Session Frequency'].idxmin()  # Index of the worst cluster\n",
    "\n",
    "# Extract the center for the worst cluster and ensure it matches the dimensions of 'metrics'\n",
    "worst_cluster_center = kmeans.cluster_centers_[worst_cluster_index][:len(metrics)]\n",
    "\n",
    "# Step 3: Calculate Engagement Score for each user\n",
    "# Calculate Euclidean distance between each user's metrics and the worst cluster center\n",
    "engagement_metrics['Engagement_Score'] = np.linalg.norm(\n",
    "    df_normalized[metrics].values - worst_cluster_center,\n",
    "    axis=1\n",
    ")\n",
    "\n",
    "# Step 4: Add cluster labels for reference\n",
    "engagement_metrics['Cluster'] = df_normalized['Cluster']\n",
    "\n",
    "# Step 5: Display the final DataFrame\n",
    "print(engagement_metrics[['MSISDN/Number', 'Engagement_Score', 'Cluster']])\n"
   ]
  },
  {
   "cell_type": "markdown",
   "metadata": {},
   "source": [
    "#Assign an experience score to each user as the Euclidean distance between the user \n",
    "data point and the worst experience cluster (from Task 3)."
   ]
  },
  {
   "cell_type": "code",
   "execution_count": 140,
   "metadata": {},
   "outputs": [
    {
     "name": "stdout",
     "output_type": "stream",
     "text": [
      "        MSISDN/Number  Experience_Score  Cluster\n",
      "0        3.366496e+10          1.014229        1\n",
      "1        3.366496e+10          1.014229        1\n",
      "2        3.368185e+10          1.014381        1\n",
      "3        3.368185e+10          1.014381        1\n",
      "4        3.376063e+10          1.014424        1\n",
      "...               ...               ...      ...\n",
      "652079   4.188282e+10          0.124209        0\n",
      "652080   4.188282e+10          0.124234        0\n",
      "652081   4.188282e+10          0.124234        0\n",
      "652082   4.188282e+10          0.124230        0\n",
      "652083   4.188282e+10          0.124209        0\n",
      "\n",
      "[652084 rows x 3 columns]\n"
     ]
    }
   ],
   "source": [
    "from sklearn.cluster import KMeans\n",
    "import numpy as np\n",
    "import pandas as pd\n",
    "\n",
    "# Step 1: Perform clustering\n",
    "# Assuming `df_experiences_nomalized` is your normalized data\n",
    "kmeans = KMeans(n_clusters=4, random_state=42)  # Adjust `n_clusters` as needed\n",
    "df_experiences_nomalized['Cluster'] = kmeans.fit_predict(df_experiences_nomalized)\n",
    "\n",
    "# Step 2: Calculate the mean values for each cluster\n",
    "cluster_means = df_experiences_nomalized.groupby('Cluster')[['Throughput_values', 'Total_TCP_Retransmission', 'RTT']].mean()\n",
    "\n",
    "# Step 3: Identify the worst experience cluster\n",
    "# Assuming the worst cluster is determined by the highest RTT\n",
    "worst_cluster_index = cluster_means['RTT'].idxmax()  # Index of the worst cluster\n",
    "worst_cluster_center = kmeans.cluster_centers_[worst_cluster_index][:3]  # Extract relevant features (first 3 columns)\n",
    "\n",
    "# Step 4: Calculate the Euclidean distance for each user\n",
    "# Ensure only the relevant columns are used\n",
    "df_experiences_nomalized['Experience_Score'] = np.linalg.norm(\n",
    "    df_experiences_nomalized[['Throughput_values', 'Total_TCP_Retransmission', 'RTT']].values - worst_cluster_center,\n",
    "    axis=1\n",
    ")\n",
    "\n",
    "# Step 5: Merge 'Cluster' and 'Experience_Score' into the original DataFrame\n",
    "experience_metrics['Cluster'] = df_experiences_nomalized['Cluster']\n",
    "experience_metrics['Experience_Score'] = df_experiences_nomalized['Experience_Score']\n",
    "\n",
    "# Step 6: Display the final DataFrame with relevant columns\n",
    "print(experience_metrics[['MSISDN/Number', 'Experience_Score', 'Cluster']])\n"
   ]
  },
  {
   "cell_type": "markdown",
   "metadata": {},
   "source": [
    "# Task 4.2 - Satisfaction Score\n"
   ]
  },
  {
   "cell_type": "code",
   "execution_count": 151,
   "metadata": {
    "id": "b7550qZVnUad"
   },
   "outputs": [
    {
     "name": "stdout",
     "output_type": "stream",
     "text": [
      "       MSISDN/Number  Session Frequency  Average Session Duration (s)  \\\n",
      "67577   3.376355e+10                  2                      1657.398   \n",
      "48214   3.366926e+10                  1                      1573.420   \n",
      "31343   3.366172e+10                  1                      1480.875   \n",
      "1469    3.360750e+10                  1                      1474.663   \n",
      "66427   3.376260e+10                  1                      1375.612   \n",
      "63315   3.376063e+10                  1                      1361.762   \n",
      "65082   3.376167e+10                  1                      1357.643   \n",
      "61431   3.375034e+10                  1                      1321.509   \n",
      "43470   3.366682e+10                  1                      1299.381   \n",
      "9359    3.362498e+10                  1                      1282.200   \n",
      "\n",
      "       Total Traffic (Bytes)  Cluster  Engagement_Score  Satisfaction_Score  \n",
      "67577           1.034829e+09        1          1.296131          332.727666  \n",
      "48214           3.704210e+08        1          1.265401          315.616700  \n",
      "31343           3.567835e+08        1          1.231835          297.090917  \n",
      "1469            1.770069e+08        1          1.229641          295.847421  \n",
      "66427           5.731594e+08        1          1.195709          276.020254  \n",
      "63315           3.076910e+08        1          1.191129          273.247965  \n",
      "65082           7.809365e+08        1          1.189773          272.423487  \n",
      "61431           8.893527e+08        1          1.178053          265.190827  \n",
      "43470           2.293477e+08        1          1.171023          260.761711  \n",
      "9359            5.772626e+08        1          1.165638          257.322819  \n"
     ]
    }
   ],
   "source": [
    "# Assuming 'Engagement_Score' and 'Experience_Score' columns are already present in engagement_metrics DataFrame\n",
    "\n",
    "# Example calculation for Satisfaction_Score\n",
    "# Adjust this logic based on your dataset and satisfaction definition\n",
    "engagement_metrics['Satisfaction_Score'] = (\n",
    "    engagement_metrics['Engagement_Score'] * 0.5 + \n",
    "    engagement_metrics['Session Frequency'] * 0.3 + \n",
    "    engagement_metrics['Average Session Duration (s)'] * 0.2\n",
    ")\n",
    "\n",
    "# Then, sort and select the top 10 satisfied customers\n",
    "top_10_satisfied_customers = engagement_metrics.sort_values(by='Satisfaction_Score', ascending=False).head(10)\n",
    "print(top_10_satisfied_customers)\n",
    "\n"
   ]
  },
  {
   "cell_type": "code",
   "execution_count": 162,
   "metadata": {},
   "outputs": [
    {
     "data": {
      "text/plain": [
       "0          24.146871\n",
       "1          37.047164\n",
       "2          27.796112\n",
       "3          10.781034\n",
       "4          26.420117\n",
       "             ...    \n",
       "652079    230.598240\n",
       "652080    230.598240\n",
       "652081    176.307343\n",
       "652082     51.406153\n",
       "652083    174.798386\n",
       "Name: Satisfaction_Score, Length: 652084, dtype: float64"
      ]
     },
     "execution_count": 162,
     "metadata": {},
     "output_type": "execute_result"
    }
   ],
   "source": [
    "engagement_metrics['Satisfaction_Score']"
   ]
  },
  {
   "cell_type": "code",
   "execution_count": 152,
   "metadata": {
    "id": "dMMSDdDtnUTK"
   },
   "outputs": [
    {
     "data": {
      "text/plain": [
       "579487"
      ]
     },
     "execution_count": 152,
     "metadata": {},
     "output_type": "execute_result"
    }
   ],
   "source": [
    "Satisfaction_Score.isnull().sum()"
   ]
  },
  {
   "cell_type": "markdown",
   "metadata": {
    "id": "4xt7K2ejnULv"
   },
   "source": [
    "# Report the top 10 satisfied customers.\n"
   ]
  },
  {
   "cell_type": "code",
   "execution_count": 153,
   "metadata": {
    "id": "P9Gvbv9XnUEQ"
   },
   "outputs": [
    {
     "name": "stdout",
     "output_type": "stream",
     "text": [
      "       MSISDN/Number  Session Frequency  Average Session Duration (s)  \\\n",
      "67577   3.376355e+10                  2                      1657.398   \n",
      "48214   3.366926e+10                  1                      1573.420   \n",
      "31343   3.366172e+10                  1                      1480.875   \n",
      "1469    3.360750e+10                  1                      1474.663   \n",
      "66427   3.376260e+10                  1                      1375.612   \n",
      "63315   3.376063e+10                  1                      1361.762   \n",
      "65082   3.376167e+10                  1                      1357.643   \n",
      "61431   3.375034e+10                  1                      1321.509   \n",
      "43470   3.366682e+10                  1                      1299.381   \n",
      "9359    3.362498e+10                  1                      1282.200   \n",
      "\n",
      "       Total Traffic (Bytes)  Cluster  Engagement_Score  Satisfaction_Score  \n",
      "67577           1.034829e+09        1          1.296131          332.727666  \n",
      "48214           3.704210e+08        1          1.265401          315.616700  \n",
      "31343           3.567835e+08        1          1.231835          297.090917  \n",
      "1469            1.770069e+08        1          1.229641          295.847421  \n",
      "66427           5.731594e+08        1          1.195709          276.020254  \n",
      "63315           3.076910e+08        1          1.191129          273.247965  \n",
      "65082           7.809365e+08        1          1.189773          272.423487  \n",
      "61431           8.893527e+08        1          1.178053          265.190827  \n",
      "43470           2.293477e+08        1          1.171023          260.761711  \n",
      "9359            5.772626e+08        1          1.165638          257.322819  \n"
     ]
    }
   ],
   "source": [
    "# Ensure 'Satisfaction_Score' exists\n",
    "if 'Satisfaction_Score' in engagement_metrics.columns:\n",
    "    # Sort by Satisfaction_Score in descending order and select the top 10\n",
    "    top_10_satisfied_customers = engagement_metrics.sort_values(by='Satisfaction_Score', ascending=False).head(10)\n",
    "    print(top_10_satisfied_customers)\n",
    "else:\n",
    "    print(\"Error: 'Satisfaction_Score' column is not present in the DataFrame.\")\n"
   ]
  },
  {
   "cell_type": "code",
   "execution_count": 147,
   "metadata": {},
   "outputs": [
    {
     "data": {
      "text/html": [
       "<div>\n",
       "<style scoped>\n",
       "    .dataframe tbody tr th:only-of-type {\n",
       "        vertical-align: middle;\n",
       "    }\n",
       "\n",
       "    .dataframe tbody tr th {\n",
       "        vertical-align: top;\n",
       "    }\n",
       "\n",
       "    .dataframe thead th {\n",
       "        text-align: right;\n",
       "    }\n",
       "</style>\n",
       "<table border=\"1\" class=\"dataframe\">\n",
       "  <thead>\n",
       "    <tr style=\"text-align: right;\">\n",
       "      <th></th>\n",
       "      <th>MSISDN/Number</th>\n",
       "      <th>Throughput_values</th>\n",
       "      <th>Total_TCP_Retransmission</th>\n",
       "      <th>RTT</th>\n",
       "      <th>Cluster</th>\n",
       "      <th>Experience_Score</th>\n",
       "    </tr>\n",
       "  </thead>\n",
       "  <tbody>\n",
       "    <tr>\n",
       "      <th>289295</th>\n",
       "      <td>3.366491e+10</td>\n",
       "      <td>55209.0</td>\n",
       "      <td>4.268647e+09</td>\n",
       "      <td>453.000000</td>\n",
       "      <td>1</td>\n",
       "      <td>1.410619</td>\n",
       "    </tr>\n",
       "    <tr>\n",
       "      <th>317545</th>\n",
       "      <td>3.366026e+10</td>\n",
       "      <td>139818.0</td>\n",
       "      <td>3.819471e+09</td>\n",
       "      <td>540.000000</td>\n",
       "      <td>1</td>\n",
       "      <td>1.368198</td>\n",
       "    </tr>\n",
       "    <tr>\n",
       "      <th>315705</th>\n",
       "      <td>3.366026e+10</td>\n",
       "      <td>125355.0</td>\n",
       "      <td>3.819471e+09</td>\n",
       "      <td>540.000000</td>\n",
       "      <td>1</td>\n",
       "      <td>1.359067</td>\n",
       "    </tr>\n",
       "    <tr>\n",
       "      <th>271653</th>\n",
       "      <td>3.365974e+10</td>\n",
       "      <td>46463.0</td>\n",
       "      <td>3.874037e+09</td>\n",
       "      <td>108.000000</td>\n",
       "      <td>1</td>\n",
       "      <td>1.348134</td>\n",
       "    </tr>\n",
       "    <tr>\n",
       "      <th>324088</th>\n",
       "      <td>3.366026e+10</td>\n",
       "      <td>21411.0</td>\n",
       "      <td>3.819471e+09</td>\n",
       "      <td>540.000000</td>\n",
       "      <td>1</td>\n",
       "      <td>1.342011</td>\n",
       "    </tr>\n",
       "    <tr>\n",
       "      <th>336366</th>\n",
       "      <td>3.366026e+10</td>\n",
       "      <td>32095.0</td>\n",
       "      <td>3.819471e+09</td>\n",
       "      <td>540.000000</td>\n",
       "      <td>1</td>\n",
       "      <td>1.339764</td>\n",
       "    </tr>\n",
       "    <tr>\n",
       "      <th>350743</th>\n",
       "      <td>3.376359e+10</td>\n",
       "      <td>64121.0</td>\n",
       "      <td>3.720868e+09</td>\n",
       "      <td>191.000000</td>\n",
       "      <td>1</td>\n",
       "      <td>1.324407</td>\n",
       "    </tr>\n",
       "    <tr>\n",
       "      <th>632695</th>\n",
       "      <td>3.366890e+10</td>\n",
       "      <td>72078.0</td>\n",
       "      <td>3.681533e+09</td>\n",
       "      <td>61.000000</td>\n",
       "      <td>1</td>\n",
       "      <td>1.319803</td>\n",
       "    </tr>\n",
       "    <tr>\n",
       "      <th>289363</th>\n",
       "      <td>3.366493e+10</td>\n",
       "      <td>63999.0</td>\n",
       "      <td>3.541304e+09</td>\n",
       "      <td>103.000000</td>\n",
       "      <td>1</td>\n",
       "      <td>1.297493</td>\n",
       "    </tr>\n",
       "    <tr>\n",
       "      <th>633940</th>\n",
       "      <td>3.369817e+10</td>\n",
       "      <td>304299.0</td>\n",
       "      <td>6.129228e+07</td>\n",
       "      <td>360.917178</td>\n",
       "      <td>1</td>\n",
       "      <td>1.296043</td>\n",
       "    </tr>\n",
       "  </tbody>\n",
       "</table>\n",
       "</div>"
      ],
      "text/plain": [
       "        MSISDN/Number  Throughput_values  Total_TCP_Retransmission  \\\n",
       "289295   3.366491e+10            55209.0              4.268647e+09   \n",
       "317545   3.366026e+10           139818.0              3.819471e+09   \n",
       "315705   3.366026e+10           125355.0              3.819471e+09   \n",
       "271653   3.365974e+10            46463.0              3.874037e+09   \n",
       "324088   3.366026e+10            21411.0              3.819471e+09   \n",
       "336366   3.366026e+10            32095.0              3.819471e+09   \n",
       "350743   3.376359e+10            64121.0              3.720868e+09   \n",
       "632695   3.366890e+10            72078.0              3.681533e+09   \n",
       "289363   3.366493e+10            63999.0              3.541304e+09   \n",
       "633940   3.369817e+10           304299.0              6.129228e+07   \n",
       "\n",
       "               RTT  Cluster  Experience_Score  \n",
       "289295  453.000000        1          1.410619  \n",
       "317545  540.000000        1          1.368198  \n",
       "315705  540.000000        1          1.359067  \n",
       "271653  108.000000        1          1.348134  \n",
       "324088  540.000000        1          1.342011  \n",
       "336366  540.000000        1          1.339764  \n",
       "350743  191.000000        1          1.324407  \n",
       "632695   61.000000        1          1.319803  \n",
       "289363  103.000000        1          1.297493  \n",
       "633940  360.917178        1          1.296043  "
      ]
     },
     "execution_count": 147,
     "metadata": {},
     "output_type": "execute_result"
    }
   ],
   "source": [
    "#Report the top 10 satisfied customers based on Experience_Score in experience_metrics\n",
    "top_10_satisfied_customers=experience_metrics.nlargest(10,'Experience_Score') \n",
    "top_10_satisfied_customers"
   ]
  },
  {
   "cell_type": "markdown",
   "metadata": {
    "id": "3Fy-ZChtnT8W"
   },
   "source": [
    "# Task 4.3 - Predicting Satisfaction\n"
   ]
  },
  {
   "cell_type": "markdown",
   "metadata": {
    "id": "uooetB0lnT11"
   },
   "source": [
    "#Build a regression model of your choice to predict the satisfaction score of a customer."
   ]
  },
  {
   "cell_type": "code",
   "execution_count": null,
   "metadata": {
    "id": "8WS4GU3XnTvJ"
   },
   "outputs": [],
   "source": [
    "from sklearn.model_selection import train_test_split\n",
    "from sklearn.linear_model import LinearRegression\n",
    "from sklearn.metrics import mean_absolute_error, mean_squared_error, r2_score\n"
   ]
  },
  {
   "cell_type": "code",
   "execution_count": null,
   "metadata": {
    "id": "LH8xEanUnToj"
   },
   "outputs": [],
   "source": [
    "# Step 1: Prepare the data\n",
    "# Combine engagement_metrics and experience_metrics DataFrames on 'MSISDN/Number'\n",
    "engagement_experience_metrics = pd.merge(engagement_metrics, experience_metrics[['MSISDN/Number', 'Experience_Score']], on='MSISDN/Number', how='left')\n",
    "\n",
    "# Now you can select both columns\n",
    "X = engagement_experience_metrics[['Engagement_Score', 'Experience_Score']]  # Features\n",
    "y = engagement_experience_metrics['Engagement_Score']  # Assuming you want to predict engagement"
   ]
  },
  {
   "cell_type": "code",
   "execution_count": null,
   "metadata": {
    "id": "4OPO3xEZnTio"
   },
   "outputs": [],
   "source": [
    "\n",
    "# Step 2: Split the data into training and testing sets\n",
    "X_train, X_test, y_train, y_test = train_test_split(X, y, test_size=0.2, random_state=42)\n"
   ]
  },
  {
   "cell_type": "code",
   "execution_count": null,
   "metadata": {
    "id": "X-YEAS5CnTaN"
   },
   "outputs": [],
   "source": [
    "\n",
    "# Step 3: Train the Linear Regression model\n",
    "regressor = LinearRegression()\n",
    "regressor.fit(X_train, y_train)\n"
   ]
  },
  {
   "cell_type": "code",
   "execution_count": null,
   "metadata": {
    "id": "n9SClaGmnTTJ"
   },
   "outputs": [],
   "source": [
    "\n",
    "# Step 4: Predict on the test set\n",
    "y_pred = regressor.predict(X_test)\n",
    "y_pred"
   ]
  },
  {
   "cell_type": "code",
   "execution_count": null,
   "metadata": {},
   "outputs": [],
   "source": [
    "\n",
    "# Step 5: Evaluate the model\n",
    "mae = mean_absolute_error(y_test, y_pred)\n",
    "mae"
   ]
  },
  {
   "cell_type": "code",
   "execution_count": null,
   "metadata": {},
   "outputs": [],
   "source": [
    "\n",
    "mse = mean_squared_error(y_test, y_pred)\n",
    "mse"
   ]
  },
  {
   "cell_type": "code",
   "execution_count": null,
   "metadata": {},
   "outputs": [],
   "source": [
    "r2 = r2_score(y_test, y_pred)\n",
    "r2"
   ]
  },
  {
   "cell_type": "code",
   "execution_count": null,
   "metadata": {},
   "outputs": [],
   "source": [
    "print(\"Model Performance Metrics:\")\n",
    "print(f\"Mean Absolute Error (MAE): {mae}\")\n",
    "print(f\"Mean Squared Error (MSE): {mse}\")\n",
    "print(f\"R² Score: {r2}\")\n",
    "\n",
    "# Optional: Display regression coefficients\n",
    "print(\"\\nRegression Coefficients:\")\n",
    "print(f\"Intercept: {regressor.intercept_}\")\n",
    "print(f\"Coefficients: {dict(zip(X.columns, regressor.coef_))}\")"
   ]
  },
  {
   "cell_type": "code",
   "execution_count": null,
   "metadata": {},
   "outputs": [],
   "source": [
    "accuracy=regressor.score(X_test,y_test)\n",
    "accuracy"
   ]
  },
  {
   "cell_type": "markdown",
   "metadata": {
    "id": "006D0r4OnTLM"
   },
   "source": [
    "# Task 4.4 - Clustering Satisfaction and Experience\n"
   ]
  },
  {
   "cell_type": "markdown",
   "metadata": {
    "id": "4DK5xqk-nS6C"
   },
   "source": [
    "Run k-means clustering (k=2) on engagement and experience scores."
   ]
  },
  {
   "cell_type": "code",
   "execution_count": 155,
   "metadata": {
    "id": "57KiHomknSV0"
   },
   "outputs": [],
   "source": [
    "from sklearn.cluster import KMeans\n",
    "import matplotlib.pyplot as plt\n",
    "import seaborn as sns\n",
    "\n",
    "\n",
    "# Step 1: Prepare data for clustering\n",
    "# Merge the 'Experience_Score' column into 'engagement_metrics'\n",
    "clustering_data = engagement_metrics.merge(experience_metrics[['MSISDN/Number', 'Experience_Score']], on='MSISDN/Number', how='left')\n",
    "# Step 1: Prepare data for clustering\n",
    "#clustering_data = engagement_metrics[['Engagement_Score', 'Experience_Score']]\n",
    "\n"
   ]
  },
  {
   "cell_type": "code",
   "execution_count": 156,
   "metadata": {},
   "outputs": [],
   "source": [
    "# Step 2: Apply K-Means clustering\n",
    "kmeans = KMeans(n_clusters=2, random_state=42)\n",
    "\n",
    "# Fit KMeans on the normalized data with selected features\n",
    "clustering_data['Cluster'] = kmeans.fit_predict(clustering_data[['Engagement_Score', 'Experience_Score']])\n",
    "\n",
    "# Aggregate cluster assignments to get one label per 'MSISDN/Number'\n",
    "cluster_assignments = clustering_data.groupby('MSISDN/Number')['Cluster'].first().reset_index()\n",
    "\n",
    "# Merge cluster assignments back into engagement_metrics\n",
    "engagement_metrics = engagement_metrics.merge(cluster_assignments, on='MSISDN/Number', how='left')"
   ]
  },
  {
   "cell_type": "code",
   "execution_count": 157,
   "metadata": {},
   "outputs": [],
   "source": [
    "# Step 3: Add cluster centers for visualization\n",
    "cluster_centers = kmeans.cluster_centers_"
   ]
  },
  {
   "cell_type": "code",
   "execution_count": 158,
   "metadata": {},
   "outputs": [
    {
     "name": "stdout",
     "output_type": "stream",
     "text": [
      "Cluster Labels Assigned:\n",
      "        MSISDN/Number  Engagement_Score  Experience_Score  Cluster\n",
      "0        3.360100e+10          1.005742          1.014739        1\n",
      "1        3.360100e+10          1.002329          1.014790        1\n",
      "2        3.360100e+10          1.004624          1.014378        1\n",
      "3        3.360101e+10          1.010869          1.014482        1\n",
      "4        3.360101e+10          1.005034          1.010813        1\n",
      "...               ...               ...               ...      ...\n",
      "652079   4.188282e+10          1.005881          0.124230        0\n",
      "652080   4.188282e+10          1.005881          0.124209        0\n",
      "652081   3.197020e+12          1.060685          1.014432        1\n",
      "652082   3.370000e+14          1.000307          1.014414        1\n",
      "652083   8.823970e+14          1.059171          1.014431        1\n",
      "\n",
      "[652084 rows x 4 columns]\n"
     ]
    }
   ],
   "source": [
    "# Step 4: Display cluster assignment\n",
    "# Ensure both 'Experience_Score' and 'Cluster' are in engagement_metrics\n",
    "engagement_metrics = engagement_metrics.merge(experience_metrics[['MSISDN/Number', 'Experience_Score', 'Cluster']], on='MSISDN/Number', how='left')\n",
    "print(\"Cluster Labels Assigned:\")\n",
    "print(engagement_metrics[['MSISDN/Number', 'Engagement_Score', 'Experience_Score', 'Cluster']])"
   ]
  },
  {
   "cell_type": "code",
   "execution_count": 159,
   "metadata": {},
   "outputs": [
    {
     "name": "stderr",
     "output_type": "stream",
     "text": [
      "C:\\Users\\Lenovo\\anaconda3\\Lib\\site-packages\\IPython\\core\\pylabtools.py:170: UserWarning: Creating legend with loc=\"best\" can be slow with large amounts of data.\n",
      "  fig.canvas.print_figure(bytes_io, **kw)\n"
     ]
    },
    {
     "data": {
      "image/png": "[encoded data removed]",
      "text/plain": [
       "<Figure size 800x600 with 1 Axes>"
      ]
     },
     "metadata": {},
     "output_type": "display_data"
    }
   ],
   "source": [
    "# Step 5: Visualize clusters (optional)\n",
    "plt.figure(figsize=(8, 6))\n",
    "sns.scatterplot(\n",
    "    x='Engagement_Score',\n",
    "    y='Experience_Score',\n",
    "    hue='Cluster',\n",
    "    palette='Set1',\n",
    "    data=engagement_metrics,\n",
    ")\n",
    "plt.scatter(cluster_centers[:, 0], cluster_centers[:, 1], c='black', marker='X', s=100, label='Centers')\n",
    "plt.title('K-Means Clustering (k=2)')\n",
    "plt.xlabel('Engagement Score')\n",
    "plt.ylabel('Experience Score')\n",
    "plt.legend(title='Cluster')\n",
    "plt.show()\n"
   ]
  },
  {
   "cell_type": "markdown",
   "metadata": {},
   "source": [
    "# Task 4.5 - Aggregate Scores per Cluster\n"
   ]
  },
  {
   "cell_type": "markdown",
   "metadata": {},
   "source": [
    "Aggregate the average satisfaction and experience scores per cluster."
   ]
  },
  {
   "cell_type": "code",
   "execution_count": 163,
   "metadata": {},
   "outputs": [
    {
     "name": "stdout",
     "output_type": "stream",
     "text": [
      "Average Satisfaction and Experience Scores per Cluster:\n",
      "   Cluster  Satisfaction_Score  Experience_Score  Engagement_Score\n",
      "0        0          230.598240          0.151748          1.005881\n",
      "1        1           29.298893          1.011583          1.005067\n",
      "2        2          230.598240          0.038085          1.005881\n",
      "3        3          230.598240          0.248038          1.005881\n"
     ]
    }
   ],
   "source": [
    "# Aggregate the average satisfaction and experience scores per cluster\n",
    "cluster_aggregates = engagement_metrics.groupby('Cluster')[['Satisfaction_Score', 'Experience_Score', 'Engagement_Score']].mean()\n",
    "\n",
    "# Reset the index for better readability\n",
    "cluster_aggregates = cluster_aggregates.reset_index()\n",
    "\n",
    "# Display the result\n",
    "print(\"Average Satisfaction and Experience Scores per Cluster:\")\n",
    "print(cluster_aggregates)\n"
   ]
  },
  {
   "cell_type": "code",
   "execution_count": 165,
   "metadata": {},
   "outputs": [],
   "source": [
    "output_path = 'cluster_aggregates.csv'\n",
    "cluster_aggregates.to_csv(output_path, index=False)"
   ]
  },
  {
   "cell_type": "code",
   "execution_count": null,
   "metadata": {},
   "outputs": [],
   "source": []
  },
  {
   "cell_type": "code",
   "execution_count": 166,
   "metadata": {},
   "outputs": [
    {
     "name": "stdout",
     "output_type": "stream",
     "text": [
      "Collecting mysql-connector-pythonNote: you may need to restart the kernel to use updated packages.\n",
      "\n",
      "  Downloading mysql_connector_python-9.2.0-cp312-cp312-win_amd64.whl.metadata (6.2 kB)\n",
      "Requirement already satisfied: pandas in c:\\users\\lenovo\\anaconda3\\lib\\site-packages (2.2.2)\n",
      "Requirement already satisfied: sqlalchemy in c:\\users\\lenovo\\anaconda3\\lib\\site-packages (2.0.34)\n",
      "Requirement already satisfied: numpy>=1.26.0 in c:\\users\\lenovo\\anaconda3\\lib\\site-packages (from pandas) (1.26.4)\n",
      "Requirement already satisfied: python-dateutil>=2.8.2 in c:\\users\\lenovo\\anaconda3\\lib\\site-packages (from pandas) (2.9.0.post0)\n",
      "Requirement already satisfied: pytz>=2020.1 in c:\\users\\lenovo\\anaconda3\\lib\\site-packages (from pandas) (2024.1)\n",
      "Requirement already satisfied: tzdata>=2022.7 in c:\\users\\lenovo\\anaconda3\\lib\\site-packages (from pandas) (2023.3)\n",
      "Requirement already satisfied: typing-extensions>=4.6.0 in c:\\users\\lenovo\\anaconda3\\lib\\site-packages (from sqlalchemy) (4.11.0)\n",
      "Requirement already satisfied: greenlet!=0.4.17 in c:\\users\\lenovo\\anaconda3\\lib\\site-packages (from sqlalchemy) (3.0.1)\n",
      "Requirement already satisfied: six>=1.5 in c:\\users\\lenovo\\anaconda3\\lib\\site-packages (from python-dateutil>=2.8.2->pandas) (1.16.0)\n",
      "Downloading mysql_connector_python-9.2.0-cp312-cp312-win_amd64.whl (16.1 MB)\n",
      "   ---------------------------------------- 0.0/16.1 MB ? eta -:--:--\n",
      "    --------------------------------------- 0.3/16.1 MB ? eta -:--:--\n",
      "   -- ------------------------------------- 1.0/16.1 MB 3.9 MB/s eta 0:00:04\n",
      "   ---- ----------------------------------- 1.8/16.1 MB 3.5 MB/s eta 0:00:05\n",
      "   ------ --------------------------------- 2.6/16.1 MB 3.8 MB/s eta 0:00:04\n",
      "   --------- ------------------------------ 3.7/16.1 MB 4.0 MB/s eta 0:00:04\n",
      "   ----------- ---------------------------- 4.7/16.1 MB 4.3 MB/s eta 0:00:03\n",
      "   ------------- -------------------------- 5.2/16.1 MB 4.1 MB/s eta 0:00:03\n",
      "   --------------- ------------------------ 6.3/16.1 MB 4.1 MB/s eta 0:00:03\n",
      "   ------------------ --------------------- 7.3/16.1 MB 4.2 MB/s eta 0:00:03\n",
      "   -------------------- ------------------- 8.4/16.1 MB 4.4 MB/s eta 0:00:02\n",
      "   ----------------------- ---------------- 9.4/16.1 MB 4.4 MB/s eta 0:00:02\n",
      "   --------------------------- ------------ 11.0/16.1 MB 4.6 MB/s eta 0:00:02\n",
      "   ------------------------------ --------- 12.3/16.1 MB 4.7 MB/s eta 0:00:01\n",
      "   --------------------------------- ------ 13.4/16.1 MB 4.7 MB/s eta 0:00:01\n",
      "   ------------------------------------ --- 14.7/16.1 MB 4.8 MB/s eta 0:00:01\n",
      "   ---------------------------------------  16.0/16.1 MB 4.9 MB/s eta 0:00:01\n",
      "   ---------------------------------------- 16.1/16.1 MB 4.8 MB/s eta 0:00:00\n",
      "Installing collected packages: mysql-connector-python\n",
      "Successfully installed mysql-connector-python-9.2.0\n"
     ]
    }
   ],
   "source": [
    "pip install mysql-connector-python pandas sqlalchemy\n"
   ]
  },
  {
   "cell_type": "code",
   "execution_count": 168,
   "metadata": {},
   "outputs": [],
   "source": [
    "# Convert data into a pandas DataFrame\n",
    "df = pd.DataFrame(cluster_aggregates)\n",
    "\n",
    "# Database connection details\n",
    "db_config = {\n",
    "    \"user\": \"root\",\n",
    "    \"password\": \"1234\",\n",
    "    \"host\": \"localhost\",\n",
    "    \"database\": \"cluster_aggregates.csv\",\n",
    "}\n",
    "\n"
   ]
  },
  {
   "cell_type": "code",
   "execution_count": 174,
   "metadata": {},
   "outputs": [
    {
     "name": "stdout",
     "output_type": "stream",
     "text": [
      "An error occurred: 'datainternet'\n"
     ]
    }
   ],
   "source": [
    "from sqlalchemy import create_engine  # Import the create_engine function\n",
    "\n",
    "try:\n",
    "    # Create a connection to the database using SQLAlchemy\n",
    "    engine = create_engine(f\"mysql+mysqlconnector://{db_config['user']}:{db_config['password']}@{db_config['host']}/{db_config['datainternet']}\")\n",
    "\n",
    "    # Table name in the MySQL database\n",
    "    table_name = \"user_engagement_data\"\n",
    "\n",
    "    # Export DataFrame to MySQL table\n",
    "    df.to_sql(table_name, con=engine, if_exists=\"replace\", index=False)\n",
    "    print(f\"Data exported successfully to the '{table_name}' table!\")\n",
    "\n",
    "except Exception as e:\n",
    "    print(f\"An error occurred: {e}\")\n"
   ]
  },
  {
   "cell_type": "code",
   "execution_count": null,
   "metadata": {},
   "outputs": [],
   "source": []
  },
  {
   "cell_type": "code",
   "execution_count": null,
   "metadata": {},
   "outputs": [],
   "source": []
  },
  {
   "cell_type": "code",
   "execution_count": null,
   "metadata": {},
   "outputs": [],
   "source": []
  }
 ],
 "metadata": {
  "colab": {
   "provenance": []
  },
  "kernelspec": {
   "display_name": "Python 3 (ipykernel)",
   "language": "python",
   "name": "python3"
  },
  "language_info": {
   "codemirror_mode": {
    "name": "ipython",
    "version": 3
   },
   "file_extension": ".py",
   "mimetype": "text/x-python",
   "name": "python",
   "nbconvert_exporter": "python",
   "pygments_lexer": "ipython3",
   "version": "3.12.7"
  }
 },
 "nbformat": 4,
 "nbformat_minor": 4
}
